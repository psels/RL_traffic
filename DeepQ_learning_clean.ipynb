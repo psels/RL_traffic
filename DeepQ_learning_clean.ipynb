{
 "cells": [
  {
   "cell_type": "code",
   "execution_count": 17,
   "metadata": {},
   "outputs": [
    {
     "name": "stdout",
     "output_type": "stream",
     "text": [
      "The autoreload extension is already loaded. To reload it, use:\n",
      "  %reload_ext autoreload\n"
     ]
    }
   ],
   "source": [
    "%load_ext autoreload\n",
    "%autoreload 2"
   ]
  },
  {
   "cell_type": "code",
   "execution_count": 28,
   "metadata": {},
   "outputs": [],
   "source": [
    "from state import get_state, queue\n",
    "import os\n",
    "import traci"
   ]
  },
  {
   "cell_type": "code",
   "execution_count": 41,
   "metadata": {},
   "outputs": [
    {
     "name": "stdout",
     "output_type": "stream",
     "text": [
      "nets/LucasAlegre sumo-rl main sumo_rl-nets/Nguyen/nguyen.sumocfg\n"
     ]
    }
   ],
   "source": [
    "from dotenv import load_dotenv\n",
    "load_dotenv()\n",
    "\n",
    "\n",
    "sumo_bin = os.getenv(\"SUMO\")\n",
    "sumo_gui_bin = os.getenv(\"SUMO-GUI\")\n",
    "simulConfig = os.getenv(\"SIMUL-CONFIG2\")\n",
    "\n",
    "print(simulConfig)"
   ]
  },
  {
   "cell_type": "code",
   "execution_count": 20,
   "metadata": {},
   "outputs": [],
   "source": [
    "import numpy as np\n",
    "\n",
    "from tensorflow.keras import Sequential, layers\n",
    "from tensorflow.random import set_seed\n",
    "from collections import deque\n",
    "from tensorflow import keras\n",
    "from tensorflow import reduce_sum, reduce_mean, one_hot, GradientTape\n",
    "from tensorflow.keras.losses import MeanSquaredError\n",
    "import matplotlib.pyplot as plt\n",
    "import tensorflow as tf"
   ]
  },
  {
   "cell_type": "code",
   "execution_count": 21,
   "metadata": {},
   "outputs": [],
   "source": [
    "set_seed(42)  # extra code – ensures reproducibility on the CPU\n",
    "\n",
    "input_shape = [48]  # == env.observation_space.shape\n",
    "n_outputs = 4  # == env.action_space.n\n",
    "#[((Phase(duration=30.0, state='GGrGrrGGrGrr', minDur=30.0, maxDur=30.0), Phase(duration=20.0, state='grGgrrgrGgrr', minDur=20.0, maxDur=20.0), Phase(duration=30.0, state='GrrGGrGrrGGr', minDur=30.0, maxDur=30.0), Phase(duration=20.0, state='grrgrGgrrgrG', minDur=20.0, maxDur=20.0)), [0, 2, 4, 6])]\n",
    "model_action = Sequential([\n",
    "    layers.Dense(32,activation=tf.keras.layers.LeakyReLU(alpha=0.01), input_shape=input_shape),\n",
    "    layers.Dense(32, activation=tf.keras.layers.LeakyReLU(alpha=0.01)),\n",
    "    layers.Dense(n_outputs, activation= 'linear')])"
   ]
  },
  {
   "cell_type": "code",
   "execution_count": 22,
   "metadata": {},
   "outputs": [],
   "source": [
    "def epsilon_greedy_policy(state, epsilon=0):\n",
    "    if np.random.rand() < epsilon:\n",
    "        return np.random.randint(n_outputs)  # random action\n",
    "    else:\n",
    "        Q_values = model_action.predict(state[np.newaxis], verbose=0)[0]\n",
    "        print(f\"state : {state}\")\n",
    "        print(f\"Q_values : {Q_values}\")\n",
    "        return Q_values.argmax()  # optimal action according to the DQN"
   ]
  },
  {
   "cell_type": "code",
   "execution_count": 23,
   "metadata": {},
   "outputs": [],
   "source": [
    "def sample_experiences(batch_size):\n",
    "    indices = np.random.randint(len(replay_buffer), size=batch_size)\n",
    "    batch = [replay_buffer[index] for index in indices]\n",
    "    states, actions, rewards, next_states = [\n",
    "        np.array([experience[field_index] for experience in batch])\n",
    "        for field_index in range(4)\n",
    "    ]\n",
    "    return states, actions, rewards, next_states"
   ]
  },
  {
   "cell_type": "code",
   "execution_count": 24,
   "metadata": {},
   "outputs": [],
   "source": [
    "batch_size = 32\n",
    "discount_factor = 0.5\n",
    "optimizer = keras.optimizers.Adam(learning_rate=0.05)\n",
    "loss_fn = MeanSquaredError()\n",
    "\n",
    "def training_step(batch_size):\n",
    "    experiences = sample_experiences(batch_size)\n",
    "    states, actions, rewards, next_states = experiences  # a changer\n",
    "    next_Q_values = model_action.predict(next_states, verbose=0)\n",
    "    max_next_Q_values = next_Q_values.max(axis=1)\n",
    "    # runs = 1.0 - (dones | truncateds)  # episode is not done or truncated\n",
    "    target_Q_values = rewards + discount_factor * max_next_Q_values\n",
    "    target_Q_values = target_Q_values.reshape(-1, 1)\n",
    "    mask = one_hot(actions, n_outputs)\n",
    "    with GradientTape() as tape:\n",
    "        all_Q_values = model_action(states)\n",
    "        Q_values = reduce_sum(all_Q_values * mask, axis=1, keepdims=True)\n",
    "        loss = reduce_mean(loss_fn(target_Q_values, Q_values))\n",
    "\n",
    "    grads = tape.gradient(loss, model_action.trainable_variables)\n",
    "    optimizer.apply_gradients(zip(grads, model_action.trainable_variables))"
   ]
  },
  {
   "cell_type": "code",
   "execution_count": null,
   "metadata": {},
   "outputs": [
    {
     "name": "stderr",
     "output_type": "stream",
     "text": [
      "Warning: Environment variable SUMO_HOME is not set properly, disabling XML validation. Set 'auto' or 'always' for web lookups.\n"
     ]
    },
    {
     "name": "stdout",
     "output_type": "stream",
     "text": [
      " Retrying in 1 seconds\n",
      "Step #720.00 (2ms ~= 10.00*RT, ~577000.00UPS, TraCI: 0ms, vehicles TOT 1839 ACT 577 BUF 46 #180.00 (0ms ?*RT. ?UPS, TraCI: 8ms, vehicles TOT 485 ACT 254 BUF 178)               0.00 (1ms ~= 10.00*RT, ~379000.00UPS, TraCI: 7ms, vehicles TOT 970 ACT 379 BUF 389 (1ms ~= 10.00*RT, ~490000.00UPS, TraCI: 7ms, vehicles TOT 1434 ACT 490 BUF 62episode : 0\n",
      "Step #800.00 (2ms ~= 5.00*RT, ~306000.00UPS, TraCI: 0ms, vehicles TOT 2011 ACT 612 BUF 289\n",
      " Retrying in 1 seconds\n"
     ]
    },
    {
     "name": "stderr",
     "output_type": "stream",
     "text": [
      "Warning: Environment variable SUMO_HOME is not set properly, disabling XML validation. Set 'auto' or 'always' for web lookups.\n"
     ]
    },
    {
     "name": "stdout",
     "output_type": "stream",
     "text": [
      "state : [ 0 18  4  0 24  0  0 17 10  0 20  0  0  0  0  0  0  0  0  0  0  0  0  0\n",
      "  7 25 13  9 31 10  7 24 15  9 28 11  3  2 13  4  0  0  4  2 13  8  0  0]\n",
      "Q_values : [-6.094483   5.292813  -3.7523992  4.2365594]\n",
      "Step #720.00 (1ms ~= 5.00*RT, ~345500.00UPS, TraCI: 0ms, vehicles TOT 1844 ACT 691 BUF 558episode : 1\n",
      "Step #800.00 (1ms ~= 10.00*RT, ~694000.00UPS, TraCI: 0ms, vehicles TOT 1951 ACT 694 BUF 45\n",
      " Retrying in 1 seconds\n"
     ]
    },
    {
     "name": "stderr",
     "output_type": "stream",
     "text": [
      "Warning: Environment variable SUMO_HOME is not set properly, disabling XML validation. Set 'auto' or 'always' for web lookups.\n"
     ]
    },
    {
     "name": "stdout",
     "output_type": "stream",
     "text": [
      "state : [ 0  0 49  0 26 19  0  0 57  0 26 23  0  0  0  0  0  0  0  0  0  0  0  0\n",
      " 10  5 55 10 45 24 11 10 60  6 59 30  7  6  4  2  1  0  6  6  7  2  0  0]\n",
      "Q_values : [-13.599979   14.87446    -0.9381483   8.9843445]\n",
      "state : [ 0 43 43  0 21  0  0 41 38 20 39  6  0  0  0  0  0  0  0  0  0  0  0  0\n",
      "  7 51 65  8 66 53  6 47 74 37 69 55  4  1  9  2  2  1  0  0  9  5  4  0]\n",
      "Q_values : [-6.304126  12.150341   7.3553023  9.31376  ]\n",
      "Step #720.00 (1ms ~= 10.00*RT, ~661000.00UPS, TraCI: 0ms, vehicles TOT 1852 ACT 661 BUF 51episode : 2\n",
      "Step #800.00 (1ms ~= 10.00*RT, ~655000.00UPS, TraCI: 0ms, vehicles TOT 1976 ACT 655 BUF 38\n",
      " Retrying in 1 seconds\n"
     ]
    },
    {
     "name": "stderr",
     "output_type": "stream",
     "text": [
      "Warning: Environment variable SUMO_HOME is not set properly, disabling XML validation. Set 'auto' or 'always' for web lookups.\n"
     ]
    },
    {
     "name": "stdout",
     "output_type": "stream",
     "text": [
      "state : [ 1 30 58  0 17 22  6 28 62  3 29 34  0  0  0  0  0  0  0  0  0  0  0  0\n",
      " 10 70 66 10 51 55 13 55 67 21 57 71  4  4  3  6  4  5  0  0  5  6 10  2]\n",
      "Q_values : [-6.3767114  6.0758324 10.571052   6.893047 ]\n",
      "Step #720.00 (1ms ~= 10.00*RT, ~640000.00UPS, TraCI: 0ms, vehicles TOT 1904 ACT 640 BUF 49episode : 3\n",
      "Step #800.00 (1ms ~= 10.00*RT, ~644000.00UPS, TraCI: 1ms, vehicles TOT 2013 ACT 644 BUF 38\n",
      " Retrying in 1 seconds\n"
     ]
    },
    {
     "name": "stderr",
     "output_type": "stream",
     "text": [
      "Warning: Environment variable SUMO_HOME is not set properly, disabling XML validation. Set 'auto' or 'always' for web lookups.\n"
     ]
    },
    {
     "name": "stdout",
     "output_type": "stream",
     "text": [
      "state : [57 79  0  0 18 27  1 82  0  0 24 27  0  0  0  0  0  0  0  0  0  0  0  0\n",
      " 65 79 50  6 28 42 16 82 52 12 31 31  1  0  0  3  1 14  3  0  0  0  0 12]\n",
      "Q_values : [ 2.3924289  2.5368636 -9.938291  14.59186  ]\n",
      "state : [25 61 17  0 57 28 23 38 15  0 48 22  0  0  0  0  0  0  0  0  0  0  0  0\n",
      " 38 70 41  7 63 50 42 68 58  9 50 43  3  0  9  0  1  2  5  0  8  6  2  6]\n",
      "Q_values : [-1.9955777  7.751885  -7.888639   9.788451 ]\n",
      "Step #720.00 (1ms ~= 10.00*RT, ~593000.00UPS, TraCI: 1ms, vehicles TOT 1758 ACT 593 BUF 60episode : 4\n",
      "Step #800.00 (1ms ~= 10.00*RT, ~631000.00UPS, TraCI: 1ms, vehicles TOT 1914 ACT 631 BUF 44\n",
      " Retrying in 1 seconds\n"
     ]
    },
    {
     "name": "stderr",
     "output_type": "stream",
     "text": [
      "Warning: Environment variable SUMO_HOME is not set properly, disabling XML validation. Set 'auto' or 'always' for web lookups.\n"
     ]
    },
    {
     "name": "stdout",
     "output_type": "stream",
     "text": [
      "state : [0 0 0 0 0 0 0 0 0 0 0 0 0 0 0 0 0 0 0 0 0 0 0 0 4 3 3 4 6 4 4 4 4 5 2 1 0\n",
      " 0 0 0 0 0 0 0 0 0 0 0]\n",
      "Q_values : [ 0.34451404 -0.46112332  0.962124   -0.58770883]\n",
      "state : [ 0  2  2  0  0  1  0  0  2  0  0  0  0  0  0  0  0  0  0  0  0  0  0  0\n",
      "  6  8  6  5  6  8 10  7  9  8  3  5  3  0  0  0  2  0  1  0  0  2  2  0]\n",
      "Q_values : [ 0.5051501  -0.47139037  1.6179893  -0.7659285 ]\n",
      "state : [ 0  9  9  0  2  0  0  9 10  0  2  0  0  0  0  0  0  0  0  0  0  0  0  0\n",
      "  6 19 16 10  7  7  8 16 14  8  9  7  4  1  9  8  0  0  3  2  9  3  1  0]\n",
      "Q_values : [-1.2827176  1.263633   1.131655  -0.7028293]\n",
      "state : [ 0 28  5  0 30 11  0 22 14  0 42 10  0  0  0  0  0  0  0  0  0  0  0  0\n",
      "  9 48  8 10 35 20 13 37 17  8 52 19  2  1  1  4  0  9  2  2  4  3  1  3]\n",
      "Q_values : [-8.310571  3.094231 -9.591386 11.430808]\n",
      "state : [ 0 64 37  0 19  0  8 61 56 10 26 21  0  0  0  0  0  0  0  0  0  0  0  0\n",
      "  4 71 43  7 36 17 18 65 58 18 54 53  0  4 14  0  0  0  0  1 13  3  1  0]\n",
      "Q_values : [-12.594195    7.045262   -2.9013486  14.265627 ]\n",
      "Step #720.00 (2ms ~= 10.00*RT, ~700000.00UPS, TraCI: 0ms, vehicles TOT 1750 ACT 700 BUF 62episode : 5\n",
      "Step #800.00 (1ms ~= 10.00*RT, ~695000.00UPS, TraCI: 0ms, vehicles TOT 1857 ACT 695 BUF 51\n",
      " Retrying in 1 seconds\n"
     ]
    },
    {
     "name": "stderr",
     "output_type": "stream",
     "text": [
      "Warning: Environment variable SUMO_HOME is not set properly, disabling XML validation. Set 'auto' or 'always' for web lookups.\n"
     ]
    },
    {
     "name": "stdout",
     "output_type": "stream",
     "text": [
      "state : [ 0  0  2  0  0  0  0  1  1  0  3  0  0  0  0  0  0  0  0  0  0  0  0  0\n",
      "  8  7  8  9 11  6  8  9  7  7 11  5  1  0  2  2  0  0  0  0  2  2  0  0]\n",
      "Q_values : [-0.02421779  0.6698812   1.4019705  -1.6431831 ]\n",
      "state : [ 0  4  8  0  0  6  0  5  5  0  0  2  0  0  0  0  0  0  0  0  0  0  0  0\n",
      "  6 14 12  8  7  9  7 13 12  6 10  6  5  0  0  4  7  0  3  1  2  3  6  3]\n",
      "Q_values : [-0.20410775  0.201134    2.000551    1.345714  ]\n",
      "state : [ 0 23 65  6 69  9  0 49 54  0 59 10  0  0  0  0  0  0  0  0  0  0  0  0\n",
      " 14 59 75 21 79 43 11 65 72  9 67 39  0  1  3  5  0  7  5  1  3  8  3  9]\n",
      "Q_values : [-18.421074   17.000956   -5.0438256  24.226849 ]\n",
      "Step #720.00 (1ms ~= 5.00*RT, ~335000.00UPS, TraCI: 0ms, vehicles TOT 1815 ACT 670 BUF 626episode : 6\n",
      "Step #800.00 (1ms ~= 10.00*RT, ~698000.00UPS, TraCI: 0ms, vehicles TOT 1971 ACT 698 BUF 47\n",
      " Retrying in 1 seconds\n"
     ]
    },
    {
     "name": "stderr",
     "output_type": "stream",
     "text": [
      "Warning: Environment variable SUMO_HOME is not set properly, disabling XML validation. Set 'auto' or 'always' for web lookups.\n"
     ]
    },
    {
     "name": "stdout",
     "output_type": "stream",
     "text": [
      "state : [ 0 33 42  0  0 11  0 34 44  0  0 17  0  0  0  0  0  0  0  0  0  0  0  0\n",
      "  6 42 51 10 28 18  9 36 53 10 24 22  5  0  0  0 10  3  3  0  0  3  7  5]\n",
      "Q_values : [-3.8494158  4.189883   4.187668  12.724772 ]\n",
      "state : [ 0 41 51  0 12  0  0 35 55  0  9  0  0  0  0  0  0  0  0  0  0  0  0  0\n",
      "  6 48 55 11 35 13  7 39 58 10 28 16  3  0  8  5  0  0  6  0  9  0  2  3]\n",
      "Q_values : [-8.804489   8.619517   0.6439581 14.386765 ]\n",
      "state : [ 1 10 62  0 44  0  1 10 68  0 31  0  0  0  0  0  0  0  0  0  0  0  0  0\n",
      " 14 47 66 12 54  2  9 40 72 13 32 17  1  2  7  6  0  0  5  3  9  4  0  0]\n",
      "Q_values : [-14.233118  11.002684   1.196397  11.673625]\n",
      "state : [13 37 94  0 42 12 23 80 74  0 36 10  0  0  0  0  0  0  0  0  0  0  0  0\n",
      " 26 78 94  6 68 38 32 80 74 11 42 35  3  0  3  0  0  0  3  6  7  1  0  0]\n",
      "Q_values : [-2.6990094  14.333237    0.19651027 17.808825  ]\n",
      "Step #720.00 (2ms ~= 10.00*RT, ~627000.00UPS, TraCI: 0ms, vehicles TOT 1765 ACT 627 BUF 69state : [13 66 82  4 13 33 15 67 63  0  0 38  0  0  0  0  0  0  0  0  0  0  0  0\n",
      " 30 85 90 20 46 61 19 77 73  8 30 52  0  0  0  6 10  4  4  0  0  0  4  0]\n",
      "Q_values : [-3.72848    4.6016736  8.242716  17.205992 ]\n",
      "episode : 7\n",
      "Step #800.00 (1ms ~= 10.00*RT, ~627000.00UPS, TraCI: 0ms, vehicles TOT 1914 ACT 627 BUF 54\n",
      " Retrying in 1 seconds\n"
     ]
    },
    {
     "name": "stderr",
     "output_type": "stream",
     "text": [
      "Warning: Environment variable SUMO_HOME is not set properly, disabling XML validation. Set 'auto' or 'always' for web lookups.\n"
     ]
    },
    {
     "name": "stdout",
     "output_type": "stream",
     "text": [
      "state : [ 0  1  0  0 11  6  0  6  0  0  6  7  0  0  0  0  0  0  0  0  0  0  0  0\n",
      "  8  7  3  7 21 12  6 15  6  9 10 18  8  0  0  5  0  9  2  0  0  3  3 11]\n",
      "Q_values : [-4.8109636  0.5505214 10.753406   9.234497 ]\n",
      "state : [ 0 62 11  0 40  0  0 60 11  0 40 20  0  0  0  0  0  0  0  0  0  0  0  0\n",
      " 11 65 37  9 46 11  6 69 44 10 45 24  5  0  4  4  1  2  3  0 10  3  2  3]\n",
      "Q_values : [ 13.32234   -25.03302    -9.543266   -4.8167925]\n",
      "state : [ 1 20 38  0 55  9  3  0 55  4 57 31  0  0  0  0  0  0  0  0  0  0  0  0\n",
      " 11 60 59 10 60 17 17 55 59  8 64 37  3  8  2  0  0  0  0  3  4  0  0  0]\n",
      "Q_values : [-16.749458   -2.4560275  12.116528   13.912116 ]\n",
      "state : [11 82 45  0  5  0  0 67 43  0 11  1  0  0  0  0  0  0  0  0  0  0  0  0\n",
      " 19 82 45 11 54 22 12 85 67 13 49 60  4  0  9  2  0  0 10  0  6  0  0  0]\n",
      "Q_values : [14.819274   5.410816   4.1161437 -2.9536338]\n",
      "state : [16 64 50  0 30  0 30 75 77  9 50 14  0  0  0  0  0  0  0  0  0  0  0  0\n",
      " 30 82 72 10 71 18 37 80 77 21 76 43  3  2 12  1  0  0  3  0 11  0  0  0]\n",
      "Q_values : [  9.368894   4.926943  -9.370997 -14.478604]\n",
      "Step #720.00 (2ms ~= 10.00*RT, ~651000.00UPS, TraCI: 0ms, vehicles TOT 1785 ACT 651 BUF 66episode : 8\n",
      "Step #800.00 (2ms ~= 5.00*RT, ~341500.00UPS, TraCI: 0ms, vehicles TOT 1899 ACT 683 BUF 554\n",
      " Retrying in 1 seconds\n"
     ]
    },
    {
     "name": "stderr",
     "output_type": "stream",
     "text": [
      "Warning: Environment variable SUMO_HOME is not set properly, disabling XML validation. Set 'auto' or 'always' for web lookups.\n"
     ]
    },
    {
     "name": "stdout",
     "output_type": "stream",
     "text": [
      "state : [ 0 26  0  0 30 24  0 19  0  0 26 30  0  0  0  0  0  0  0  0  0  0  0  0\n",
      "  8 36 12  6 38 33  8 21  6  5 32 34  4  0  0  3  0  2  6  1  0  3  2  8]\n",
      "Q_values : [  6.032797   2.715097  23.167719 -21.185078]\n",
      "state : [ 0 32  8  0 10 32  0 21  5  0  4 33  0  0  0  0  0  0  0  0  0  0  0  0\n",
      "  7 42 22  7 31 37  8 26 10 11 25 39  3  0  0  4  6  0  1  1  0  4  6  3]\n",
      "Q_values : [ -5.496022   -4.7248316   5.602835  -14.341039 ]\n",
      "state : [ 0 39 19  0  0 37  0 24  6  1  0 39  0  0  0  0  0  0  0  0  0  0  0  0\n",
      " 11 44 26  9 22 41  7 30 13 12 16 44  2  0  0  5  8  6  5  0  0  1  9  8]\n",
      "Q_values : [ -7.6459556  -2.8762965   2.741681  -13.178048 ]\n",
      "state : [14 50 47  0 32 11  0  6 37  0 24 10  0  0  0  0  0  0  0  0  0  0  0  0\n",
      " 36 68 48  9 38 39 10 47 44  9 30 44  5  7  7  4  0  0  5  7  6  3  0  0]\n",
      "Q_values : [-6.2992296 -3.0323963 -7.5597916 -2.6169643]\n",
      "state : [10 41 64  0 49 11 10 43 66  0 31 13  0  0  0  0  0  0  0  0  0  0  0  0\n",
      " 18 68 80  5 64 30 16 57 76  8 51 46  2  3  7  0  7  1  4  0  3  0  9  2]\n",
      "Q_values : [ -5.834724   -0.6428716 -14.842447  -11.328479 ]\n",
      "state : [15 60 41  0 11 26 13 58 39  0 12 27  0  0  0  0  0  0  0  0  0  0  0  0\n",
      " 23 74 70 11 55 44 20 64 70 10 56 50  4  0  0  0  3 10  5  0  0  0  0  7]\n",
      "Q_values : [ -0.25911218  13.994671   -14.975461    -4.25699   ]\n",
      "state : [18 70 18  2 35 32 16 66 22  2 26 43  0  0  0  0  0  0  0  0  0  0  0  0\n",
      " 29 78 61 16 65 43 24 71 61 16 62 53  1  0  0  0  0 12  4  0  0  0  1 12]\n",
      "Q_values : [-11.7161255  -9.607113  -16.608154  -14.715237 ]\n",
      "state : [25 82 10 12 52 42 21 72 12  8 44 53  0  0  0  0  0  0  0  0  0  0  0  0\n",
      " 34 86 50 23 71 42 27 75 51 17 67 58  0  0  0  0  1 13  0  0  0  0  0 13]\n",
      "Q_values : [11.1698065 -6.1033835 12.7242365 -5.832051 ]\n",
      "state : [32 88 11 20 70 39 26 77 10  0 36 58  0  0  0  0  0  0  0  0  0  0  0  0\n",
      " 39 88 51 29 75 46 33 78 52 11 65 61  0  0  0  0  6  3  5  1  0  0  0  3]\n",
      "Q_values : [12.599556  -5.7251472 15.015072  -5.277937 ]\n",
      "state : [39 79 19 45 73 50 46 69 17  2  6 72  0  0  0  0  0  0  0  0  0  0  0  0\n",
      " 49 83 55 48 77 50 54 79 55 21 45 77  0  0  0  0  5  9  2  0  0  0  0  2]\n",
      "Q_values : [ 6.675965  18.386908   6.374899  -4.2935905]\n",
      "Step #720.00 (2ms ~= 10.00*RT, ~713000.00UPS, TraCI: 0ms, vehicles TOT 1832 ACT 713 BUF 57state : [47 57 28 47 77 50 32 30 25  0 29 87  0  0  0  0  0  0  0  0  0  0  0  0\n",
      " 62 75 45 55 77 50 51 63 53  9 63 87  0  7  1  8  0  0  4  9  2  5  0  0]\n",
      "Q_values : [ 2.0904965 27.121778  -0.6627775 -6.4959   ]\n",
      "episode : 9\n",
      "Step #800.00 (1ms ~= 10.00*RT, ~735000.00UPS, TraCI: 0ms, vehicles TOT 1954 ACT 735 BUF 45\n",
      " Retrying in 1 seconds\n"
     ]
    },
    {
     "name": "stderr",
     "output_type": "stream",
     "text": [
      "Warning: Environment variable SUMO_HOME is not set properly, disabling XML validation. Set 'auto' or 'always' for web lookups.\n"
     ]
    },
    {
     "name": "stdout",
     "output_type": "stream",
     "text": [
      "state : [0 0 0 0 0 0 0 0 0 0 0 0 0 0 0 0 0 0 0 0 0 0 0 0 0 0 0 0 0 0 0 0 0 0 0 0 0\n",
      " 0 0 0 0 0 0 0 0 0 0 0]\n",
      "Q_values : [-2.2310507 -1.5554996 -1.91351   -3.120882 ]\n",
      "state : [ 0 10  7  0 17  0  0 12 10  0 21  0  0  0  0  0  0  0  0  0  0  0  0  0\n",
      "  6 15 14  6 20 10  9 18 17  8 28 15  5  0  7  6  0  5  4  0 10  5  0  5]\n",
      "Q_values : [ -0.12824172 -12.313528     2.5225294   -8.951771  ]\n",
      "state : [ 0 53 16  0  0 24 19 40 31  0 14 26  0  0  0  0  0  0  0  0  0  0  0  0\n",
      "  6 61 47  8 20 35 27 44 61 10 36 34  6  0  0  0  6  6  7  3  0  5  6  5]\n",
      "Q_values : [-20.383364 -13.686585 -31.403608 -13.959698]\n",
      "state : [ 6 77 43  0  8 10 35 59 42  0 24 10  0  0  0  0  0  0  0  0  0  0  0  0\n",
      " 18 81 53 13 26 33 42 62 65 13 45 35  6  1  5  0  8  2  6  0  4  0  8  0]\n",
      "Q_values : [-23.034363 -14.200355 -41.357937 -21.707367]\n",
      "state : [ 7 42 27  0 13 41 25 51 28  0 12 44  0  0  0  0  0  0  0  0  0  0  0  0\n",
      " 30 72 60  9 25 46 42 69 69  7 50 50  3 10  2  6  2  0  5  5  5  3  3  3]\n",
      "Q_values : [-34.126087 -18.394156 -54.50625  -31.715855]\n",
      "state : [ 6 18 28  0 26 48  4 10 18  0 46 53  0  0  0  0  0  0  0  0  0  0  0  0\n",
      " 23 67 64 10 28 50 38 61 66  8 59 55  3  6  1  6  4  5  4  6  2  6  4  4]\n",
      "Q_values : [-39.352974 -29.829502 -35.26143  -28.786062]\n",
      "state : [ 0 18 46  0 33 11  0 17 58  1 74 12  0  0  0  0  0  0  0  0  0  0  0  0\n",
      " 22 68 73 11 37 41 28 61 77  6 78 44  6  5  6  8  1  3  5  9  8  6  0  0]\n",
      "Q_values : [-2.3623796 44.538574  22.543444  -7.356899 ]\n",
      "state : [ 5 57 46  0 11 55 12 49 43  9 17 50  0  0  0  0  0  0  0  0  0  0  0  0\n",
      " 27 74 54  8 45 60 30 74 64 19 62 64  4  7  0  2  0  0  2  7  3  4  1  0]\n",
      "Q_values : [6.6952395 4.5330763 9.122763  3.3255715]\n",
      "Step #720.00 (2ms ~= 10.00*RT, ~614000.00UPS, TraCI: 0ms, vehicles TOT 1853 ACT 614 BUF 51state : [ 4 42 40  0  0 63  1 36 55 17 41 50  0  0  0  0  0  0  0  0  0  0  0  0\n",
      " 27 74 56 10 38 67 26 71 69 25 68 65  3  2  1  8  5  0  0  0  0  7  8  4]\n",
      "Q_values : [ 3.2732522  -2.0844657   3.908286    0.56833696]\n",
      "episode : 10\n",
      "Step #800.00 (1ms ~= 10.00*RT, ~684000.00UPS, TraCI: 0ms, vehicles TOT 2058 ACT 684 BUF 30\n",
      " Retrying in 1 seconds\n"
     ]
    },
    {
     "name": "stderr",
     "output_type": "stream",
     "text": [
      "Warning: Environment variable SUMO_HOME is not set properly, disabling XML validation. Set 'auto' or 'always' for web lookups.\n"
     ]
    },
    {
     "name": "stdout",
     "output_type": "stream",
     "text": [
      "state : [ 0  5  0  0  0  5  0  4  0  0  5  2  0  0  0  0  0  0  0  0  0  0  0  0\n",
      " 10 13  3 10  9 10  8 10  4 11 14 10  4  1  0  2  0  8  2  0  0  4  0  7]\n",
      "Q_values : [-0.8094551 -2.5784538 -2.4061575 -2.5574718]\n",
      "state : [ 0  7 19  0 14  0  0 13 16  0 22  0  0  0  0  0  0  0  0  0  0  0  0  0\n",
      " 13 11 21  8 23  6  8 19 20 13 25  2  1  3  8  6  0  0  4  2  6  3  0  0]\n",
      "Q_values : [-3.0320492   0.35004896 -5.5577173  -4.0040283 ]\n",
      "state : [ 0  0 17  0 44 39  0  0 17  0 40 24  0  0  0  0  0  0  0  0  0  0  0  0\n",
      "  7  2 24  6 54 45  6 26 23 11 45 30  2  6  5  4  0  0  3  5  4  6  0  0]\n",
      "Q_values : [ 2.070064   3.760995   3.2254872 -8.053494 ]\n",
      "state : [ 0  0  0  0 54 45  0 11  0  0 44 30  0  0  0  0  0  0  0  0  0  0  0  0\n",
      "  6  4 19 12 56 47  9 30 18 11 47 33  3  1  0  3  1  7  5  1  0  5  0  8]\n",
      "Q_values : [ 1.3991531  2.960246   1.1481061 -9.112468 ]\n",
      "state : [ 0 15 27 11 40 44  0 30 24  0  2 46  0  0  0  0  0  0  0  0  0  0  0  0\n",
      "  7 19 53 27 59 55 10 35 49 38 55 63  5  0  0  5  7  6  7  1  0  1 11  4]\n",
      "Q_values : [ -7.517519 -14.200695 -14.466978  -6.79767 ]\n",
      "state : [ 0 12 30 16 19 26  0 40 26  0 24 32  0  0  0  0  0  0  0  0  0  0  0  0\n",
      " 13 24 51 29 52 64  7 50 47 26 67 59  0  0  2  4  0  7  7  3  4  3  0  6]\n",
      "Q_values : [ -7.489783 -15.371271 -13.712939  -7.177781]\n",
      "state : [ 1 26 31 18 40 24  0 55 27  9 36 12  0  0  0  0  0  0  0  0  0  0  0  0\n",
      "  5 35 62 31 64 52  7 61 54 23 73 54  5  1  3  4  6  1  2  3  4  7  7  1]\n",
      "Q_values : [ -9.525778 -22.059881 -18.096712 -10.070192]\n",
      "state : [11 37 48 13 21 54  7 43 31  9 22 68  0  0  0  0  0  0  0  0  0  0  0  0\n",
      " 17 45 64 25 58 70 14 70 58 25 68 69  4  3  1  0  0  8  3  2  2  0  0 10]\n",
      "Q_values : [-23.567307 -17.16315  -54.370747 -39.83116 ]\n",
      "Step #720.00 (2ms ~= 10.00*RT, ~658000.00UPS, TraCI: 0ms, vehicles TOT 1809 ACT 658 BUF 54state : [36 49  0 44 76 63 33 84  0 38 48 40  0  0  0  0  0  0  0  0  0  0  0  0\n",
      " 44 74 28 56 78 63 38 84 22 44 80 72  0  0  0  0  0 13  0  0  0  0  1 12]\n",
      "Q_values : [ 10.286711    3.9142327   4.0809402 -10.6374   ]\n",
      "episode : 11\n",
      "Step #800.00 (1ms ~= 10.00*RT, ~719000.00UPS, TraCI: 1ms, vehicles TOT 1955 ACT 719 BUF 40\n",
      " Retrying in 1 seconds\n"
     ]
    },
    {
     "name": "stderr",
     "output_type": "stream",
     "text": [
      "Warning: Environment variable SUMO_HOME is not set properly, disabling XML validation. Set 'auto' or 'always' for web lookups.\n"
     ]
    },
    {
     "name": "stdout",
     "output_type": "stream",
     "text": [
      "state : [0 0 0 0 0 0 0 0 0 0 0 0 0 0 0 0 0 0 0 0 0 0 0 0 0 0 0 0 0 0 0 0 0 0 0 0 0\n",
      " 0 0 0 0 0 0 0 0 0 0 0]\n",
      "Q_values : [-3.2139156 -4.280828  -2.6976805 -3.518517 ]\n",
      "state : [0 0 0 0 0 0 0 0 0 0 0 0 0 0 0 0 0 0 0 0 0 0 0 0 5 5 1 7 3 3 6 6 3 4 3 1 0\n",
      " 0 0 0 0 0 0 0 0 0 1 0]\n",
      "Q_values : [-7.23472   -8.8595085 -7.0968513 -4.8339696]\n",
      "state : [ 0  6  0  0  7  1  0  6  0  0  5  3  0  0  0  0  0  0  0  0  0  0  0  0\n",
      " 12 10  6  5 13  6  9 15  3 11 11 10  4  0  0  5  0  6  1  0  0  2  0  9]\n",
      "Q_values : [ -6.274948 -11.11321   -4.62596   -8.437342]\n",
      "state : [ 0  7  4  0  0  6  0 12  2  0  0 10  0  0  0  0  0  0  0  0  0  0  0  0\n",
      "  9 15  6 10  7  6 10 17  8  9  4 15  1  0  0  4  6  2  7  2  1  8  6  7]\n",
      "Q_values : [-16.387688 -20.97476  -14.215882  -7.27057 ]\n",
      "state : [ 0 13  6  0  3  0  0 15  7  0  1  0  0  0  0  0  0  0  0  0  0  0  0  0\n",
      "  7 16 14 12  9  4 12 19 10  7 10 10  5  1  9  4  3  2  4  1  5  4  1  0]\n",
      "Q_values : [-11.637001 -15.937664  -9.657203  -7.71162 ]\n",
      "state : [ 0 37  0  0 12 54  0 25  0  0  1 51  0  0  0  0  0  0  0  0  0  0  0  0\n",
      "  6 41 35 11 18 57  8 38 16  9  8 54  2  0  0  4  2 13  6  1  0  4  0 14]\n",
      "Q_values : [-0.01897931 -8.885      -0.65278864 -6.9798684 ]\n",
      "state : [ 0 13 10  0 15 58  0  4 10  0  2 55  0  0  0  0  0  0  0  0  0  0  0  0\n",
      " 10 30 41  6 25 64  9 33 20  9 12 62  5  6  6  3  1  5  6  7  2  0  0  4]\n",
      "Q_values : [-1.0522149  -5.4735556  -0.86521894 -4.9006205 ]\n",
      "state : [ 0 25 43  0  0 74  0 19 21  0  0 68  0  0  0  0  0  0  0  0  0  0  0  0\n",
      "  7 38 51 11 14 79  9 42 30  8  5 71  5  0  0  5  3  1  4  0  0  6  8  7]\n",
      "Q_values : [-0.9577155 -6.8946533 -0.9753952 -6.051895 ]\n",
      "state : [ 0 12 51  0 10 82  0  7 26  0  4 71  0  0  0  0  0  0  0  0  0  0  0  0\n",
      "  7 34 52  8 21 83  7 38 31  7  8 75  6  7  1  6  0  0  3  7  1  4  1  1]\n",
      "Q_values : [-0.90121514 -7.476857   -0.83515656 -6.1662264 ]\n",
      "state : [ 0 10 59  0  3 77  0 10 41  0 10 81  0  0  0  0  0  0  0  0  0  0  0  0\n",
      "  8 31 64 12 21 86  6 39 45  8 15 81  3  1  0  8  0  0  4  3  0  4  6  2]\n",
      "Q_values : [ -3.4178877 -10.149498   -5.243105   -8.781581 ]\n",
      "state : [ 0 12 70  0 13 74  0 10 52  0 11 59  0  0  0  0  0  0  0  0  0  0  0  0\n",
      " 12 28 73  8 32 80 13 30 58  7 29 76  3  1  6  5  0  0  2  2 10  6  3  0]\n",
      "Q_values : [ -8.334081  -14.40154   -11.1381445  -7.524582 ]\n",
      "state : [ 0 25 15 19 58 68  0 24  9  7 62 57  0  0  0  0  0  0  0  0  0  0  0  0\n",
      "  9 40 63 27 82 76  8 31 58 18 66 74  0  0  5  4  2  2  0  0 10  6  1  3]\n",
      "Q_values : [-28.949677 -26.93256   -8.737488 -18.722197]\n",
      "state : [ 0 35 20  0  3 58  0 30 25  1 21 60  0  0  0  0  0  0  0  0  0  0  0  0\n",
      "  9 46 64 31 66 79  8 36 61 25 55 79  4  2  6  2  6  1  1  0  2  2 10  2]\n",
      "Q_values : [-62.3479   -41.01588  -39.675545 -29.287745]\n",
      "Step #720.00 (1ms ~= 10.00*RT, ~604000.00UPS, TraCI: 0ms, vehicles TOT 1824 ACT 604 BUF 61state : [10 26 38 13 37 65  5 22 45  8 19 71  0  0  0  0  0  0  0  0  0  0  0  0\n",
      " 17 57 69 26 72 77 12 44 75 18 58 84  0  0  0  1  5  6  1  0  0  0  7  8]\n",
      "Q_values : [-24.730474 -34.514435 -65.17472  -36.904514]\n",
      "episode : 12\n",
      "Step #800.00 (1ms ~= 10.00*RT, ~652000.00UPS, TraCI: 0ms, vehicles TOT 2005 ACT 652 BUF 43\n",
      " Retrying in 1 seconds\n"
     ]
    },
    {
     "name": "stderr",
     "output_type": "stream",
     "text": [
      "Warning: Environment variable SUMO_HOME is not set properly, disabling XML validation. Set 'auto' or 'always' for web lookups.\n"
     ]
    },
    {
     "name": "stdout",
     "output_type": "stream",
     "text": [
      "state : [0 0 0 0 0 0 0 0 0 0 0 0 0 0 0 0 0 0 0 0 0 0 0 0 0 0 0 0 0 0 0 0 0 0 0 0 0\n",
      " 0 0 0 0 0 0 0 0 0 0 0]\n",
      "Q_values : [-4.271391  -4.6421514 -5.021838  -6.1728373]\n",
      "state : [ 0  5  0  1 11  4  0  6  0  0  3  7  0  0  0  0  0  0  0  0  0  0  0  0\n",
      " 10 15  2 11 18  7  6 13  7 12  6 13  4  0  0  7  1  3  5  0  0  5  0  4]\n",
      "Q_values : [ -2.7766025  -5.7872324  -4.5889907 -11.525293 ]\n",
      "state : [ 0 13  0  0 42 20  0 11  1  0 38 31  0  0  0  0  0  0  0  0  0  0  0  0\n",
      " 10 16 22 12 43 23  7 19 34  7 43 35  6  0  0  4  0 13  6  0  0  2  0 12]\n",
      "Q_values : [-1.0151155 -7.6557856 -0.4656515 -6.3743954]\n",
      "state : [ 0 18 24  2  9  0  0 23 26  2 11  9  0  0  0  0  0  0  0  0  0  0  0  0\n",
      "  9 23 28 11 45 16  4 31 45  8 35 33  2  4  9  1  1  0  1  1 12  6  2  3]\n",
      "Q_values : [ -7.16735    -5.825956  -11.1100235 -12.949528 ]\n",
      "state : [ 0 21  0  8 25 11  0 25 18  6 26 11  0  0  0  0  0  0  0  0  0  0  0  0\n",
      " 12 25 19 16 47 18  5 32 37 12 41 36  0  0  2  3  0 10  0  0  1  4  0 10]\n",
      "Q_values : [-0.94243455 -8.53378    -0.25058037 -6.7913456 ]\n",
      "state : [ 0 27 23  0 10  0  0 35 26  0 11 13  0  0  0  0  0  0  0  0  0  0  0  0\n",
      "  8 31 29 10 46 17 10 39 43  8 40 37  7  1  8  2  0  0  6  3  8  6  3  3]\n",
      "Q_values : [ -9.800298  -7.170891  -6.066659 -23.072063]\n",
      "state : [ 0 28 28  0 10 12  0 39 43  0  0 11  0  0  0  0  0  0  0  0  0  0  0  0\n",
      "  8 34 35  9 39 23 10 44 47 10 38 40  7  2  5  5  8  3  1  4  5  3  8  0]\n",
      "Q_values : [-10.760238   -7.6906314 -22.913944  -12.714306 ]\n",
      "state : [ 0 33  8  2 11 14  0 42 24  0 10 28  0  0  0  0  0  0  0  0  0  0  0  0\n",
      " 12 36 25 13 48 24 11 51 42 10 44 43  2  0  0  5  2 10  7  0  0  3  3  8]\n",
      "Q_values : [-11.830004   -9.116287   -3.4803407 -26.909763 ]\n",
      "state : [ 0 61 46  6 40  0  0 68 64  0 38  0  0  0  0  0  0  0  0  0  0  0  0  0\n",
      "  9 64 51 15 64 15  8 74 68 11 44 24  0  0 13  5  0  0  3  1 15  2  0  0]\n",
      "Q_values : [-30.125946 -28.31929   -6.505054 -63.70095 ]\n",
      "state : [ 0 64 51  1 25  3  0 74 69  0 15 10  0  0  0  0  0  0  0  0  0  0  0  0\n",
      "  8 70 59 12 67 19  7 79 70  8 38 31  5  0  4  7  7  3  8  0  2  6  3  1]\n",
      "Q_values : [-44.524296 -33.02807  -13.453021 -80.69992 ]\n",
      "state : [ 0 61 59  1  1 15  1 68 75  0  0 25  0  0  0  0  0  0  0  0  0  0  0  0\n",
      " 10 71 63 13 61 28  7 84 76  9 27 37  6  1  0  3  7  5  2  2  1  7  5  5]\n",
      "Q_values : [-48.90561  -35.44952  -40.670376 -58.848637]\n",
      "state : [ 0 58 34  0 14 22  0 75 51  0 10 35  0  0  0  0  0  0  0  0  0  0  0  0\n",
      " 12 73 55 14 61 32 11 88 66  9 32 39  4  1  1  3  1  9  5  0  0  1  1  9]\n",
      "Q_values : [-44.01258  -36.85857  -20.616423 -62.688114]\n",
      "state : [11 16 16 27 85 47 27 35 25  0 46 61  0  0  0  0  0  0  0  0  0  0  0  0\n",
      " 25 60 58 34 88 49 38 74 66  7 52 66  0  0  0  1  0  8  3  1  0  0  0  7]\n",
      "Q_values : [ -1.6649272 -11.417383    1.7380646  -9.161934 ]\n",
      "state : [28 63 21 55 90 49 10 26 23 10 17 70  0  0  0  0  0  0  0  0  0  0  0  0\n",
      " 38 64 55 64 90 49 34 69 79 19 52 74  0  8  2  2  0  2  0  7  2  0  0  3]\n",
      "Q_values : [ -1.0648994 -14.516829    3.6156301 -11.385103 ]\n",
      "Step #720.00 (2ms ~= 10.00*RT, ~714000.00UPS, TraCI: 1ms, vehicles TOT 1876 ACT 714 BUF 52episode : 13\n",
      "Step #800.00 (1ms ~= 10.00*RT, ~765000.00UPS, TraCI: 0ms, vehicles TOT 2020 ACT 765 BUF 37\n",
      " Retrying in 1 seconds\n"
     ]
    },
    {
     "name": "stderr",
     "output_type": "stream",
     "text": [
      "Warning: Environment variable SUMO_HOME is not set properly, disabling XML validation. Set 'auto' or 'always' for web lookups.\n"
     ]
    },
    {
     "name": "stdout",
     "output_type": "stream",
     "text": [
      "state : [ 0  0  1  0  1  1  0  0  2  0  1  1  0  0  0  0  0  0  0  0  0  0  0  0\n",
      "  6  6  7  5  7  8  8  9  8 10  6  6  2  2  0  0  0  0  0  2  1  3  0  0]\n",
      "Q_values : [-18.218561 -12.105544 -18.594685 -15.128508]\n",
      "state : [ 0  5  0  0  3  7  0  3  0  0  2  5  0  0  0  0  0  0  0  0  0  0  0  0\n",
      "  8 10  9  7 12 12  6 16  5  8 10 12  1  1  0  5  0  5  4  1  2  2  0  8]\n",
      "Q_values : [-24.043    -15.781225 -26.289196 -19.282373]\n",
      "state : [ 0 18  2  0  0 22  0 19  5  0  0 22  0  0  0  0  0  0  0  0  0  0  0  0\n",
      " 10 25  6  9 14 28  7 25  7  9 18 28  6  0  0  2  6  2  2  0  0  4  8  5]\n",
      "Q_values : [-26.086136 -18.492546 -36.334827 -21.490253]\n",
      "state : [ 0 51 30  0  7 17 14 81 41  0  3 20  0  0  0  0  0  0  0  0  0  0  0  0\n",
      " 10 53 35  8 14 37 25 81 44 10 14 42  7  0  6  0  0  0  5  0  8  4  0  0]\n",
      "Q_values : [ -8.454179  -9.381067 -18.82667   -6.346079]\n",
      "state : [10 45 41  0 36  0 20 59 67  0 44  0  0  0  0  0  0  0  0  0  0  0  0  0\n",
      " 21 71 48  7 43 23 36 69 70  8 50 11  3  2 12  8  0  0  5  0 13  0  0  0]\n",
      "Q_values : [-2.1297553  -5.6862936   0.31837624 -6.7913837 ]\n",
      "state : [10 46 59  0 24  4 22 66 61  0 26  0  0  0  0  0  0  0  0  0  0  0  0  0\n",
      " 29 67 64  9 46 28 37 72 74  9 55 13  5  0  9  0  0  0  5  2  8  5  0  0]\n",
      "Q_values : [-2.0540116  -5.5821395   0.39583498 -6.904092  ]\n",
      "Step #720.00 (2ms ~= 10.00*RT, ~596000.00UPS, TraCI: 0ms, vehicles TOT 1694 ACT 596 BUF 66episode : 14\n",
      "Step #800.00 (1ms ~= 10.00*RT, ~596000.00UPS, TraCI: 1ms, vehicles TOT 1866 ACT 596 BUF 49\n",
      " Retrying in 1 seconds\n"
     ]
    },
    {
     "name": "stderr",
     "output_type": "stream",
     "text": [
      "Warning: Environment variable SUMO_HOME is not set properly, disabling XML validation. Set 'auto' or 'always' for web lookups.\n"
     ]
    },
    {
     "name": "stdout",
     "output_type": "stream",
     "text": [
      "state : [0 0 0 0 0 0 0 0 0 0 0 0 0 0 0 0 0 0 0 0 0 0 0 0 0 0 0 0 0 0 0 0 0 0 0 0 0\n",
      " 0 0 0 0 0 0 0 0 0 0 0]\n",
      "Q_values : [-4.3885384 -3.1667275 -4.0419664 -7.4391403]\n",
      "state : [0 0 0 0 0 0 0 0 0 0 0 0 0 0 0 0 0 0 0 0 0 0 0 0 7 3 5 7 6 1 5 3 4 4 6 2 0\n",
      " 0 0 0 0 0 0 0 0 0 0 0]\n",
      "Q_values : [ -8.4525175  -4.7789316 -12.224006  -13.216635 ]\n",
      "state : [ 0  0 19  0 55 27  0  0 27  0 61 21  0  0  0  0  0  0  0  0  0  0  0  0\n",
      " 10  5 26 11 58 32 11  9 33  6 64 25  4  5  3  8  0  0  6  6  7  4  1  0]\n",
      "Q_values : [ 2.4085543 -3.9869902  3.2480085 -5.190585 ]\n",
      "state : [ 0  8  0 18 61 13  0 15  6 14 55 17  0  0  0  0  0  0  0  0  0  0  0  0\n",
      " 10 20 21 22 71 42  7 28 28 22 73 43  0  0  5  6  0 10  0  0  2  7  0  8]\n",
      "Q_values : [ -6.9782405  -4.3992376   5.327692  -19.831333 ]\n",
      "state : [ 0  8 27  0 27 37  1 37 24 10 15 34  0  0  0  0  0  0  0  0  0  0  0  0\n",
      " 16 41 39 19 66 70 11 55 35 24 69 54  8  8  3  4  0  0  8  6  2  4  1  2]\n",
      "Q_values : [ 11.684393    -6.5507183   -0.29860258 -14.548178  ]\n",
      "state : [ 0  0 36 10 29 38  0  5 32 15 59 37  0  0  0  0  0  0  0  0  0  0  0  0\n",
      " 11 31 43 25 69 71 13 36 45 27 78 57  5 13  2  4  0  0  3 11  3  5  3  1]\n",
      "Q_values : [-16.389835 -14.1982    10.345395 -36.96776 ]\n",
      "state : [ 0 40 48 25 40 47  0 45 61  9 32 17  0  0  0  0  0  0  0  0  0  0  0  0\n",
      " 12 45 64 39 69 75  6 57 64 45 63 65  0  0  7  4  2  0  1  0  7  6  0  0]\n",
      "Q_values : [ -5.6054516  -8.824283    2.478357  -12.691015 ]\n",
      "state : [ 0 43 62 24 17 57  1 58 64  4 21 10  0  0  0  0  0  0  0  0  0  0  0  0\n",
      "  8 52 66 36 66 79  7 60 70 42 58 65  0  1  4  2  9  2  0  0  3  5  5  5]\n",
      "Q_values : [ -6.2331305  -8.133475    1.664073  -12.2641945]\n",
      "Step #720.00 (2ms ~= 10.00*RT, ~648000.00UPS, TraCI: 0ms, vehicles TOT 1787 ACT 648 BUF 58state : [ 0 62 76 16 45 68  0 75 84 10 10 25  0  0  0  0  0  0  0  0  0  0  0  0\n",
      " 11 68 78 27 70 85  7 78 85 22 50 78  3  1  0  2  5  3  5  1  0  3  0  0]\n",
      "Q_values : [ -9.291565  -9.494827   1.948661 -14.834018]\n",
      "episode : 15\n",
      "Step #800.00 (1ms ~= 10.00*RT, ~686000.00UPS, TraCI: 0ms, vehicles TOT 1947 ACT 686 BUF 42\n",
      " Retrying in 1 seconds\n"
     ]
    },
    {
     "name": "stderr",
     "output_type": "stream",
     "text": [
      "Warning: Environment variable SUMO_HOME is not set properly, disabling XML validation. Set 'auto' or 'always' for web lookups.\n"
     ]
    },
    {
     "name": "stdout",
     "output_type": "stream",
     "text": [
      "state : [ 0  3  4  0  5  0  0  3  1  0  4  0  0  0  0  0  0  0  0  0  0  0  0  0\n",
      "  9 12 12 10 12  4  6  7  8 13 10  7  4  0  5  6  0  0  4  1  6  6  0  0]\n",
      "Q_values : [-15.46629  -19.280258 -33.533607 -16.258364]\n",
      "state : [ 0  0  9  0 11  1  0  0  7  0  8  6  0  0  0  0  0  0  0  0  0  0  0  0\n",
      "  5  5 18  7 19  9  8  8  9  5 13 12  7  4  1  7  0  0  7  7  6  3  2  1]\n",
      "Q_values : [-15.370116 -18.044842 -34.81088  -16.94133 ]\n",
      "state : [ 0  5 33  0  6 21  0  3 22  0  1 19  0  0  0  0  0  0  0  0  0  0  0  0\n",
      "  6 15 39 10 27 24  8 12 30  9 24 23  2  2  0  0  7  0  2  0  0  4  9  2]\n",
      "Q_values : [-13.845331 -22.23216  -35.51748  -12.499195]\n",
      "state : [ 0 12 38  0 10  0  0  5 29  0 10  0  0  0  0  0  0  0  0  0  0  0  0  0\n",
      "  8 21 45 10 32 18  9 15 36 10 31 17  4  1  6  3  5  0  4  1  8  5  1  1]\n",
      "Q_values : [-18.237549 -24.874493 -36.17732  -16.288565]\n",
      "state : [ 0 14 66  0 52  0  0 21 53  0 47  0  0  0  0  0  0  0  0  0  0  0  0  0\n",
      "  5 30 68  5 60  9  9 25 55 11 50  5  1  1 10  2  0  0  4  0 12  7  0  0]\n",
      "Q_values : [-22.478346  -10.649327    5.6520443 -21.228462 ]\n",
      "state : [ 0 12 27  1 45 10  0 23 33  0 44 11  0  0  0  0  0  0  0  0  0  0  0  0\n",
      "  9 48 67 10 55 17  9 45 63  7 52 22  4  7  6  4  2  0  5  8  6  5  1  0]\n",
      "Q_values : [-18.713696  -10.390518    5.8464675 -19.750853 ]\n",
      "state : [ 3 21 66 20 54 20  0 26 60  0 59  1  0  0  0  0  0  0  0  0  0  0  0  0\n",
      " 15 66 80 26 58 31 10 45 70 10 61 28  0  0 11  8  0  0  4  0 14  4  0  0]\n",
      "Q_values : [-21.068619   9.902229  33.582626 -16.521742]\n",
      "state : [10 42 75 10 15  7  0 38 71  0 29 11  0  0  0  0  0  0  0  0  0  0  0  0\n",
      " 18 74 82 29 55 38  9 49 71  9 53 34  0  0  3  2  9  3  5  1  3  0  6  1]\n",
      "Q_values : [-27.953999 -26.866875 -36.80095  -12.271285]\n",
      "Step #720.00 (2ms ~= 10.00*RT, ~652000.00UPS, TraCI: 0ms, vehicles TOT 1805 ACT 652 BUF 61episode : 16\n",
      "Step #800.00 (1ms ~= 10.00*RT, ~690000.00UPS, TraCI: 0ms, vehicles TOT 1979 ACT 690 BUF 43\n",
      " Retrying in 1 seconds\n"
     ]
    },
    {
     "name": "stderr",
     "output_type": "stream",
     "text": [
      "Warning: Environment variable SUMO_HOME is not set properly, disabling XML validation. Set 'auto' or 'always' for web lookups.\n"
     ]
    },
    {
     "name": "stdout",
     "output_type": "stream",
     "text": [
      "state : [ 0  7  9  0  2  0  0  6  8  0  2  0  0  0  0  0  0  0  0  0  0  0  0  0\n",
      "  5 18 13  5 11  8  6 12 14 10 10  2  0  0  3  1  0  0  5  0 10  2  1  0]\n",
      "Q_values : [-7.8571844  4.9677114 -9.579395  -4.2907796]\n",
      "state : [ 0 14  0  0  9  7  0  9  0  0  7  2  0  0  0  0  0  0  0  0  0  0  0  0\n",
      "  8 19 10  9 14 12  6 15  8  9 13  6  2  0  0  4  1  9  4  2  3  2  0  7]\n",
      "Q_values : [-8.631732  -2.3758366 -8.963022  -5.009456 ]\n",
      "state : [ 0 17  0  0 14 11  0 14  0  0 12  6  0  0  0  0  0  0  0  0  0  0  0  0\n",
      "  9 26  5 11 21 14 10 18  2 13 16  9  3  0  0  2  0 10  4  0  0  2  0 12]\n",
      "Q_values : [-3.540867  -5.4296017 -1.9173214 -6.1127534]\n",
      "state : [ 0 26  8  0 33 10  0 24  4  1 40  5  0  0  0  0  0  0  0  0  0  0  0  0\n",
      "  7 46 27  7 40 31  7 31 25  7 46 12  1  0  2  7  1  8  5  0  5  2  0  8]\n",
      "Q_values : [  4.4863343 -11.358449   -3.6332824 -11.646008 ]\n",
      "state : [ 0 42  2  0 10 45  0 33  0  0 14 25  0  0  0  0  0  0  0  0  0  0  0  0\n",
      "  6 49 31 12 43 48 12 37 24  9 52 33  1  1  0  4  2  9  1  0  0  1  2  9]\n",
      "Q_values : [ 6.059745   7.775956   9.680623  -1.8368971]\n",
      "state : [ 0 48 16  0  0 48  0 36 11  0  0 24  0  0  0  0  0  0  0  0  0  0  0  0\n",
      " 10 49 42 10 31 55  7 41 27  8 48 36  2  2  1  5  9  9  4  1  0  2  8  8]\n",
      "Q_values : [ 12.968996    8.013335  -17.009037    2.2774973]\n",
      "state : [ 0 11 29  0 25 34  0 10 30  0 29 10  0  0  0  0  0  0  0  0  0  0  0  0\n",
      " 13 48 46 11 42 53  9 39 32 10 54 36  1  2  9  4  1  0  1  4  8  5  0  0]\n",
      "Q_values : [  7.8807507  -5.3452573 -12.980924   -3.3281708]\n",
      "state : [ 0  0 45  0 40 30  0  0 32  0 43 11  0  0  0  0  0  0  0  0  0  0  0  0\n",
      "  8 43 52  8 46 59  8 31 35 10 58 43  6  8  8  5  0  0  4  6 14  7  0  0]\n",
      "Q_values : [ 0.16986346 -1.7692491  12.689472   -3.1597283 ]\n",
      "state : [ 0 26 58  4 10 17  0 26 40  3 11 16  0  0  0  0  0  0  0  0  0  0  0  0\n",
      "  8 51 65 12 41 58  8 40 43 15 49 45  3  0  6  3  0  0  5  0  8  4  1  0]\n",
      "Q_values : [-1.0228814 -8.073585   4.7432156 -6.803257 ]\n",
      "state : [ 0 44 65  0  0 23  0 40 44  0  0 15  0  0  0  0  0  0  0  0  0  0  0  0\n",
      "  8 56 70 11 35 62  9 46 45 16 49 51  5  0  6  1  5  0  0  1  4  5  6  4]\n",
      "Q_values : [-7.68402338e-01 -1.10180435e+01  1.24728680e-03 -8.35961533e+00]\n",
      "state : [ 0 11 80  0  8 76  5 10 58  0  0 62  0  0  0  0  0  0  0  0  0  0  0  0\n",
      " 19 55 80  9 22 79 15 48 62  8 31 73  2  0  0  2  8  3  4  4  2  3  8  1]\n",
      "Q_values : [-2.8912098 -7.880685  -4.7625647 -8.313418 ]\n",
      "state : [ 0  8 81  0 11 83  0 12 69  0  0 85  0  0  0  0  0  0  0  0  0  0  0  0\n",
      " 17 63 81  8 29 83  8 50 72  9 32 85  1  2  3  8  5  3  2  3  1  2  4  2]\n",
      "Q_values : [ -0.32360053  -1.5478387  -20.205652   -11.941749  ]\n",
      "state : [ 1 11 69  2 22 69  0  9 70  0 35 61  0  0  0  0  0  0  0  0  0  0  0  0\n",
      "  8 55 80 13 49 78  7 38 82  7 49 80  1  1  8  2  1  0  1  1  9  4  1  2]\n",
      "Q_values : [-11.765343    4.5739794   9.894711   -8.458814 ]\n",
      "state : [ 7 21 66  0 20 65  0 25 71  0  0 52  0  0  0  0  0  0  0  0  0  0  0  0\n",
      " 13 60 80 12 47 80  4 45 82 10 46 77  5  0  4  5  8  3  4  0  5  0  4  1]\n",
      "Q_values : [-1.7639632 -7.296233  -7.6356654 -9.789711 ]\n",
      "Step #720.00 (1ms ~= 10.00*RT, ~620000.00UPS, TraCI: 0ms, vehicles TOT 1879 ACT 620 BUF 53state : [11 61 81 13 30 77  1 35 76  6 37 73  0  0  0  0  0  0  0  0  0  0  0  0\n",
      " 25 77 81 31 57 82 12 54 82 15 66 84  0  2  2  4  2  1  2  2  0  0  0  0]\n",
      "Q_values : [ -7.4625683 -15.867762    1.4278532 -15.851601 ]\n",
      "episode : 17\n",
      "Step #800.00 (1ms ~= 10.00*RT, ~723000.00UPS, TraCI: 0ms, vehicles TOT 2042 ACT 723 BUF 37\n",
      " Retrying in 1 seconds\n"
     ]
    },
    {
     "name": "stderr",
     "output_type": "stream",
     "text": [
      "Warning: Environment variable SUMO_HOME is not set properly, disabling XML validation. Set 'auto' or 'always' for web lookups.\n"
     ]
    },
    {
     "name": "stdout",
     "output_type": "stream",
     "text": [
      "state : [ 0  6  0  0  1  6  0  7  0  0  2  6  0  0  0  0  0  0  0  0  0  0  0  0\n",
      "  5 16 10  8  8 12  7 13  8  8  9  8  4  0  0  1  0  7  2  0  0  4  0  5]\n",
      "Q_values : [-17.127747  -8.687773 -12.188342  -9.817127]\n",
      "state : [ 0  0  7  0 15 20  0  0  3  0 13 17  0  0  0  0  0  0  0  0  0  0  0  0\n",
      "  8 13 18 10 20 25  5 19 12 11 20 19  3  7  1  3  2  1  6  7  3  1  0  1]\n",
      "Q_values : [-5.040358  -9.325022  -3.8957658 -9.023049 ]\n",
      "state : [ 0 14  0  0 11 29  0 21  0  0 10 24  0  0  0  0  0  0  0  0  0  0  0  0\n",
      " 11 18 18  8 19 33  6 29 12 10 19 28  4  0  0  3  2 10  7  0  0  4  4  8]\n",
      "Q_values : [-3.3179395 -8.061001  -3.0768063 -8.163879 ]\n",
      "state : [ 0 18 10  0  0 33  0 27 10  0  0 27  0  0  0  0  0  0  0  0  0  0  0  0\n",
      "  7 22 23  6 17 36  8 33 19  8 14 33  6  0  0  3  8  5  6  0  0  4 10  6]\n",
      "Q_values : [ -6.345225    5.0058393 -16.504454   -1.6518462]\n",
      "state : [ 0 21 12  0 10 27  0 37 11  0  0 27  0  0  0  0  0  0  0  0  0  0  0  0\n",
      "  4 32 21  7 34 53  9 43 17  9 28 40  2  0  1  5  5 10  3  0  0  6  6  5]\n",
      "Q_values : [-2.9374242 -6.252921  -3.3377166 -7.1357627]\n",
      "state : [ 0  6 21  0 10 43  1  2 17  0 11 40  0  0  0  0  0  0  0  0  0  0  0  0\n",
      "  8 26 23  6 44 58 10 33 23  9 31 44  1  8  3  4  0  0  5  7  3  1  1  1]\n",
      "Q_values : [-2.8543377 -6.4933286 -3.4575863 -7.4100494]\n",
      "state : [ 0  9 32  0 24 70  0  6 25  0  8 56  0  0  0  0  0  0  0  0  0  0  0  0\n",
      " 10 13 38  6 44 76 10 23 27  5 30 62  3  2  2  2  7  3  6  1  0  3  6  5]\n",
      "Q_values : [ -7.0710673   2.8987176 -22.567354   -7.346815 ]\n",
      "state : [ 0 17 10 14 41 54  0 34 12  1 36 47  0  0  0  0  0  0  0  0  0  0  0  0\n",
      "  6 25 38 24 55 73  8 40 18  8 41 63  0  0  9  3  1  4  4  1  6  4  4  3]\n",
      "Q_values : [ -1.8357986 -11.347255   -4.8997602 -11.878648 ]\n",
      "state : [ 0  0 57  4 39 63  0  0 32  1 38 56  0  0  0  0  0  0  0  0  0  0  0  0\n",
      "  8  5 64 14 72 81  9 26 39  9 55 69  5 12  8  4  0  0  1  6  7  3  1  2]\n",
      "Q_values : [ -6.3469048  -7.9899282 -22.710957  -15.070309 ]\n",
      "state : [ 0  4 44 21 75 84  0  6 22 10 59 71  0  0  0  0  0  0  0  0  0  0  0  0\n",
      "  7 11 68 36 76 84  8 17 45 18 66 71  0  1  0  5  0  8  0  0  0  5  0  7]\n",
      "Q_values : [  3.271669  14.33169   34.252098 -15.470066]\n",
      "state : [ 0 19 28 12 24 60  0 19 25  1 26 48  0  0  0  0  0  0  0  0  0  0  0  0\n",
      "  9 28 70 37 70 77  8 26 55 26 64 61  4  1  9  1  2  2  2  0  6  1  3  3]\n",
      "Q_values : [-15.893837 -12.617187 -19.32665  -13.150136]\n",
      "Step #720.00 (2ms ~= 10.00*RT, ~632000.00UPS, TraCI: 0ms, vehicles TOT 1760 ACT 632 BUF 65state : [ 0 22 60 27 57 59  9 28 43 13 35 60  0  0  0  0  0  0  0  0  0  0  0  0\n",
      "  6 63 83 44 75 79 19 45 75 28 62 70  4  0  0  0  1  0  6  0  0  3  1  1]\n",
      "Q_values : [ -6.7881775  -9.6659975  -7.550782  -12.84041  ]\n",
      "episode : 18\n",
      "Step #800.00 (1ms ~= 10.00*RT, ~675000.00UPS, TraCI: 0ms, vehicles TOT 1909 ACT 675 BUF 50\n",
      " Retrying in 1 seconds\n"
     ]
    },
    {
     "name": "stderr",
     "output_type": "stream",
     "text": [
      "Warning: Environment variable SUMO_HOME is not set properly, disabling XML validation. Set 'auto' or 'always' for web lookups.\n"
     ]
    },
    {
     "name": "stdout",
     "output_type": "stream",
     "text": [
      "state : [ 0  6  5  0  4  0  0  5  7  0  5  0  0  0  0  0  0  0  0  0  0  0  0  0\n",
      " 12 15 10  7 13  5 10 12 11 10 12  2  2  0  8  3  1  0  2  0  5  2  0  0]\n",
      "Q_values : [ -2.1567123 -12.034686  -12.349913   -7.29031  ]\n",
      "state : [ 0 15 11  0  0 22  0  5 11  0  0 23  0  0  0  0  0  0  0  0  0  0  0  0\n",
      "  5 19 26  8 11 27  9 12 23  8 17 29  4  0  0  3  9  6  3  1  0  2  7  6]\n",
      "Q_values : [ -9.375426  -10.380629  -18.515915  -11.1139765]\n",
      "state : [ 0  0 32  0 13 27  0  0 25  0 17 34  0  0  0  0  0  0  0  0  0  0  0  0\n",
      " 13  3 33  7 20 34  6  6 34  7 23 40  4  6  3  5  1  1  6 10  6  3  0  0]\n",
      "Q_values : [-12.722879   -3.7636836 -14.917477  -11.375363 ]\n",
      "Interrupt signal received, trying to exit gracefully.0ms, vehicles TOT 832 ACT 341 BUF 448\n"
     ]
    },
    {
     "ename": "KeyboardInterrupt",
     "evalue": "",
     "output_type": "error",
     "traceback": [
      "\u001b[0;31m---------------------------------------------------------------------------\u001b[0m",
      "\u001b[0;31mKeyboardInterrupt\u001b[0m                         Traceback (most recent call last)",
      "Cell \u001b[0;32mIn[9], line 63\u001b[0m\n\u001b[1;32m     52\u001b[0m             training_step(batch_size)\n\u001b[1;32m     53\u001b[0m             \u001b[38;5;66;03m# new_weights = model_action.get_weights()\u001b[39;00m\n\u001b[1;32m     54\u001b[0m             \u001b[38;5;66;03m# weights.append(new_weights)\u001b[39;00m\n\u001b[1;32m     55\u001b[0m             \u001b[38;5;66;03m#print(f\"Episode {episode}: new weights = {new_weights}\")\u001b[39;00m\n\u001b[0;32m   (...)\u001b[0m\n\u001b[1;32m     59\u001b[0m         \u001b[38;5;66;03m# if list_values:\u001b[39;00m\n\u001b[1;32m     60\u001b[0m         \u001b[38;5;66;03m#    # print(f'list values {list_values[-1]}')\u001b[39;00m\n\u001b[0;32m---> 63\u001b[0m     \u001b[43mtraci\u001b[49m\u001b[38;5;241;43m.\u001b[39;49m\u001b[43msimulationStep\u001b[49m\u001b[43m(\u001b[49m\u001b[43m)\u001b[49m\n\u001b[1;32m     64\u001b[0m \u001b[38;5;28mprint\u001b[39m(\u001b[38;5;124mf\u001b[39m\u001b[38;5;124m'\u001b[39m\u001b[38;5;124mepisode : \u001b[39m\u001b[38;5;132;01m{\u001b[39;00mepisode\u001b[38;5;132;01m}\u001b[39;00m\u001b[38;5;124m'\u001b[39m)\n\u001b[1;32m     65\u001b[0m traci\u001b[38;5;241m.\u001b[39mclose()\n",
      "File \u001b[0;32m~/.pyenv/versions/3.10.6/envs/sumo_env/lib/python3.10/site-packages/traci/main.py:198\u001b[0m, in \u001b[0;36msimulationStep\u001b[0;34m(step)\u001b[0m\n\u001b[1;32m    192\u001b[0m \u001b[38;5;28;01mdef\u001b[39;00m\u001b[38;5;250m \u001b[39m\u001b[38;5;21msimulationStep\u001b[39m(step\u001b[38;5;241m=\u001b[39m\u001b[38;5;241m0\u001b[39m):\n\u001b[1;32m    193\u001b[0m \u001b[38;5;250m    \u001b[39m\u001b[38;5;124;03m\"\"\"simulationStep(float) -> None\u001b[39;00m\n\u001b[1;32m    194\u001b[0m \u001b[38;5;124;03m    Make a simulation step and simulate up to the given second in sim time.\u001b[39;00m\n\u001b[1;32m    195\u001b[0m \u001b[38;5;124;03m    If the given value is 0 or absent, exactly one step is performed.\u001b[39;00m\n\u001b[1;32m    196\u001b[0m \u001b[38;5;124;03m    Values smaller than or equal to the current sim time result in no action.\u001b[39;00m\n\u001b[1;32m    197\u001b[0m \u001b[38;5;124;03m    \"\"\"\u001b[39;00m\n\u001b[0;32m--> 198\u001b[0m     \u001b[43mconnection\u001b[49m\u001b[38;5;241;43m.\u001b[39;49m\u001b[43mcheck\u001b[49m\u001b[43m(\u001b[49m\u001b[43m)\u001b[49m\u001b[38;5;241;43m.\u001b[39;49m\u001b[43msimulationStep\u001b[49m\u001b[43m(\u001b[49m\u001b[43mstep\u001b[49m\u001b[43m)\u001b[49m\n",
      "File \u001b[0;32m~/.pyenv/versions/3.10.6/envs/sumo_env/lib/python3.10/site-packages/traci/connection.py:370\u001b[0m, in \u001b[0;36mConnection.simulationStep\u001b[0;34m(self, step)\u001b[0m\n\u001b[1;32m    368\u001b[0m \u001b[38;5;28;01mif\u001b[39;00m \u001b[38;5;28mtype\u001b[39m(step) \u001b[38;5;129;01mis\u001b[39;00m \u001b[38;5;28mint\u001b[39m \u001b[38;5;129;01mand\u001b[39;00m step \u001b[38;5;241m>\u001b[39m\u001b[38;5;241m=\u001b[39m \u001b[38;5;241m1000\u001b[39m:\n\u001b[1;32m    369\u001b[0m     warnings\u001b[38;5;241m.\u001b[39mwarn(\u001b[38;5;124m\"\u001b[39m\u001b[38;5;124mAPI change now handles step as floating point seconds\u001b[39m\u001b[38;5;124m\"\u001b[39m, stacklevel\u001b[38;5;241m=\u001b[39m\u001b[38;5;241m2\u001b[39m)\n\u001b[0;32m--> 370\u001b[0m result \u001b[38;5;241m=\u001b[39m \u001b[38;5;28;43mself\u001b[39;49m\u001b[38;5;241;43m.\u001b[39;49m\u001b[43m_sendCmd\u001b[49m\u001b[43m(\u001b[49m\u001b[43mtc\u001b[49m\u001b[38;5;241;43m.\u001b[39;49m\u001b[43mCMD_SIMSTEP\u001b[49m\u001b[43m,\u001b[49m\u001b[43m \u001b[49m\u001b[38;5;28;43;01mNone\u001b[39;49;00m\u001b[43m,\u001b[49m\u001b[43m \u001b[49m\u001b[38;5;28;43;01mNone\u001b[39;49;00m\u001b[43m,\u001b[49m\u001b[43m \u001b[49m\u001b[38;5;124;43m\"\u001b[39;49m\u001b[38;5;124;43mD\u001b[39;49m\u001b[38;5;124;43m\"\u001b[39;49m\u001b[43m,\u001b[49m\u001b[43m \u001b[49m\u001b[43mstep\u001b[49m\u001b[43m)\u001b[49m\n\u001b[1;32m    371\u001b[0m \u001b[38;5;28;01mfor\u001b[39;00m subscriptionResults \u001b[38;5;129;01min\u001b[39;00m \u001b[38;5;28mself\u001b[39m\u001b[38;5;241m.\u001b[39m_subscriptionMapping\u001b[38;5;241m.\u001b[39mvalues():\n\u001b[1;32m    372\u001b[0m     subscriptionResults\u001b[38;5;241m.\u001b[39mreset()\n",
      "File \u001b[0;32m~/.pyenv/versions/3.10.6/envs/sumo_env/lib/python3.10/site-packages/traci/connection.py:232\u001b[0m, in \u001b[0;36mConnection._sendCmd\u001b[0;34m(self, cmdID, varID, objID, format, *values)\u001b[0m\n\u001b[1;32m    230\u001b[0m     \u001b[38;5;28mself\u001b[39m\u001b[38;5;241m.\u001b[39m_string \u001b[38;5;241m+\u001b[39m\u001b[38;5;241m=\u001b[39m struct\u001b[38;5;241m.\u001b[39mpack(\u001b[38;5;124m\"\u001b[39m\u001b[38;5;124m!i\u001b[39m\u001b[38;5;124m\"\u001b[39m, \u001b[38;5;28mlen\u001b[39m(objID)) \u001b[38;5;241m+\u001b[39m objID\n\u001b[1;32m    231\u001b[0m \u001b[38;5;28mself\u001b[39m\u001b[38;5;241m.\u001b[39m_string \u001b[38;5;241m+\u001b[39m\u001b[38;5;241m=\u001b[39m packed\n\u001b[0;32m--> 232\u001b[0m \u001b[38;5;28;01mreturn\u001b[39;00m \u001b[38;5;28;43mself\u001b[39;49m\u001b[38;5;241;43m.\u001b[39;49m\u001b[43m_sendExact\u001b[49m\u001b[43m(\u001b[49m\u001b[43m)\u001b[49m\n",
      "File \u001b[0;32m~/.pyenv/versions/3.10.6/envs/sumo_env/lib/python3.10/site-packages/traci/connection.py:131\u001b[0m, in \u001b[0;36mConnection._sendExact\u001b[0;34m(self)\u001b[0m\n\u001b[1;32m    129\u001b[0m     \u001b[38;5;28mprint\u001b[39m(\u001b[38;5;124m\"\u001b[39m\u001b[38;5;124msending\u001b[39m\u001b[38;5;124m\"\u001b[39m, Storage(length \u001b[38;5;241m+\u001b[39m \u001b[38;5;28mself\u001b[39m\u001b[38;5;241m.\u001b[39m_string)\u001b[38;5;241m.\u001b[39mgetDebugString())\n\u001b[1;32m    130\u001b[0m \u001b[38;5;28mself\u001b[39m\u001b[38;5;241m.\u001b[39m_socket\u001b[38;5;241m.\u001b[39msend(length \u001b[38;5;241m+\u001b[39m \u001b[38;5;28mself\u001b[39m\u001b[38;5;241m.\u001b[39m_string)\n\u001b[0;32m--> 131\u001b[0m result \u001b[38;5;241m=\u001b[39m \u001b[38;5;28;43mself\u001b[39;49m\u001b[38;5;241;43m.\u001b[39;49m\u001b[43m_recvExact\u001b[49m\u001b[43m(\u001b[49m\u001b[43m)\u001b[49m\n\u001b[1;32m    132\u001b[0m \u001b[38;5;28;01mif\u001b[39;00m _DEBUG:\n\u001b[1;32m    133\u001b[0m     \u001b[38;5;28mprint\u001b[39m(\u001b[38;5;124m\"\u001b[39m\u001b[38;5;124mreceiving\u001b[39m\u001b[38;5;124m\"\u001b[39m, result\u001b[38;5;241m.\u001b[39mgetDebugString())\n",
      "File \u001b[0;32m~/.pyenv/versions/3.10.6/envs/sumo_env/lib/python3.10/site-packages/traci/connection.py:109\u001b[0m, in \u001b[0;36mConnection._recvExact\u001b[0;34m(self)\u001b[0m\n\u001b[1;32m    107\u001b[0m result \u001b[38;5;241m=\u001b[39m \u001b[38;5;28mbytes\u001b[39m()\n\u001b[1;32m    108\u001b[0m \u001b[38;5;28;01mwhile\u001b[39;00m \u001b[38;5;28mlen\u001b[39m(result) \u001b[38;5;241m<\u001b[39m \u001b[38;5;241m4\u001b[39m:\n\u001b[0;32m--> 109\u001b[0m     t \u001b[38;5;241m=\u001b[39m \u001b[38;5;28;43mself\u001b[39;49m\u001b[38;5;241;43m.\u001b[39;49m\u001b[43m_socket\u001b[49m\u001b[38;5;241;43m.\u001b[39;49m\u001b[43mrecv\u001b[49m\u001b[43m(\u001b[49m\u001b[38;5;241;43m4\u001b[39;49m\u001b[43m \u001b[49m\u001b[38;5;241;43m-\u001b[39;49m\u001b[43m \u001b[49m\u001b[38;5;28;43mlen\u001b[39;49m\u001b[43m(\u001b[49m\u001b[43mresult\u001b[49m\u001b[43m)\u001b[49m\u001b[43m)\u001b[49m\n\u001b[1;32m    110\u001b[0m     \u001b[38;5;28;01mif\u001b[39;00m \u001b[38;5;129;01mnot\u001b[39;00m t:\n\u001b[1;32m    111\u001b[0m         \u001b[38;5;28;01mreturn\u001b[39;00m \u001b[38;5;28;01mNone\u001b[39;00m\n",
      "\u001b[0;31mKeyboardInterrupt\u001b[0m: "
     ]
    }
   ],
   "source": [
    "rewards = []\n",
    "best_score = 0\n",
    "reward = 0\n",
    "total_reward = 0\n",
    "list_values = []\n",
    "weights = []\n",
    "wait_times = []\n",
    "replay_buffer = deque(maxlen=10000)\n",
    "epoch = 50\n",
    "\n",
    "for episode in range(epoch):\n",
    "    #SEED\n",
    "    seed_value = np.random.randint(1000)\n",
    "    #seed_value = 41\n",
    "    sumoCmd = [sumo_bin, \"-c\", simulConfig2x2, \"--start\", \"--seed\", str(seed_value), '--no-warnings']\n",
    "\n",
    "    if traci.isLoaded():\n",
    "        traci.close()\n",
    "    traci.start(sumoCmd)\n",
    "    lane_ids =  traci.lane.getIDList()\n",
    "    # print(lane_ids[0])\n",
    "\n",
    "    trafic_light_ids = traci.trafficlight.getIDList()\n",
    "\n",
    "    # state = np.array(queue(lane_ids))\n",
    "    state=np.array(get_state(lane_ids))\n",
    "    action=-1\n",
    "    # print(state)\n",
    "    wait_times.append(0)\n",
    "    for step in range(80000): ## TO CHANGED\n",
    "        epsilon = max(1 - episode / epoch, 0.01)\n",
    "\n",
    "        if step%2000 == 0:\n",
    "            #print(f\"longeur du buffer :{len(replay_buffer)}\")\n",
    "            ########################################################################\n",
    "            ##Calcul de la reward\n",
    "            # next_state = np.array(queue(lane_ids))\n",
    "            next_state = np.array(get_state(lane_ids))\n",
    "            # reward = calculate_reward(values, reward, total_reward)[0]\n",
    "            # reward=(np.sum(state)-np.sum(next_state))\n",
    "            reward = np.sum(state[:24])- np.sum(next_state[:24])\n",
    "            replay_buffer.append((state, action, reward, next_state))\n",
    "\n",
    "            list_values.append(queue(lane_ids))\n",
    "            #########################################################################\n",
    "            state=next_state\n",
    "            action = epsilon_greedy_policy(state, epsilon)\n",
    "            #print(\"action\", action)\n",
    "            traci.trafficlight.setPhase(trafic_light_ids[0],2*action)\n",
    "\n",
    "            if len(replay_buffer) >= batch_size*10:\n",
    "                training_step(batch_size)\n",
    "                # new_weights = model_action.get_weights()\n",
    "                # weights.append(new_weights)\n",
    "                #print(f\"Episode {episode}: new weights = {new_weights}\")\n",
    "            # else:\n",
    "            #     print(f\"Episode {episode}: pas assez de données dans le replay buffer.\")\n",
    "            # print(values)\n",
    "            # if list_values:\n",
    "            #    # print(f'list values {list_values[-1]}')\n",
    "\n",
    "\n",
    "        traci.simulationStep()\n",
    "    print(f'episode : {episode}')\n",
    "    traci.close()\n"
   ]
  },
  {
   "cell_type": "code",
   "execution_count": 36,
   "metadata": {},
   "outputs": [
    {
     "name": "stdout",
     "output_type": "stream",
     "text": [
      " Retrying in 1 seconds\n",
      "action 6\n",
      "action 3\n",
      "action 1\n",
      "action 5\n",
      "action 4\n",
      "action 7\n",
      "action 1\n",
      "action 1\n",
      "action 6\n",
      "action 4\n",
      "action 7\n",
      "action 2\n",
      "action 6\n"
     ]
    },
    {
     "name": "stderr",
     "output_type": "stream",
     "text": [
      "X Fatal error.\n"
     ]
    },
    {
     "ename": "FatalTraCIError",
     "evalue": "Connection closed by SUMO.",
     "output_type": "error",
     "traceback": [
      "\u001b[0;31m---------------------------------------------------------------------------\u001b[0m",
      "\u001b[0;31mFatalTraCIError\u001b[0m                           Traceback (most recent call last)",
      "Cell \u001b[0;32mIn[36], line 45\u001b[0m\n\u001b[1;32m     41\u001b[0m         \u001b[38;5;66;03m#print(traci.trafficlight.getAllProgramLogics(nom_du_feu))\u001b[39;00m\n\u001b[1;32m     42\u001b[0m \n\u001b[1;32m     43\u001b[0m         \u001b[38;5;66;03m#print(traci.trafficlight.getAllProgramLogics(nom_du_feu)[0].phases[action])\u001b[39;00m\n\u001b[1;32m     44\u001b[0m         traci\u001b[38;5;241m.\u001b[39mtrafficlight\u001b[38;5;241m.\u001b[39msetPhase(trafic_light_ids[\u001b[38;5;241m0\u001b[39m],action)\n\u001b[0;32m---> 45\u001b[0m     \u001b[43mtraci\u001b[49m\u001b[38;5;241;43m.\u001b[39;49m\u001b[43msimulationStep\u001b[49m\u001b[43m(\u001b[49m\u001b[43m)\u001b[49m\n\u001b[1;32m     47\u001b[0m traci\u001b[38;5;241m.\u001b[39mclose()\n",
      "File \u001b[0;32m~/.pyenv/versions/3.10.6/envs/sumo_env/lib/python3.10/site-packages/traci/main.py:198\u001b[0m, in \u001b[0;36msimulationStep\u001b[0;34m(step)\u001b[0m\n\u001b[1;32m    192\u001b[0m \u001b[38;5;28;01mdef\u001b[39;00m\u001b[38;5;250m \u001b[39m\u001b[38;5;21msimulationStep\u001b[39m(step\u001b[38;5;241m=\u001b[39m\u001b[38;5;241m0\u001b[39m):\n\u001b[1;32m    193\u001b[0m \u001b[38;5;250m    \u001b[39m\u001b[38;5;124;03m\"\"\"simulationStep(float) -> None\u001b[39;00m\n\u001b[1;32m    194\u001b[0m \u001b[38;5;124;03m    Make a simulation step and simulate up to the given second in sim time.\u001b[39;00m\n\u001b[1;32m    195\u001b[0m \u001b[38;5;124;03m    If the given value is 0 or absent, exactly one step is performed.\u001b[39;00m\n\u001b[1;32m    196\u001b[0m \u001b[38;5;124;03m    Values smaller than or equal to the current sim time result in no action.\u001b[39;00m\n\u001b[1;32m    197\u001b[0m \u001b[38;5;124;03m    \"\"\"\u001b[39;00m\n\u001b[0;32m--> 198\u001b[0m     \u001b[43mconnection\u001b[49m\u001b[38;5;241;43m.\u001b[39;49m\u001b[43mcheck\u001b[49m\u001b[43m(\u001b[49m\u001b[43m)\u001b[49m\u001b[38;5;241;43m.\u001b[39;49m\u001b[43msimulationStep\u001b[49m\u001b[43m(\u001b[49m\u001b[43mstep\u001b[49m\u001b[43m)\u001b[49m\n",
      "File \u001b[0;32m~/.pyenv/versions/3.10.6/envs/sumo_env/lib/python3.10/site-packages/traci/connection.py:370\u001b[0m, in \u001b[0;36mConnection.simulationStep\u001b[0;34m(self, step)\u001b[0m\n\u001b[1;32m    368\u001b[0m \u001b[38;5;28;01mif\u001b[39;00m \u001b[38;5;28mtype\u001b[39m(step) \u001b[38;5;129;01mis\u001b[39;00m \u001b[38;5;28mint\u001b[39m \u001b[38;5;129;01mand\u001b[39;00m step \u001b[38;5;241m>\u001b[39m\u001b[38;5;241m=\u001b[39m \u001b[38;5;241m1000\u001b[39m:\n\u001b[1;32m    369\u001b[0m     warnings\u001b[38;5;241m.\u001b[39mwarn(\u001b[38;5;124m\"\u001b[39m\u001b[38;5;124mAPI change now handles step as floating point seconds\u001b[39m\u001b[38;5;124m\"\u001b[39m, stacklevel\u001b[38;5;241m=\u001b[39m\u001b[38;5;241m2\u001b[39m)\n\u001b[0;32m--> 370\u001b[0m result \u001b[38;5;241m=\u001b[39m \u001b[38;5;28;43mself\u001b[39;49m\u001b[38;5;241;43m.\u001b[39;49m\u001b[43m_sendCmd\u001b[49m\u001b[43m(\u001b[49m\u001b[43mtc\u001b[49m\u001b[38;5;241;43m.\u001b[39;49m\u001b[43mCMD_SIMSTEP\u001b[49m\u001b[43m,\u001b[49m\u001b[43m \u001b[49m\u001b[38;5;28;43;01mNone\u001b[39;49;00m\u001b[43m,\u001b[49m\u001b[43m \u001b[49m\u001b[38;5;28;43;01mNone\u001b[39;49;00m\u001b[43m,\u001b[49m\u001b[43m \u001b[49m\u001b[38;5;124;43m\"\u001b[39;49m\u001b[38;5;124;43mD\u001b[39;49m\u001b[38;5;124;43m\"\u001b[39;49m\u001b[43m,\u001b[49m\u001b[43m \u001b[49m\u001b[43mstep\u001b[49m\u001b[43m)\u001b[49m\n\u001b[1;32m    371\u001b[0m \u001b[38;5;28;01mfor\u001b[39;00m subscriptionResults \u001b[38;5;129;01min\u001b[39;00m \u001b[38;5;28mself\u001b[39m\u001b[38;5;241m.\u001b[39m_subscriptionMapping\u001b[38;5;241m.\u001b[39mvalues():\n\u001b[1;32m    372\u001b[0m     subscriptionResults\u001b[38;5;241m.\u001b[39mreset()\n",
      "File \u001b[0;32m~/.pyenv/versions/3.10.6/envs/sumo_env/lib/python3.10/site-packages/traci/connection.py:232\u001b[0m, in \u001b[0;36mConnection._sendCmd\u001b[0;34m(self, cmdID, varID, objID, format, *values)\u001b[0m\n\u001b[1;32m    230\u001b[0m     \u001b[38;5;28mself\u001b[39m\u001b[38;5;241m.\u001b[39m_string \u001b[38;5;241m+\u001b[39m\u001b[38;5;241m=\u001b[39m struct\u001b[38;5;241m.\u001b[39mpack(\u001b[38;5;124m\"\u001b[39m\u001b[38;5;124m!i\u001b[39m\u001b[38;5;124m\"\u001b[39m, \u001b[38;5;28mlen\u001b[39m(objID)) \u001b[38;5;241m+\u001b[39m objID\n\u001b[1;32m    231\u001b[0m \u001b[38;5;28mself\u001b[39m\u001b[38;5;241m.\u001b[39m_string \u001b[38;5;241m+\u001b[39m\u001b[38;5;241m=\u001b[39m packed\n\u001b[0;32m--> 232\u001b[0m \u001b[38;5;28;01mreturn\u001b[39;00m \u001b[38;5;28;43mself\u001b[39;49m\u001b[38;5;241;43m.\u001b[39;49m\u001b[43m_sendExact\u001b[49m\u001b[43m(\u001b[49m\u001b[43m)\u001b[49m\n",
      "File \u001b[0;32m~/.pyenv/versions/3.10.6/envs/sumo_env/lib/python3.10/site-packages/traci/connection.py:137\u001b[0m, in \u001b[0;36mConnection._sendExact\u001b[0;34m(self)\u001b[0m\n\u001b[1;32m    135\u001b[0m     \u001b[38;5;28mself\u001b[39m\u001b[38;5;241m.\u001b[39m_socket\u001b[38;5;241m.\u001b[39mclose()\n\u001b[1;32m    136\u001b[0m     \u001b[38;5;28mself\u001b[39m\u001b[38;5;241m.\u001b[39m_socket \u001b[38;5;241m=\u001b[39m \u001b[38;5;28;01mNone\u001b[39;00m\n\u001b[0;32m--> 137\u001b[0m     \u001b[38;5;28;01mraise\u001b[39;00m FatalTraCIError(\u001b[38;5;124m\"\u001b[39m\u001b[38;5;124mConnection closed by SUMO.\u001b[39m\u001b[38;5;124m\"\u001b[39m)\n\u001b[1;32m    138\u001b[0m \u001b[38;5;28;01mfor\u001b[39;00m command \u001b[38;5;129;01min\u001b[39;00m \u001b[38;5;28mself\u001b[39m\u001b[38;5;241m.\u001b[39m_queue:\n\u001b[1;32m    139\u001b[0m     prefix \u001b[38;5;241m=\u001b[39m result\u001b[38;5;241m.\u001b[39mread(\u001b[38;5;124m\"\u001b[39m\u001b[38;5;124m!BBB\u001b[39m\u001b[38;5;124m\"\u001b[39m)\n",
      "\u001b[0;31mFatalTraCIError\u001b[0m: Connection closed by SUMO."
     ]
    }
   ],
   "source": [
    "rewards = []\n",
    "best_score = 0\n",
    "reward = 0\n",
    "total_reward = 0\n",
    "list_values = []\n",
    "weights = []\n",
    "wait_times = []\n",
    "# replay_buffer = deque(maxlen=2000)\n",
    "\n",
    "#SEED\n",
    "seed_value = np.random.randint(1000)\n",
    "#seed_value = 41\n",
    "sumoCmd = [sumo_gui_bin, \"-c\", simulConfig, \"--start\", \"--seed\", str(seed_value)]\n",
    "\n",
    "if traci.isLoaded():\n",
    "    traci.close()\n",
    "traci.start(sumoCmd)\n",
    "lane_ids =  traci.lane.getIDList()\n",
    "# print(lane_ids[0])\n",
    "# for lane in lane_ids:\n",
    "#     print(traci.lane.getLastStepVehicleNumber(lane))\n",
    "# north_lane = traci.lane.getLastStepVehicleNumber(\"N_0\")\n",
    "# south_lane = traci.lane.getLastStepVehicleNumber(\"S_0\")\n",
    "# east_lane = traci.lane.getLastStepVehicleNumber(\"E_0\")\n",
    "# west_lane = traci.lane.getLastStepVehicleNumber(\"W_0\")\n",
    "trafic_light_ids = traci.trafficlight.getIDList()\n",
    "\n",
    "state = np.array(get_state(lane_ids))\n",
    "action=-1\n",
    "# print(state)\n",
    "wait_times.append(0)\n",
    "for step in range(100000): ## TO CHANGED\n",
    "    #epsilon = max(1 - episode / 10, 0.01)\n",
    "    nom_du_feu= traci.trafficlight.getIDList()[0]\n",
    "\n",
    "    if step%2000 == 0:\n",
    "        state=np.array(get_state(lane_ids))\n",
    "        #action = epsilon_greedy_policy(state,0)*2\n",
    "        action = np.random.randint(8)\n",
    "        print(\"action\", action)\n",
    "        #print(traci.trafficlight.getAllProgramLogics(nom_du_feu))\n",
    "\n",
    "        #print(traci.trafficlight.getAllProgramLogics(nom_du_feu)[0].phases[action])\n",
    "        traci.trafficlight.setPhase(trafic_light_ids[0],action)\n",
    "    traci.simulationStep()\n",
    "\n",
    "traci.close()\n"
   ]
  },
  {
   "cell_type": "code",
   "execution_count": null,
   "metadata": {},
   "outputs": [],
   "source": []
  }
 ],
 "metadata": {
  "kernelspec": {
   "display_name": "sumo_env",
   "language": "python",
   "name": "python3"
  },
  "language_info": {
   "codemirror_mode": {
    "name": "ipython",
    "version": 3
   },
   "file_extension": ".py",
   "mimetype": "text/x-python",
   "name": "python",
   "nbconvert_exporter": "python",
   "pygments_lexer": "ipython3",
   "version": "3.10.6"
  }
 },
 "nbformat": 4,
 "nbformat_minor": 2
}
