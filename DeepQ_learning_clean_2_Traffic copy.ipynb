{
 "cells": [
  {
   "cell_type": "code",
   "execution_count": null,
   "metadata": {},
   "outputs": [],
   "source": [
    "%load_ext autoreload\n",
    "%autoreload 2"
   ]
  },
  {
   "cell_type": "code",
   "execution_count": 1,
   "metadata": {},
   "outputs": [],
   "source": [
    "import os\n",
    "import traci\n",
    "import numpy as np\n",
    "from tensorflow.keras import Sequential, layers\n",
    "from tensorflow.random import set_seed\n",
    "from collections import deque\n",
    "from tensorflow import keras\n",
    "from tensorflow import reduce_sum, reduce_mean, one_hot, GradientTape\n",
    "from tensorflow.keras.losses import MeanSquaredError\n",
    "import matplotlib.pyplot as plt\n",
    "import tensorflow as tf"
   ]
  },
  {
   "cell_type": "code",
   "execution_count": 2,
   "metadata": {},
   "outputs": [
    {
     "name": "stdout",
     "output_type": "stream",
     "text": [
      "/Library/Frameworks/EclipseSUMO.framework/Versions/1.22.0/EclipseSUMO/bin/sumo-gui\n"
     ]
    }
   ],
   "source": [
    "from dotenv import load_dotenv\n",
    "load_dotenv()\n",
    "\n",
    "\n",
    "sumo_bin = os.getenv(\"SUMO\")\n",
    "#sumo_gui_bin = os.getenv(\"SUMO-GUI\")\n",
    "sumo_gui_bin = '/Library/Frameworks/EclipseSUMO.framework/Versions/1.22.0/EclipseSUMO/bin/sumo-gui'\n",
    "simulConfig = os.getenv(\"SIMUL-CONFIG2\")\n",
    "\n",
    "\n",
    "print(sumo_gui_bin)"
   ]
  },
  {
   "cell_type": "code",
   "execution_count": 3,
   "metadata": {},
   "outputs": [],
   "source": [
    "from state import get_state, queue\n",
    "from reward import calculate_reward, calculate_rewardV3"
   ]
  },
  {
   "cell_type": "code",
   "execution_count": 4,
   "metadata": {},
   "outputs": [
    {
     "name": "stderr",
     "output_type": "stream",
     "text": [
      "/Users/pr/.pyenv/versions/3.10.6/envs/sumo_env/lib/python3.10/site-packages/keras/src/layers/activations/leaky_relu.py:41: UserWarning: Argument `alpha` is deprecated. Use `negative_slope` instead.\n",
      "  warnings.warn(\n",
      "/Users/pr/.pyenv/versions/3.10.6/envs/sumo_env/lib/python3.10/site-packages/keras/src/layers/core/dense.py:87: UserWarning: Do not pass an `input_shape`/`input_dim` argument to a layer. When using Sequential models, prefer using an `Input(shape)` object as the first layer in the model instead.\n",
      "  super().__init__(activity_regularizer=activity_regularizer, **kwargs)\n"
     ]
    }
   ],
   "source": [
    "set_seed(42)  # extra code – ensures reproducibility on the CPU\n",
    "\n",
    "input_shape = [184]  # == env.observation_space.shape\n",
    "n_outputs = 16  # == env.action_space.n\n",
    "#[((Phase(duration=30.0, state='GGrGrrGGrGrr', minDur=30.0, maxDur=30.0), Phase(duration=20.0, state='grGgrrgrGgrr', minDur=20.0, maxDur=20.0), Phase(duration=30.0, state='GrrGGrGrrGGr', minDur=30.0, maxDur=30.0), Phase(duration=20.0, state='grrgrGgrrgrG', minDur=20.0, maxDur=20.0)), [0, 2, 4, 6])]\n",
    "model_action = Sequential([\n",
    "    layers.Dense(128,activation=tf.keras.layers.LeakyReLU(alpha=0.01), input_shape=input_shape),\n",
    "    layers.Dense(128, activation=tf.keras.layers.LeakyReLU(alpha=0.01)),\n",
    "    layers.Dense(32, activation=tf.keras.layers.LeakyReLU(alpha=0.01)),\n",
    "    layers.Dense(n_outputs, activation= 'linear')])"
   ]
  },
  {
   "cell_type": "code",
   "execution_count": 5,
   "metadata": {},
   "outputs": [],
   "source": [
    "def epsilon_greedy_policy(state, epsilon=0):\n",
    "    if np.random.rand() < epsilon:\n",
    "        return np.random.randint(n_outputs)  # random action\n",
    "    else:\n",
    "\n",
    "        Q_values = model_action.predict(state[np.newaxis], verbose=0)[0]\n",
    "        print(Q_values)\n",
    "        return Q_values.argmax()  # optimal action according to the DQN"
   ]
  },
  {
   "cell_type": "code",
   "execution_count": 6,
   "metadata": {},
   "outputs": [],
   "source": [
    "def sample_experiences(batch_size):\n",
    "    indices = np.random.randint(len(replay_buffer), size=batch_size)\n",
    "    batch = [replay_buffer[index] for index in indices]\n",
    "    states, actions, rewards, next_states = [\n",
    "        np.array([experience[field_index] for experience in batch])\n",
    "        for field_index in range(4)\n",
    "    ]\n",
    "    return states, actions, rewards, next_states"
   ]
  },
  {
   "cell_type": "code",
   "execution_count": 7,
   "metadata": {},
   "outputs": [],
   "source": [
    "batch_size = 32\n",
    "discount_factor = 0.5\n",
    "optimizer = keras.optimizers.Adam(learning_rate=0.05)\n",
    "loss_fn = MeanSquaredError()\n",
    "\n",
    "def training_step(batch_size):\n",
    "    experiences = sample_experiences(batch_size)\n",
    "    states, actions, rewards, next_states = experiences  # a changer\n",
    "    next_Q_values = model_action.predict(next_states, verbose=0)\n",
    "    max_next_Q_values = next_Q_values.max(axis=1)\n",
    "    # runs = 1.0 - (dones | truncateds)  # episode is not done or truncated\n",
    "    target_Q_values = rewards + discount_factor * max_next_Q_values\n",
    "    target_Q_values = target_Q_values.reshape(-1, 1)\n",
    "    mask = one_hot(actions, n_outputs)\n",
    "    with GradientTape() as tape:\n",
    "        all_Q_values = model_action(states)\n",
    "        Q_values = reduce_sum(all_Q_values * mask, axis=1, keepdims=True)\n",
    "        loss = reduce_mean(loss_fn(target_Q_values, Q_values))\n",
    "\n",
    "    grads = tape.gradient(loss, model_action.trainable_variables)\n",
    "    optimizer.apply_gradients(zip(grads, model_action.trainable_variables))"
   ]
  },
  {
   "cell_type": "code",
   "execution_count": null,
   "metadata": {},
   "outputs": [
    {
     "name": "stdout",
     "output_type": "stream",
     "text": [
      " Retrying in 1 seconds\n"
     ]
    },
    {
     "name": "stderr",
     "output_type": "stream",
     "text": [
      "Warning: Environment variable SUMO_HOME is not set properly, disabling XML validation. Set 'auto' or 'always' for web lookups.\n"
     ]
    },
    {
     "name": "stdout",
     "output_type": "stream",
     "text": [
      "Step #720.00 (0ms ?*RT. ?UPS, TraCI: 0ms, vehicles TOT 153 ACT 33 BUF 0)                   #180.00 (0ms ?*RT. ?UPS, TraCI: 0ms, vehicles TOT 37 ACT 15 BUF 0)                   0.00 (0ms ?*RT. ?UPS, TraCI: 0ms, vehicles TOT 78 ACT 23 BUF 0)                    (0ms ?*RT. ?UPS, TraCI: 0ms, vehicles TOT 113 ACT 14 BUF 0)                  episode : 0\n",
      "Step #800.40 (0ms ?*RT. ?UPS, TraCI: 1ms, vehicles TOT 171 ACT 26 BUF 0)                  \n",
      " Retrying in 1 seconds\n"
     ]
    },
    {
     "name": "stderr",
     "output_type": "stream",
     "text": [
      "Warning: Environment variable SUMO_HOME is not set properly, disabling XML validation. Set 'auto' or 'always' for web lookups.\n"
     ]
    },
    {
     "name": "stdout",
     "output_type": "stream",
     "text": [
      "Step #720.00 (0ms ?*RT. ?UPS, TraCI: 0ms, vehicles TOT 174 ACT 21 BUF 0)                  episode : 1\n",
      "Step #800.40 (0ms ?*RT. ?UPS, TraCI: 0ms, vehicles TOT 191 ACT 21 BUF 0)                  \n",
      " Retrying in 1 seconds\n"
     ]
    },
    {
     "name": "stderr",
     "output_type": "stream",
     "text": [
      "Warning: Environment variable SUMO_HOME is not set properly, disabling XML validation. Set 'auto' or 'always' for web lookups.\n"
     ]
    },
    {
     "name": "stdout",
     "output_type": "stream",
     "text": [
      "Step #720.00 (0ms ?*RT. ?UPS, TraCI: 0ms, vehicles TOT 302 ACT 47 BUF 0)                  episode : 2\n",
      "Step #800.40 (0ms ?*RT. ?UPS, TraCI: 0ms, vehicles TOT 334 ACT 37 BUF 0)                  \n",
      " Retrying in 1 seconds\n"
     ]
    },
    {
     "name": "stderr",
     "output_type": "stream",
     "text": [
      "Warning: Environment variable SUMO_HOME is not set properly, disabling XML validation. Set 'auto' or 'always' for web lookups.\n"
     ]
    },
    {
     "name": "stdout",
     "output_type": "stream",
     "text": [
      "Step #720.00 (0m[-0.6900737  -0.21971965  0.7501506  -0.02178656 -0.20268634  0.0531821   \n",
      " -0.21407126  0.32944945 -0.399992    0.6159443   0.3921771   0.70861965\n",
      " -0.9181818  -0.06207876 -0.6781056  -0.21464393]\n",
      "episode : 3\n",
      "Step #800.40 (0ms ?*RT. ?UPS, TraCI: 0ms, vehicles TOT 210 ACT 25 BUF 0)                  \n",
      " Retrying in 1 seconds\n"
     ]
    },
    {
     "name": "stderr",
     "output_type": "stream",
     "text": [
      "Warning: Environment variable SUMO_HOME is not set properly, disabling XML validation. Set 'auto' or 'always' for web lookups.\n"
     ]
    },
    {
     "name": "stdout",
     "output_type": "stream",
     "text": [
      "[-0.28959298  0.09678537  0.45143104 -0.0400597  -0.12036061 -0.17234208\n",
      " -0.02797031  0.34888983 -0.22488211  0.4416243   0.08581377  0.31268662\n",
      " -0.29726705  0.06933368 -0.2984342  -0.14338596]\n",
      "Step #720.00 (0ms ?*RT. ?UPS, TraCI: 0ms, vehicles TOT 143 ACT 17 BUF 0)                  episode : 4\n",
      "Step #800.40 (0ms ?*RT. ?UPS, TraCI: 0ms, vehicles TOT 162 ACT 28 BUF 0)                  \n",
      " Retrying in 1 seconds\n"
     ]
    },
    {
     "name": "stderr",
     "output_type": "stream",
     "text": [
      "Warning: Environment variable SUMO_HOME is not set properly, disabling XML validation. Set 'auto' or 'always' for web lookups.\n"
     ]
    },
    {
     "name": "stdout",
     "output_type": "stream",
     "text": [
      "Step #720.00 (0ms ?*RT. ?UPS, TraCI: 0ms, vehicles TOT 335 ACT 51 BUF 0)                  episode : 5\n",
      "Step #800.40 (0ms ?*RT. ?UPS, TraCI: 0ms, vehicles TOT 371 ACT 61 BUF 1)                  \n",
      " Retrying in 1 seconds\n"
     ]
    },
    {
     "name": "stderr",
     "output_type": "stream",
     "text": [
      "Warning: Environment variable SUMO_HOME is not set properly, disabling XML validation. Set 'auto' or 'always' for web lookups.\n"
     ]
    },
    {
     "name": "stdout",
     "output_type": "stream",
     "text": [
      "Step #720.00 (0ms ?*RT. ?UPS, TraCI: 0ms, vehicles TOT 253 ACT 31 BUF 1)                  episode : 6\n",
      "Step #800.40 (0ms ?*RT. ?UPS, TraCI: 0ms, vehicles TOT 282 ACT 35 BUF 0)                  \n",
      " Retrying in 1 seconds\n"
     ]
    },
    {
     "name": "stderr",
     "output_type": "stream",
     "text": [
      "Warning: Environment variable SUMO_HOME is not set properly, disabling XML validation. Set 'auto' or 'always' for web lookups.\n"
     ]
    },
    {
     "name": "stdout",
     "output_type": "stream",
     "text": [
      "Step #720.00 (1ms ?*RT. ?UPS, TraCI: 0ms, vehicles TOT 175 ACT 29 BUF 0)                  episode : 7\n",
      "Step #800.40 (0ms ?*RT. ?UPS, TraCI: 0ms, vehicles TOT 198 ACT 21 BUF 0)                  \n",
      " Retrying in 1 seconds\n"
     ]
    },
    {
     "name": "stderr",
     "output_type": "stream",
     "text": [
      "Warning: Environment variable SUMO_HOME is not set properly, disabling XML validation. Set 'auto' or 'always' for web lookups.\n"
     ]
    },
    {
     "name": "stdout",
     "output_type": "stream",
     "text": [
      "Step #720.00 (0ms ?*RT. ?UPS, TraCI: 0ms, vehicles TOT 139 ACT 17 BUF 0)                  episode : 8\n",
      "Step #800.40 (0ms ?*RT. ?UPS, TraCI: 0ms, vehicles TOT 157 ACT 28 BUF 0)                  \n",
      " Retrying in 1 seconds\n"
     ]
    },
    {
     "name": "stderr",
     "output_type": "stream",
     "text": [
      "Warning: Environment variable SUMO_HOME is not set properly, disabling XML validation. Set 'auto' or 'always' for web lookups.\n"
     ]
    },
    {
     "name": "stdout",
     "output_type": "stream",
     "text": [
      "[1709.8008   722.66174 2997.457   1581.5509  1697.6593  1070.7985\n",
      "  575.513    728.42065 1803.8346  1673.4093  1654.4568  3067.2942\n",
      " 1318.2861  2823.1125  1526.6482  1372.1848 ]\n",
      "Step #720.00 (0ms ?*RT. ?UPS, TraCI: 1ms, vehicles TOT 237 ACT 40 BUF 0)                  episode : 9\n",
      "Step #800.40 (0ms ?*RT. ?UPS, TraCI: 0ms, vehicles TOT 256 ACT 35 BUF 0)                  \n",
      " Retrying in 1 seconds\n"
     ]
    },
    {
     "name": "stderr",
     "output_type": "stream",
     "text": [
      "Warning: Environment variable SUMO_HOME is not set properly, disabling XML validation. Set 'auto' or 'always' for web lookups.\n"
     ]
    },
    {
     "name": "stdout",
     "output_type": "stream",
     "text": [
      "Step #720.00 (0ms ?*RT. ?UPS, TraCI: 1ms, vehicles TOT 289 ACT 33 BUF 0)                  episode : 10\n",
      "Step #800.40 (0ms ?*RT. ?UPS, TraCI: 0ms, vehicles TOT 327 ACT 53 BUF 0)                  \n",
      " Retrying in 1 seconds\n"
     ]
    },
    {
     "name": "stderr",
     "output_type": "stream",
     "text": [
      "Warning: Environment variable SUMO_HOME is not set properly, disabling XML validation. Set 'auto' or 'always' for web lookups.\n"
     ]
    },
    {
     "name": "stdout",
     "output_type": "stream",
     "text": [
      "[  351.52734  -929.2028   -450.05353   428.58582   -80.09376 -1141.1256\n",
      "  -692.562     319.63455   356.21225   -53.26298   600.82196   594.9793\n",
      " -1029.8567    353.40048  -334.77948   234.21642]\n",
      "Step #720.00 (0ms ?*RT. ?UPS, TraCI: 0ms, vehicles TOT 321 ACT 37 BUF 0)                  episode : 11\n",
      "Step #800.40 (0ms ?*RT. ?UPS, TraCI: 1ms, vehicles TOT 357 ACT 41 BUF 0)                  \n",
      " Retrying in 1 seconds\n"
     ]
    },
    {
     "name": "stderr",
     "output_type": "stream",
     "text": [
      "Warning: Environment variable SUMO_HOME is not set properly, disabling XML validation. Set 'auto' or 'always' for web lookups.\n"
     ]
    },
    {
     "name": "stdout",
     "output_type": "stream",
     "text": [
      "Step #720.00 (0ms ?*RT. ?UPS, TraCI: 0ms, vehicles TOT 107 ACT 13 BUF 0)                  episode : 12\n",
      "Step #800.40 (0ms ?*RT. ?UPS, TraCI: 0ms, vehicles TOT 119 ACT 11 BUF 0)                  \n",
      " Retrying in 1 seconds\n"
     ]
    },
    {
     "name": "stderr",
     "output_type": "stream",
     "text": [
      "Warning: Environment variable SUMO_HOME is not set properly, disabling XML validation. Set 'auto' or 'always' for web lookups.\n"
     ]
    },
    {
     "name": "stdout",
     "output_type": "stream",
     "text": [
      "Step #720.00 (0ms ?*RT. ?UPS, TraCI: 0ms, vehicles TOT 179 ACT 17 BUF 0)                  episode : 13\n",
      "Step #800.40 (0ms ?*RT. ?UPS, TraCI: 0ms, vehicles TOT 204 ACT 21 BUF 0)                  \n",
      " Retrying in 1 seconds\n"
     ]
    },
    {
     "name": "stderr",
     "output_type": "stream",
     "text": [
      "Warning: Environment variable SUMO_HOME is not set properly, disabling XML validation. Set 'auto' or 'always' for web lookups.\n"
     ]
    },
    {
     "name": "stdout",
     "output_type": "stream",
     "text": [
      "[  529.63916 -1063.1982    202.80524   276.5067   -336.81207  -634.8337\n",
      "  -698.8145     88.34587   373.31424   -65.14782   -98.28266   110.62163\n",
      "  -828.12665   -83.56784  -526.23584  -340.22662]\n",
      "Step #720.00 (0ms ?*RT. ?UPS, TraCI: 0ms, vehicles TOT 191 ACT 24 BUF 0)                  episode : 14\n",
      "Step #800.40 (0ms ?*RT. ?UPS, TraCI: 0ms, vehicles TOT 210 ACT 20 BUF 0)                  \n",
      " Retrying in 1 seconds\n"
     ]
    },
    {
     "name": "stderr",
     "output_type": "stream",
     "text": [
      "Warning: Environment variable SUMO_HOME is not set properly, disabling XML validation. Set 'auto' or 'always' for web lookups.\n"
     ]
    },
    {
     "name": "stdout",
     "output_type": "stream",
     "text": [
      "[-1591.8926   4773.873     870.9775   3117.073    -626.44116  1067.878\n",
      "  2050.2786   -257.08115 -1334.7198   1162.6904  -1167.6749  -1374.4008\n",
      "  2124.3523   -378.47488  4278.108    1690.9384 ]\n",
      "Step #720.00 (1ms ?*RT. ?UPS, TraCI: 0ms, vehicles TOT 341 ACT 49 BUF 0)                  episode : 15\n",
      "Step #800.40 (0ms ?*RT. ?UPS, TraCI: 0ms, vehicles TOT 379 ACT 38 BUF 0)                  \n",
      " Retrying in 1 seconds\n"
     ]
    },
    {
     "name": "stderr",
     "output_type": "stream",
     "text": [
      "Warning: Environment variable SUMO_HOME is not set properly, disabling XML validation. Set 'auto' or 'always' for web lookups.\n"
     ]
    },
    {
     "name": "stdout",
     "output_type": "stream",
     "text": [
      "[-1258.9141   4034.0552    746.31757  2714.848    -577.7235    862.2542\n",
      "  1639.3646   -150.77904 -1278.77     1263.6057   -956.7788  -1216.5945\n",
      "  1702.2977   -381.7157   2780.3977   2056.9824 ]\n",
      "Step #720.00 (0ms ?*RT. ?UPS, TraCI: 0ms, vehicles TOT 235 ACT 36 BUF 0)                  episode : 16\n",
      "Step #800.40 (0ms ?*RT. ?UPS, TraCI: 0ms, vehicles TOT 259 ACT 33 BUF 0)                  \n",
      " Retrying in 1 seconds\n"
     ]
    },
    {
     "name": "stderr",
     "output_type": "stream",
     "text": [
      "Warning: Environment variable SUMO_HOME is not set properly, disabling XML validation. Set 'auto' or 'always' for web lookups.\n"
     ]
    },
    {
     "name": "stdout",
     "output_type": "stream",
     "text": [
      "[-569.5046  2386.51     560.47974 1637.298   -400.08878  420.97012\n",
      "  854.29803  -85.58063 -791.62665 1304.3743  -629.3918  -742.98724\n",
      "  961.87634 -331.9165  1502.9755  1745.8584 ]\n",
      "Step #720.00 (0ms ?*RT. ?UPS, TraCI: 0ms, vehicles TOT 151 ACT 23 BUF 0)                  episode : 17\n",
      "Step #800.40 (0ms ?*RT. ?UPS, TraCI: 0ms, vehicles TOT 165 ACT 21 BUF 0)                  \n",
      " Retrying in 1 seconds\n"
     ]
    },
    {
     "name": "stderr",
     "output_type": "stream",
     "text": [
      "Warning: Environment variable SUMO_HOME is not set properly, disabling XML validation. Set 'auto' or 'always' for web lookups.\n"
     ]
    },
    {
     "name": "stdout",
     "output_type": "stream",
     "text": [
      "[ 262.83432 2593.0771  1030.7902  2317.0774   347.80844  221.55681\n",
      "  758.05225 -163.17061 -578.48926 2447.1746  -590.4136  -856.86365\n",
      "  988.6235  -523.88696 2059.824   2334.539  ]\n",
      "[ 873.408     454.1796    663.777    1059.2726    248.82976  -184.47536\n",
      "  -30.107521   64.4126    118.62367  1307.6393     20.009176 -162.05464\n",
      "  -21.49468  -249.03073   674.4874   1317.6403  ]\n",
      "Step #720.00 (0ms ?*RT. ?UPS, TraCI: 0ms, vehicles TOT 130 ACT 20 BUF 0)                  episode : 18\n",
      "Step #800.40 (0ms ?*RT. ?UPS, TraCI: 0ms, vehicles TOT 142 ACT 24 BUF 0)                  \n",
      " Retrying in 1 seconds\n"
     ]
    },
    {
     "name": "stderr",
     "output_type": "stream",
     "text": [
      "Warning: Environment variable SUMO_HOME is not set properly, disabling XML validation. Set 'auto' or 'always' for web lookups.\n"
     ]
    },
    {
     "name": "stdout",
     "output_type": "stream",
     "text": [
      "Step #720.00 (0ms ?*RT. ?UPS, TraCI: 0ms, vehicles TOT 109 ACT 13 BUF 0)                  episode : 19\n",
      "Step #800.40 (0ms ?*RT. ?UPS, TraCI: 0ms, vehicles TOT 122 ACT 12 BUF 0)                  \n",
      " Retrying in 1 seconds\n"
     ]
    },
    {
     "name": "stderr",
     "output_type": "stream",
     "text": [
      "Warning: Environment variable SUMO_HOME is not set properly, disabling XML validation. Set 'auto' or 'always' for web lookups.\n"
     ]
    },
    {
     "name": "stdout",
     "output_type": "stream",
     "text": [
      "[1227.539    -171.48792  1027.7477   1306.5952    468.38843  -461.9388\n",
      " -433.69467   207.00397   501.96478  1282.6954     72.05746    34.810177\n",
      " -618.8965   -341.46048   486.82272   716.6957  ]\n",
      "[ 683.1231    906.9108    526.5259    956.3118    339.76727   -27.829609\n",
      "   51.75032   -22.191385  -52.501606  399.51917   -99.11763  -208.90031\n",
      "  358.29196  -222.37776   689.7733    649.1344  ]\n",
      "Step #720.00 (0ms ~= 10.00*RT, ~35000.00UPS, TraCI: 0ms, vehicles TOT 274 ACT 35 BUF 0)   episode : 20\n",
      "Step #800.40 (0ms ?*RT. ?UPS, TraCI: 0ms, vehicles TOT 302 ACT 33 BUF 0)                  \n",
      " Retrying in 1 seconds\n"
     ]
    },
    {
     "name": "stderr",
     "output_type": "stream",
     "text": [
      "Warning: Environment variable SUMO_HOME is not set properly, disabling XML validation. Set 'auto' or 'always' for web lookups.\n"
     ]
    },
    {
     "name": "stdout",
     "output_type": "stream",
     "text": [
      "Step #720.00 (0ms ?*RT. ?UPS, TraCI: 0ms, vehicles TOT 235 ACT 41 BUF 0)                  episode : 21\n",
      "Step #800.40 (0ms ?*RT. ?UPS, TraCI: 1ms, vehicles TOT 261 ACT 37 BUF 0)                  \n",
      " Retrying in 1 seconds\n"
     ]
    },
    {
     "name": "stderr",
     "output_type": "stream",
     "text": [
      "Warning: Environment variable SUMO_HOME is not set properly, disabling XML validation. Set 'auto' or 'always' for web lookups.\n"
     ]
    },
    {
     "name": "stdout",
     "output_type": "stream",
     "text": [
      "Step #720.00 (0ms ?*RT. ?UPS, TraCI: 1ms, vehicles TOT 108 ACT 12 BUF 0)                  [ 378.37665    14.144363  245.73161   295.51962   151.77867  -107.49216\n",
      "  -45.053833   61.749485  159.18158   414.68063    28.870623   87.66277\n",
      "  -61.2167    -13.483024  -17.722515   79.5152  ]\n",
      "episode : 22\n",
      "Step #800.40 (0ms ?*RT. ?UPS, TraCI: 0ms, vehicles TOT 119 ACT 13 BUF 0)                  \n",
      " Retrying in 1 seconds\n"
     ]
    },
    {
     "name": "stderr",
     "output_type": "stream",
     "text": [
      "Warning: Environment variable SUMO_HOME is not set properly, disabling XML validation. Set 'auto' or 'always' for web lookups.\n"
     ]
    },
    {
     "name": "stdout",
     "output_type": "stream",
     "text": [
      "[3657.4731   6846.878    2673.4392   3565.8335   1564.2026    358.2648\n",
      " 2328.2563     60.26976   127.427444 5180.1934   -468.99374   582.2384\n",
      " 5001.9062    498.59872  3077.2886   2770.21    ]\n",
      "[2070.5571   4229.153    1635.1172   2086.8745    889.34076   294.60086\n",
      " 1475.652     -16.76818    23.034508 3105.1118   -478.0134    333.9112\n",
      " 3188.934     341.23273  1892.72     1676.8488  ]\n",
      "Step #720.00 (0ms ?*RT. ?UPS, TraCI: 0ms, vehicles TOT 257 ACT 30 BUF 0)                  [1547.2848  4539.5854  1273.1519  1658.4713   735.7127   519.4832\n",
      " 1652.2058  -183.69395 -304.88272 2477.0303  -671.2783   169.63783\n",
      " 3577.8699   387.26645 2073.9233  1716.1532 ]\n",
      "episode : 23\n",
      "Step #800.40 (0ms ?*RT. ?UPS, TraCI: 0ms, vehicles TOT 283 ACT 30 BUF 0)                  \n",
      " Retrying in 1 seconds\n"
     ]
    },
    {
     "name": "stderr",
     "output_type": "stream",
     "text": [
      "Warning: Environment variable SUMO_HOME is not set properly, disabling XML validation. Set 'auto' or 'always' for web lookups.\n"
     ]
    },
    {
     "name": "stdout",
     "output_type": "stream",
     "text": [
      "[1315.2318   2985.5198   1201.7758   1394.7812    523.5444    277.36752\n",
      "  955.605     -56.650826  -18.203047 2133.7827   -545.5745    208.90639\n",
      " 2351.4448    236.75233  1361.0972   1097.5222  ]\n",
      "Step #720.00 (0ms ?*RT. ?UPS, TraCI: 0ms, vehicles TOT 245 ACT 37 BUF 0)                  episode : 24\n",
      "Step #800.40 (1ms ~= 10.00*RT, ~48000.00UPS, TraCI: 0ms, vehicles TOT 273 ACT 48 BUF 0)   \n",
      " Retrying in 1 seconds\n"
     ]
    },
    {
     "name": "stderr",
     "output_type": "stream",
     "text": [
      "Warning: Environment variable SUMO_HOME is not set properly, disabling XML validation. Set 'auto' or 'always' for web lookups.\n"
     ]
    },
    {
     "name": "stdout",
     "output_type": "stream",
     "text": [
      "[ 475.8429    -97.022285  427.28088   454.2179    230.24667  -205.12636\n",
      "   82.16239   158.3021    306.09467   972.31934    14.39565   161.7322\n",
      " -111.33414   294.6624    -68.782845 -101.674385]\n",
      "Step #720.00 (0ms ?*RT. ?UPS, TraCI: 0ms, vehicles TOT 154 ACT 23 BUF 0)                  episode : 25\n",
      "Step #800.40 (1ms ~= 10.00*RT, ~22000.00UPS, TraCI: 0ms, vehicles TOT 168 ACT 22 BUF 0)   \n",
      " Retrying in 1 seconds\n"
     ]
    },
    {
     "name": "stderr",
     "output_type": "stream",
     "text": [
      "Warning: Environment variable SUMO_HOME is not set properly, disabling XML validation. Set 'auto' or 'always' for web lookups.\n"
     ]
    },
    {
     "name": "stdout",
     "output_type": "stream",
     "text": [
      "Step #720.00 (0ms ?*RT. ?UPS, TraCI: 0ms, vehicles TOT 92 ACT 15 BUF 0)                   episode : 26\n",
      "Step #800.40 (0ms ?*RT. ?UPS, TraCI: 0ms, vehicles TOT 103 ACT 14 BUF 0)                  \n",
      " Retrying in 1 seconds\n"
     ]
    },
    {
     "name": "stderr",
     "output_type": "stream",
     "text": [
      "Warning: Environment variable SUMO_HOME is not set properly, disabling XML validation. Set 'auto' or 'always' for web lookups.\n"
     ]
    },
    {
     "name": "stdout",
     "output_type": "stream",
     "text": [
      "[ 963.3691   2884.5522    807.4765   1040.0447    306.56845  -537.2008\n",
      " 2652.4932    111.514656 -407.35553  3321.9343   -662.75116  -171.83028\n",
      " 3158.439    1725.4833    449.0107    782.57336 ]\n",
      "[ 1546.1743    2251.8215    1251.9111    1448.8833     417.67438\n",
      " -1283.5709    2889.1003     536.8878      78.319115  4701.645\n",
      "  -318.73547     97.62394   2889.8657    2121.8586    -319.46118\n",
      "   523.13477 ]\n",
      "[ 2586.0022   7112.1055   2290.8333   2773.3613   1878.4     -1657.492\n",
      "  5510.397     407.60538  -918.5837   9282.808   -1541.5695   -400.12213\n",
      "  8208.353    2977.8518   1128.1835   1907.7098 ]\n",
      "Step #720.00 (0ms ?*RT. ?UPS, TraCI: 0ms, vehicles TOT 256 ACT 54 BUF 0)                  [ 3350.3896 10154.434   3006.6492  3673.115   3186.0554 -1995.1399\n",
      "  7686.294    350.6275 -1498.7836 12245.557  -2179.1829  -721.4824\n",
      "  9843.764   3723.2542  1950.0762  2787.6772]\n",
      "episode : 27\n",
      "Step #800.40 (0ms ?*RT. ?UPS, TraCI: 0ms, vehicles TOT 281 ACT 59 BUF 0)                  \n",
      " Retrying in 1 seconds\n"
     ]
    },
    {
     "name": "stderr",
     "output_type": "stream",
     "text": [
      "Warning: Environment variable SUMO_HOME is not set properly, disabling XML validation. Set 'auto' or 'always' for web lookups.\n"
     ]
    },
    {
     "name": "stdout",
     "output_type": "stream",
     "text": [
      "[ 1492.574    2047.2582   1327.5022   1466.4985    979.8851  -1227.2191\n",
      "  2533.4675    576.6034    167.9287   4721.0884   -200.2438    130.68158\n",
      "  1645.6475   1243.8008   -104.1256    430.82852]\n",
      "Step #720.00 (1ms ~= 10.00*RT, ~51000.00UPS, TraCI: 0ms, vehicles TOT 231 ACT 51 BUF 0)   episode : 28\n",
      "Step #800.40 (0ms ?*RT. ?UPS, TraCI: 0ms, vehicles TOT 260 ACT 39 BUF 0)                  \n",
      " Retrying in 1 seconds\n"
     ]
    },
    {
     "name": "stderr",
     "output_type": "stream",
     "text": [
      "Warning: Environment variable SUMO_HOME is not set properly, disabling XML validation. Set 'auto' or 'always' for web lookups.\n"
     ]
    },
    {
     "name": "stdout",
     "output_type": "stream",
     "text": [
      "[ 202.6878  -546.83496  185.58885  150.11526 -172.44318 -255.66399\n",
      "  -69.38458  214.0772   401.86526  372.04712  185.13911  253.6303\n",
      " -464.78708   62.39794 -351.10223 -247.2785 ]\n",
      "Step #720.00 (0ms ?*RT. ?UPS, TraCI: 0ms, vehicles TOT 164 ACT 25 BUF 0)                  episode : 29\n",
      "Step #800.40 (0ms ?*RT. ?UPS, TraCI: 0ms, vehicles TOT 183 ACT 24 BUF 0)                  \n",
      " Retrying in 1 seconds\n"
     ]
    },
    {
     "name": "stderr",
     "output_type": "stream",
     "text": [
      "Warning: Environment variable SUMO_HOME is not set properly, disabling XML validation. Set 'auto' or 'always' for web lookups.\n"
     ]
    },
    {
     "name": "stdout",
     "output_type": "stream",
     "text": [
      "[ 1138.973    -385.3013   1437.5184    923.06116   164.27103 -1206.466\n",
      "  1028.3755    909.7973    999.00555  2894.1387    391.45352  1142.4609\n",
      "  -331.96658  1078.1595   -651.99884  -626.8016 ]\n",
      "[ 2067.9912    7840.124     3752.067     2348.887     2970.344\n",
      " -1105.2522    6019.6104     376.62125  -1727.7546    7957.0547\n",
      "   -27.604752  2648.0234    6637.6455    3229.8665    3395.4104\n",
      "  1390.9944  ]\n",
      "Step #720.00 (0ms ?*RT. ?UPS, TraCI: 0ms, vehicles TOT 201 ACT 29 BUF 0)                  [ 2009.1123   7304.9175   3083.719    2253.4226   2900.2275  -1129.0548\n",
      "  5873.8813    416.4602  -1565.7278   7623.5063    157.48041  2786.2986\n",
      "  6223.6567   2839.4727   3263.1682   1267.9691 ]\n",
      "episode : 30\n",
      "Step #800.40 (0ms ?*RT. ?UPS, TraCI: 0ms, vehicles TOT 218 ACT 26 BUF 0)                  \n",
      " Retrying in 1 seconds\n"
     ]
    },
    {
     "name": "stderr",
     "output_type": "stream",
     "text": [
      "Warning: Environment variable SUMO_HOME is not set properly, disabling XML validation. Set 'auto' or 'always' for web lookups.\n"
     ]
    },
    {
     "name": "stdout",
     "output_type": "stream",
     "text": [
      "[ 1648.3843   4418.818    1793.2166   1648.4775   2396.7732  -1198.7816\n",
      "  4167.0664    598.0605   -598.19104  4872.5864    701.96704  3168.6257\n",
      "  3801.976    2350.0344   1942.4387    954.1381 ]\n",
      "Step #720.00 (0ms ?*RT. ?UPS, TraCI: 0ms, vehicles TOT 196 ACT 31 BUF 0)                  episode : 31\n",
      "Step #800.40 (0ms ?*RT. ?UPS, TraCI: 0ms, vehicles TOT 218 ACT 30 BUF 0)                  \n",
      " Retrying in 1 seconds\n"
     ]
    },
    {
     "name": "stderr",
     "output_type": "stream",
     "text": [
      "Warning: Environment variable SUMO_HOME is not set properly, disabling XML validation. Set 'auto' or 'always' for web lookups.\n"
     ]
    },
    {
     "name": "stdout",
     "output_type": "stream",
     "text": [
      "[ 2491.3      3634.2305   2630.3594   2093.6433   3321.9492  -2209.3787\n",
      "  4433.0386   1366.0793    136.50851  5165.692    2187.8875   9480.322\n",
      "  2891.8489   3141.025    1182.3729    625.8844 ]\n",
      "Step #720.00 (0ms ?*RT. ?UPS, TraCI: 0ms, vehicles TOT 307 ACT 41 BUF 0)                  [ 1614.4945   1052.652    1774.2568   1200.2684   1998.8005  -1625.5922\n",
      "  2192.658    1145.6273    458.09152  3125.0593   1803.0314   6269.884\n",
      "   771.32104  1780.6305    250.19545    41.44309]\n",
      "episode : 32\n",
      "Step #800.40 (0ms ?*RT. ?UPS, TraCI: 0ms, vehicles TOT 341 ACT 41 BUF 0)                  \n",
      " Retrying in 1 seconds\n"
     ]
    },
    {
     "name": "stderr",
     "output_type": "stream",
     "text": [
      "Warning: Environment variable SUMO_HOME is not set properly, disabling XML validation. Set 'auto' or 'always' for web lookups.\n"
     ]
    },
    {
     "name": "stdout",
     "output_type": "stream",
     "text": [
      "[ 2738.775    4018.6152   3336.0222   2282.5103   3869.899   -2407.8306\n",
      "  4597.096    1574.9813    286.44632  6079.191    2615.7249  11289.191\n",
      "  2992.9082   3192.0664   1569.4362    685.7276 ]\n",
      "[ 2433.4856   6494.436    3139.3052   3111.1943   4111.3247  -1878.3169\n",
      "  4694.186     893.2136   -944.49146  6476.67     1837.2852  10763.982\n",
      "  4934.552    3324.7812   2264.715     996.09875]\n",
      "Step #720.00 (0ms ?*RT. ?UPS, TraCI: 0ms, vehicles TOT 327 ACT 37 BUF 0)                  episode : 33\n",
      "Step #800.40 (0ms ?*RT. ?UPS, TraCI: 0ms, vehicles TOT 361 ACT 39 BUF 0)                  \n",
      " Retrying in 1 seconds\n"
     ]
    },
    {
     "name": "stderr",
     "output_type": "stream",
     "text": [
      "Warning: Environment variable SUMO_HOME is not set properly, disabling XML validation. Set 'auto' or 'always' for web lookups.\n"
     ]
    },
    {
     "name": "stdout",
     "output_type": "stream",
     "text": [
      "[ 1559.8248   2882.4036   1809.9965   1809.7572   2086.7524  -1117.7565\n",
      "  1941.82      714.78577   241.66907  3838.7666   1234.2635   6122.8896\n",
      "  2159.1846   1754.363     878.43976   449.22586]\n",
      "[ 4155.1616 11923.741   5080.0654  5521.846   6330.2026 -2320.7817\n",
      "  6649.719   1138.9247  -386.6942  9881.794   2120.15   17214.959\n",
      "  9084.571   5323.3477  4359.795   2551.3745]\n",
      "Step #720.00 (0ms ?*RT. ?UPS, TraCI: 0ms, vehicles TOT 350 ACT 49 BUF 0)                  episode : 34\n",
      "Step #800.40 (0ms ?*RT. ?UPS, TraCI: 0ms, vehicles TOT 387 ACT 42 BUF 0)                  \n",
      " Retrying in 1 seconds\n"
     ]
    },
    {
     "name": "stderr",
     "output_type": "stream",
     "text": [
      "Warning: Environment variable SUMO_HOME is not set properly, disabling XML validation. Set 'auto' or 'always' for web lookups.\n"
     ]
    },
    {
     "name": "stdout",
     "output_type": "stream",
     "text": [
      "[ 3132.841   10428.763    4665.8057   2281.2844   4113.214   -1264.4065\n",
      "  6036.0186    255.25116  -806.8619   5312.6973   2409.4058  10656.472\n",
      "  7298.0396   3874.5945   3382.7527   1966.1962 ]\n",
      "[ 2681.0498   10291.039     4486.3325    1212.8824    3909.5737\n",
      "  -962.3112    5836.443      117.737366  -894.05066   4988.0874\n",
      "  3074.7944    9872.127     7199.301     3670.9917    3413.9175\n",
      "  2046.6694  ]\n",
      "Step #720.00 (0ms ?*RT. ?UPS, TraCI: 0ms, vehicles TOT 139 ACT 19 BUF 0)                  episode : 35\n",
      "Step #800.40 (0ms ?*RT. ?UPS, TraCI: 0ms, vehicles TOT 153 ACT 14 BUF 0)                  \n",
      " Retrying in 1 seconds\n"
     ]
    },
    {
     "name": "stderr",
     "output_type": "stream",
     "text": [
      "Warning: Environment variable SUMO_HOME is not set properly, disabling XML validation. Set 'auto' or 'always' for web lookups.\n"
     ]
    },
    {
     "name": "stdout",
     "output_type": "stream",
     "text": [
      "[ 3114.9666 11052.263   5595.3945  1420.8168  4335.342  -1149.4843\n",
      "  6293.5557   614.6163 -1080.946   8379.29    4751.613  11513.239\n",
      "  7347.0317  4258.4136  3379.1504  2792.9607]\n",
      "[1862.1698  5812.899   3547.4587  1072.4312  2658.894   -727.33826\n",
      " 3673.8071   647.98267 -645.52356 4713.255   3347.6711  6804.66\n",
      " 3950.7927  2587.9077  1830.5471  1548.2958 ]\n",
      "[ 3192.9993 10880.794   6154.317   1902.9436  4877.591  -1463.7142\n",
      "  7453.4814  1522.5911  -816.5456  8297.945   5380.671  11551.009\n",
      "  8017.5483  4623.211   3823.4146  2890.1938]\n",
      "Step #720.00 (0ms ?*RT. ?UPS, TraCI: 0ms, vehicles TOT 165 ACT 28 BUF 0)                  [ 2395.3462   7211.7544   4632.613    1400.5299   3593.5706  -1354.6791\n",
      "  5314.745    1453.7719   -176.72614  5995.1113   4316.8223   8835.176\n",
      "  5313.536    3395.371    2496.456    1888.6196 ]\n",
      "episode : 36\n",
      "Step #800.40 (0ms ?*RT. ?UPS, TraCI: 1ms, vehicles TOT 183 ACT 23 BUF 0)                  \n",
      " Retrying in 1 seconds\n"
     ]
    },
    {
     "name": "stderr",
     "output_type": "stream",
     "text": [
      "Warning: Environment variable SUMO_HOME is not set properly, disabling XML validation. Set 'auto' or 'always' for web lookups.\n"
     ]
    },
    {
     "name": "stdout",
     "output_type": "stream",
     "text": [
      "[ 3662.376   8748.157   7079.4287  2154.379   5991.247  -2496.4832\n",
      "  7590.9966  2829.5527   934.7418  8203.808   6271.4375 12907.806\n",
      "  6851.6772  4733.049   3398.0864  2282.079 ]\n",
      "[1433.5212  3137.031   2643.531    830.41974 2633.2312  -962.2952\n",
      " 2853.9614  1107.5188   692.4819  2906.9856  2402.1306  4912.67\n",
      " 2499.6172  1780.1302  1275.2056   832.9967 ]\n",
      "Step #720.00 (0ms ?*RT. ?UPS, TraCI: 0ms, vehicles TOT 301 ACT 33 BUF 0)                  episode : 37\n",
      "Step #800.40 (0ms ?*RT. ?UPS, TraCI: 0ms, vehicles TOT 331 ACT 34 BUF 0)                  \n",
      " Retrying in 1 seconds\n"
     ]
    },
    {
     "name": "stderr",
     "output_type": "stream",
     "text": [
      "Warning: Environment variable SUMO_HOME is not set properly, disabling XML validation. Set 'auto' or 'always' for web lookups.\n"
     ]
    },
    {
     "name": "stdout",
     "output_type": "stream",
     "text": [
      "[ 3133.4434  7275.9224  3747.6309  1753.0695  9115.845  -1788.6772\n",
      "  4421.897   1983.1543  3031.533   6670.577   4307.313   9250.502\n",
      "  5785.9966  4068.3716  3020.6038  2701.5864]\n",
      "[ 3226.4927  7376.657   3835.6091  1816.2571  9536.386  -1825.6475\n",
      "  4401.704   2052.9204  3160.4106  6936.0703  4413.465   9508.22\n",
      "  5848.644   4151.1973  3051.0093  2794.6655]\n",
      "[1880.3406 4546.994  2261.4194 1065.1758 5825.704  -981.4676 2551.47\n",
      " 1151.8102 1770.8933 4354.9155 2514.6194 5548.8623 3590.3323 2374.0852\n",
      " 1927.2621 1814.0554]\n",
      "[1481.369   2718.624   2006.4497   761.0544  4520.5957  -795.57477\n",
      " 1568.0676  1036.7385  1618.5217  3158.1987  2133.863   4439.691\n",
      " 2081.8901  1675.7676  1149.3102  1195.6996 ]\n",
      "[1616.4258  2824.1384  2281.314    829.46204 4890.5435  -845.2142\n",
      " 1639.1581  1145.2985  1791.5725  3365.532   2334.1702  4820.2207\n",
      " 2145.9275  1785.5703  1200.8301  1259.1406 ]\n",
      "Step #720.00 (0ms ?*RT. ?UPS, TraCI: 1ms, vehicles TOT 165 ACT 20 BUF 0)                  episode : 38\n",
      "Step #800.40 (0ms ?*RT. ?UPS, TraCI: 1ms, vehicles TOT 185 ACT 23 BUF 0)                  \n",
      " Retrying in 1 seconds\n"
     ]
    },
    {
     "name": "stderr",
     "output_type": "stream",
     "text": [
      "Warning: Environment variable SUMO_HOME is not set properly, disabling XML validation. Set 'auto' or 'always' for web lookups.\n"
     ]
    },
    {
     "name": "stdout",
     "output_type": "stream",
     "text": [
      "[ 3987.6511  7714.5664  5375.056   1944.6536  9307.69   -1179.5126\n",
      "  4227.686   2099.113   2210.684   7286.926   3507.9026  9400.762\n",
      "  6068.5723  3762.4414  3483.4888  3209.3716]\n",
      "[16994.469  15119.868  15620.448   5817.6963 14371.149  -4001.333\n",
      " 11466.547   8557.714   4460.566  16582.322   9170.0205 28176.426\n",
      " 12935.882   9908.042   6945.902   4632.711 ]\n",
      "[ 6805.72    5080.243   5917.7534  2346.4656  4591.2935 -1565.6244\n",
      "  4141.9976  3465.629   2746.1833  6027.8306  3485.9019 10979.6045\n",
      "  4514.746   3632.3066  2175.8135  1399.6279]\n",
      "Step #720.00 (0ms ?*RT. ?UPS, TraCI: 0ms, vehicles TOT 208 ACT 31 BUF 0)                  [ 7134.3423  6311.9404  6548.906   2447.6472  4749.525  -1479.3608\n",
      "  4841.4155  3358.8386  2683.5894  6562.6016  3299.7153 11330.186\n",
      "  5646.014   3861.896   2706.557   1761.9363]\n",
      "episode : 39\n",
      "Step #800.40 (0ms ?*RT. ?UPS, TraCI: 0ms, vehicles TOT 237 ACT 44 BUF 0)                  \n",
      " Retrying in 1 seconds\n"
     ]
    },
    {
     "name": "stderr",
     "output_type": "stream",
     "text": [
      "Warning: Environment variable SUMO_HOME is not set properly, disabling XML validation. Set 'auto' or 'always' for web lookups.\n"
     ]
    },
    {
     "name": "stdout",
     "output_type": "stream",
     "text": [
      "[ 5639.7554   3919.6074   5961.293    2071.4336   3500.9668  -1178.8271\n",
      "  3298.539    3489.9475   2988.095    4588.309    2814.9868   8620.529\n",
      "  3465.0374   2924.2031   1508.4946    985.10657]\n",
      "Step #720.00 (0ms ?*RT. ?UPS, TraCI: 0ms, vehicles TOT 183 ACT 19 BUF 0)                  episode : 40\n",
      "Step #800.40 (0ms ?*RT. ?UPS, TraCI: 0ms, vehicles TOT 203 ACT 27 BUF 0)                  \n",
      " Retrying in 1 seconds\n"
     ]
    },
    {
     "name": "stderr",
     "output_type": "stream",
     "text": [
      "Warning: Environment variable SUMO_HOME is not set properly, disabling XML validation. Set 'auto' or 'always' for web lookups.\n"
     ]
    },
    {
     "name": "stdout",
     "output_type": "stream",
     "text": [
      "[4031.106   2002.6205  3990.7544  1356.6176  2279.2275  -850.0799\n",
      " 1924.8627  2525.7263  2214.5469  2873.0393  2335.157   5606.1377\n",
      " 1642.4501  1896.8173   703.7025   479.76953]\n",
      "[ 4340.3926 -1561.8284  3621.3672  1429.5497  1228.079  -1144.7313\n",
      "   929.1685  3203.9775  2929.438   1784.9353  2966.9546  5306.0493\n",
      " -2000.8654  1451.7261  -773.3396  -565.8196]\n",
      "[ 4466.1045  -7524.4253   4533.5137   2797.586    -308.61505 -1469.7808\n",
      " -1650.5962   4501.6226   3787.4304   -730.5661   3483.15     4126.284\n",
      " -6111.8975    428.02905 -4200.0063  -2203.3818 ]\n",
      "[  2279.6084  -10117.032     3228.3677    2883.3313   -1872.8492\n",
      "  -1104.4144   -3699.987     3574.926     2720.881    -3124.8433\n",
      "   2205.0608     692.1259   -7426.031     -957.87305  -5804.0376\n",
      "  -2839.5989 ]\n",
      "Step #720.00 (0ms ?*RT. ?UPS, TraCI: 0ms, vehicles TOT 205 ACT 23 BUF 0)                  [ 4521.6963  -6234.209    3359.837    1390.1833     80.48724 -1829.0842\n",
      " -1281.941    4484.5273   4491.7456    408.1385   4234.2676   5673.317\n",
      " -5613.0303   1115.8179  -2999.784   -2073.7327 ]\n",
      "episode : 41\n",
      "Step #800.40 (0ms ?*RT. ?UPS, TraCI: 0ms, vehicles TOT 228 ACT 29 BUF 0)                  \n",
      " Retrying in 1 seconds\n"
     ]
    },
    {
     "name": "stderr",
     "output_type": "stream",
     "text": [
      "Warning: Environment variable SUMO_HOME is not set properly, disabling XML validation. Set 'auto' or 'always' for web lookups.\n"
     ]
    },
    {
     "name": "stdout",
     "output_type": "stream",
     "text": [
      "[  790.84247  -1307.1749     555.8996     239.09029    -53.84559\n",
      "  -358.7124    -369.9859     835.36115    863.4778     -22.962261\n",
      "   790.92065    999.47925  -1161.235      173.6053    -637.78925\n",
      "  -434.7287  ]\n",
      "[ 2777.8186  -2229.4043   2010.9545    861.12787    93.40165  -858.3577\n",
      "  -419.98376  2245.1296   2273.6853    497.75113  2061.0327   3193.7393\n",
      " -2134.5696    887.96735 -1028.5096   -671.54443]\n",
      "Step #720.00 (0ms ?*RT. ?UPS, TraCI: 0ms, vehicles TOT 103 ACT 15 BUF 0)                  episode : 42\n",
      "Step #800.40 (0ms ?*RT. ?UPS, TraCI: 0ms, vehicles TOT 116 ACT 23 BUF 0)                  \n",
      " Retrying in 1 seconds\n"
     ]
    },
    {
     "name": "stderr",
     "output_type": "stream",
     "text": [
      "Warning: Environment variable SUMO_HOME is not set properly, disabling XML validation. Set 'auto' or 'always' for web lookups.\n"
     ]
    },
    {
     "name": "stdout",
     "output_type": "stream",
     "text": [
      "[3052.037    -627.00323  2534.2065   1126.7606     38.194843 -630.59314\n",
      "  332.65848  2405.858    2218.8303   1463.1364   1636.0925   3351.518\n",
      " -813.16315  1233.2495   -273.39218   -66.655464]\n",
      "[3667.6248     48.821686 3134.2      1458.8391    233.33948  -561.9629\n",
      "  732.52246  2682.0198   2440.4229   1980.1069   1745.0057   3974.7856\n",
      " -332.06467  1570.423      52.163292  160.50964 ]\n",
      "[2937.832   -185.91231 2744.4539  1272.7272   208.72792 -409.2361\n",
      "  712.6727  2012.206   1805.5568  1646.6921  1123.6663  3267.5046\n",
      "  -70.55322 1331.2432   182.12929  179.74228]\n",
      "[4872.7637  1401.9655  4712.3047  2158.354    769.53406 -395.02823\n",
      " 1984.5492  2892.2231  2455.3682  3313.1182  1428.1974  5375.4526\n",
      " 1234.668   2397.501   1115.9613   832.6271 ]\n",
      "Step #720.00 (0ms ?*RT. ?UPS, TraCI: 0ms, vehicles TOT 146 ACT 21 BUF 0)                  episode : 43\n",
      "Step #800.40 (0ms ?*RT. ?UPS, TraCI: 0ms, vehicles TOT 163 ACT 17 BUF 0)                  \n",
      " Retrying in 1 seconds\n"
     ]
    },
    {
     "name": "stderr",
     "output_type": "stream",
     "text": [
      "Warning: Environment variable SUMO_HOME is not set properly, disabling XML validation. Set 'auto' or 'always' for web lookups.\n"
     ]
    },
    {
     "name": "stdout",
     "output_type": "stream",
     "text": [
      "[3259.2048    721.70355  3409.679    1467.8704    332.44647  -101.982254\n",
      " 1366.5574   2528.       1603.3743   2248.4863    871.9681   3867.593\n",
      "  626.0877   1389.1587    537.13226   478.7937  ]\n",
      "[6619.5864  2887.268   7074.8906  3049.1558  1700.7183   214.02602\n",
      " 3555.7153  4752.117   2749.075   4935.371   1079.7238  7800.694\n",
      " 2566.3127  3026.364   1936.6921  1537.9509 ]\n",
      "[3372.9167   1601.7694   3655.1067   1496.8616   1103.9226    111.387794\n",
      " 1867.4697   2338.132    1347.7247   2502.8625    526.8631   3994.5051\n",
      " 1403.9331   1577.2649   1090.1577    849.8748  ]\n",
      "[5580.127  3965.79   6134.418  2417.6077 2161.1428  341.4544 3707.0774\n",
      " 3483.8152 1823.4528 4646.971   639.536  6607.193  3327.0903 2795.3867\n",
      " 2445.7927 1812.9572]\n",
      "Step #720.00 (0ms ?*RT. ?UPS, TraCI: 0ms, vehicles TOT 132 ACT 15 BUF 0)                  episode : 44\n",
      "Step #800.40 (0ms ?*RT. ?UPS, TraCI: 0ms, vehicles TOT 149 ACT 24 BUF 0)                  \n",
      " Retrying in 1 seconds\n"
     ]
    },
    {
     "name": "stderr",
     "output_type": "stream",
     "text": [
      "Warning: Environment variable SUMO_HOME is not set properly, disabling XML validation. Set 'auto' or 'always' for web lookups.\n"
     ]
    },
    {
     "name": "stdout",
     "output_type": "stream",
     "text": [
      "[-3.51993844e+05  3.11781975e+06 -1.16387047e+05  2.75702905e+03\n",
      " -4.66375031e+05  5.71395250e+05  1.33669738e+06 -1.03876275e+06\n",
      " -1.09053638e+06  1.34360325e+06 -7.50553000e+05 -6.68990562e+05\n",
      "  2.54012125e+06  1.90136281e+05  1.38712538e+06  8.30828562e+05]\n",
      "[3204.9614  1524.4379  3408.0715  1377.5907  1332.4991   122.62824\n",
      " 1682.3488  2104.7104  1282.5013  2181.462    483.15332 3770.0215\n",
      " 1294.08    1542.9949   934.65643  823.47894]\n",
      "Step #720.00 (0ms ?*RT. ?UPS, TraCI: 0ms, vehicles TOT 152 ACT 20 BUF 0)                  [5473.2065 4960.711  5825.7695 2410.6697 2454.1055  699.5396 4049.577\n",
      " 2914.7732 1530.13   4677.0605  432.0671 6220.838  4142.2153 2994.473\n",
      " 2637.9236 2119.3203]\n",
      "episode : 45\n",
      "Step #800.40 (0ms ?*RT. ?UPS, TraCI: 0ms, vehicles TOT 168 ACT 25 BUF 0)                  \n",
      " Retrying in 1 seconds\n"
     ]
    },
    {
     "name": "stderr",
     "output_type": "stream",
     "text": [
      "Warning: Environment variable SUMO_HOME is not set properly, disabling XML validation. Set 'auto' or 'always' for web lookups.\n"
     ]
    },
    {
     "name": "stdout",
     "output_type": "stream",
     "text": [
      "[1490.1436   230.6727  1483.4143   706.60095  424.01834   61.29613\n",
      "  521.1324  1103.5929   766.6035   785.1108   348.80988 1688.4495\n",
      "  238.62997  645.1979   135.91281  208.44087]\n",
      "[1902.7479  1202.1116  1950.2582   876.4939   720.81683  198.03314\n",
      " 1125.4972  1165.0446   686.42804 1383.5842   333.96432 2143.9077\n",
      " 1011.0933   958.47644  635.6501   559.22656]\n",
      "[5239.632  4185.978  5382.354  2302.1497 2166.8882  662.8353 3653.4382\n",
      " 3202.3132 1545.0454 4199.1465 1504.1451 5915.0674 3320.4954 2789.762\n",
      " 2273.4163 1788.6536]\n",
      "[2847.3652  3040.0059  3033.1497  1314.2665  1322.3619   482.36502\n",
      " 2276.1846  1670.2007   606.01184 2467.677   1034.1003  3206.7344\n",
      " 2206.6775  1577.2952  1527.1318  1154.0396 ]\n",
      "[2745.257   3076.188   2971.5923  1328.607   1307.306    525.341\n",
      " 2236.5981  1626.0571   556.24664 2393.4153  1017.3242  3092.5955\n",
      " 2214.8767  1521.2542  1520.6946  1148.4342 ]\n",
      "[4831.8613  5547.0664  5282.348   2345.8298  2355.4016   931.72766\n",
      " 4006.7878  2885.537    947.8695  4296.997   1990.6742  5486.518\n",
      " 3968.3943  2689.291   2735.1196  2049.643  ]\n",
      "[4977.94    6362.291   5502.2373  2413.2524  2475.1448   935.49646\n",
      " 4368.447   2903.185    859.02155 4699.7573  2148.3438  5685.537\n",
      " 4427.5186  2835.4536  3041.6467  2239.9504 ]\n",
      "Step #720.00 (0ms ?*RT. ?UPS, TraCI: 0ms, vehicles TOT 101 ACT 17 BUF 0)                  episode : 46\n",
      "Step #800.40 (0ms ?*RT. ?UPS, TraCI: 1ms, vehicles TOT 111 ACT 19 BUF 0)                  \n",
      " Retrying in 1 seconds\n"
     ]
    },
    {
     "name": "stderr",
     "output_type": "stream",
     "text": [
      "Warning: Environment variable SUMO_HOME is not set properly, disabling XML validation. Set 'auto' or 'always' for web lookups.\n"
     ]
    },
    {
     "name": "stdout",
     "output_type": "stream",
     "text": [
      "[-2593806.5  -7308365.   -4058998.5  -1027038.8  -3897621.    -695899.25\n",
      " -4377867.5  -1152321.5    494739.66 -3615351.8  -1989113.1  -3610793.2\n",
      " -4682842.   -2295596.8  -3723962.8  -2522233.5 ]\n",
      "[1435.4354  3365.013   1994.6892  1047.5946  1060.7097   142.42484\n",
      " 1432.8073  1904.0468   399.37622 2105.1062  1125.1888  2310.6936\n",
      " 1770.3271  1147.9987  1303.8083   944.573  ]\n",
      "[2644.7944  6109.285   3625.3384  2153.9585  2005.3131   222.79654\n",
      " 2326.626   3982.0452   899.7901  3672.311   2247.745   4554.002\n",
      " 3038.9253  2047.5701  2284.0583  1673.8647 ]\n",
      "[1757.0673  2984.3816  2208.9026  1324.1628  1097.0869  -144.045\n",
      " 1026.5216  2922.8037   913.70593 2123.9878  1719.7024  3189.4817\n",
      " 1172.637   1214.7709   984.33765  765.82434]\n",
      "[1135.6262   1947.1141   1429.9092    991.7471    626.34595   -22.353535\n",
      "  563.3687   2027.1561    662.4894   1291.618    1109.8854   2095.1282\n",
      "  743.82025   747.2743    575.02997   467.2902  ]\n",
      "Step #720.00 (1ms ?*RT. ?UPS, TraCI: 0ms, vehicles TOT 113 ACT 16 BUF 0)                  episode : 47\n",
      "Step #800.40 (1ms ~= 10.00*RT, ~22000.00UPS, TraCI: 0ms, vehicles TOT 129 ACT 22 BUF 0)   \n",
      " Retrying in 1 seconds\n"
     ]
    },
    {
     "name": "stderr",
     "output_type": "stream",
     "text": [
      "Warning: Environment variable SUMO_HOME is not set properly, disabling XML validation. Set 'auto' or 'always' for web lookups.\n"
     ]
    },
    {
     "name": "stdout",
     "output_type": "stream",
     "text": [
      "[1337.5271  2039.5642  1707.4497  1143.0753   544.95746 -148.93037\n",
      "  522.5615  2756.6445  1474.0573  1380.3893  1463.5087  2761.881\n",
      "  631.2222   851.65845  471.53198  443.7612 ]\n",
      "[2392.9775  4500.0796  3175.991   2166.8137  1248.4784  -125.57207\n",
      " 1261.6687  4924.8125  2691.475   2639.436   2553.4158  5037.876\n",
      " 1749.5004  1603.0535  1262.1359  1306.3444 ]\n",
      "[1777.372   3678.129   2336.6902  1481.9991   975.1955  -135.25024\n",
      " 1237.4447  3442.8108  1903.6202  2219.4949  1833.3751  3744.75\n",
      " 1640.6807  1256.4713  1187.6487  1242.7758 ]\n",
      "[2531.828   5241.9087  3312.1404  2156.5566  1417.5751  -141.36588\n",
      " 1712.3887  4903.781   2743.7383  3042.2837  2652.8965  5271.978\n",
      " 2328.077   1763.3367  1686.9054  1849.776  ]\n",
      "Step #720.00 (0ms ?*RT. ?UPS, TraCI: 0ms, vehicles TOT 169 ACT 25 BUF 0)                  episode : 48\n",
      "Step #800.40 (0ms ?*RT. ?UPS, TraCI: 0ms, vehicles TOT 187 ACT 37 BUF 0)                  \n",
      " Retrying in 1 seconds\n"
     ]
    },
    {
     "name": "stderr",
     "output_type": "stream",
     "text": [
      "Warning: Environment variable SUMO_HOME is not set properly, disabling XML validation. Set 'auto' or 'always' for web lookups.\n"
     ]
    },
    {
     "name": "stdout",
     "output_type": "stream",
     "text": [
      "[ 715.6184   1514.6475    956.8698    639.8959    371.75058    30.628166\n",
      "  487.02307  1279.2461    909.89136   762.95807   792.8589   1340.8662\n",
      "  688.86176   465.02032   473.71185   844.3877  ]\n",
      "[3181.2402   6246.6455   3931.8235   2551.6387   1625.1547    110.956825\n",
      " 2057.5852   5270.7476   3795.3271   3089.1868   3372.7307   5539.236\n",
      " 2785.2366   1900.5527   1927.9583   3596.7998  ]\n",
      "[6157.576   7205.2925  5670.953   3535.774   2808.7021   458.01108\n",
      " 2646.408   7560.7144  7563.1733  3950.3135  4990.0586  7974.353\n",
      " 3228.245   2895.3472  1713.3097  5351.554  ]\n",
      "Step #720.00 (0ms ?*RT. ?UPS, TraCI: 0ms, vehicles TOT 276 ACT 31 BUF 0)                  episode : 49\n",
      "Step #800.40 (0ms ?*RT. ?UPS, TraCI: 0ms, vehicles TOT 314 ACT 40 BUF 0)                  \n",
      " Retrying in 1 seconds\n"
     ]
    },
    {
     "name": "stderr",
     "output_type": "stream",
     "text": [
      "Warning: Environment variable SUMO_HOME is not set properly, disabling XML validation. Set 'auto' or 'always' for web lookups.\n"
     ]
    },
    {
     "name": "stdout",
     "output_type": "stream",
     "text": [
      "[2925.7764   287.71277 2462.4111  1502.3832   264.61316  575.3056\n",
      " -923.41736 4406.585   4526.935    235.29382 3042.853   2944.1746\n",
      " -725.3551   707.0719  -743.64325 1533.6077 ]\n",
      "[ 745.9134    -41.925137  399.7184    400.194    -322.9914    -31.134663\n",
      " -469.69315  1348.5851   1626.9493    185.40468  1044.4761   1027.5607\n",
      " -657.359     230.37018  -598.6561    509.00006 ]\n",
      "[3760.2676  3072.694   3534.061   1358.0109  1218.1858   429.13885\n",
      " 1088.7396  4559.591   4534.3174  2192.7712  3190.4514  5043.9863\n",
      " 1089.2977  1943.122    452.94626 2841.9143 ]\n",
      "Step #720.00 (0ms ?*RT. ?UPS, TraCI: 0ms, vehicles TOT 252 ACT 38 BUF 0)                  episode : 50\n",
      "Step #800.40 (0ms ?*RT. ?UPS, TraCI: 0ms, vehicles TOT 277 ACT 32 BUF 0)                  \n",
      " Retrying in 1 seconds\n"
     ]
    },
    {
     "name": "stderr",
     "output_type": "stream",
     "text": [
      "Warning: Environment variable SUMO_HOME is not set properly, disabling XML validation. Set 'auto' or 'always' for web lookups.\n"
     ]
    },
    {
     "name": "stdout",
     "output_type": "stream",
     "text": [
      "[1368.8557  1562.9061  1319.8284   518.4467   548.22766  273.5118\n",
      "  532.34766 1602.5537  1529.3282   884.975   1097.3276  1811.0468\n",
      "  676.96436  653.9683   356.48358 1100.8528 ]\n",
      "[4503.8647 6353.844  4463.609  1629.1803 2003.1147 1044.2164 2402.4683\n",
      " 4833.4067 4585.8555 3405.4583 3265.222  5863.586  3237.351  2260.7617\n",
      " 1898.737  3927.2356]\n",
      "[ 6111.619    -251.44055  3623.5427   3797.1226   -741.4377   2706.788\n",
      " -4664.142    9924.099    9024.3545  -1416.0101   7179.564    2923.7122\n",
      " -2823.1355   -388.3853  -2612.6567   2635.0771 ]\n",
      "[4605.99    6356.848   4740.0205  2058.0713  1916.6095   947.44275\n",
      " 2351.1155  4099.044   4431.6685  3438.25    3424.1216  4611.5615\n",
      " 3225.5754  2043.1855  2101.1812  3456.1155 ]\n",
      "Step #720.00 (0ms ?*RT. ?UPS, TraCI: 0ms, vehicles TOT 283 ACT 42 BUF 0)                  episode : 51\n",
      "Step #800.40 (0ms ?*RT. ?UPS, TraCI: 0ms, vehicles TOT 312 ACT 42 BUF 0)                  \n",
      " Retrying in 1 seconds\n"
     ]
    },
    {
     "name": "stderr",
     "output_type": "stream",
     "text": [
      "Warning: Environment variable SUMO_HOME is not set properly, disabling XML validation. Set 'auto' or 'always' for web lookups.\n"
     ]
    },
    {
     "name": "stdout",
     "output_type": "stream",
     "text": [
      "[1983.6814  2694.1982  2200.4597  1398.0881   831.98535  412.75082\n",
      "  987.51385 1719.5901  2016.8021  1480.3278  1483.4136  1808.4081\n",
      " 1369.4579   969.4465   897.066   1336.9851 ]\n",
      "[ 9087.998  12861.353   9884.517   6914.4824  4510.0527  2274.7295\n",
      "  4579.781   7865.6655 10311.741   6530.831   6859.413   8474.525\n",
      "  6632.568   4632.4175  4417.9897  6421.465 ]\n",
      "[ 6951.3193 10352.793   7394.3345  5431.7603  2921.6892  1894.2372\n",
      "  3894.813   6719.3877  7920.4683  5653.2515  4841.132   6638.1235\n",
      "  5557.4365  3681.64    3526.9707  4981.5947]\n",
      "[4108.18   6524.433  4373.3936 3268.0874 1353.0305 1157.2573 2843.444\n",
      " 5157.4805 4313.952  4003.2292 2398.6514 4142.4336 3849.2659 1945.3779\n",
      " 2324.2488 2888.2185]\n",
      "[2093.7747  3220.2725  2145.2236  1549.5386   770.7203   460.77356\n",
      " 1531.7494  2874.5562  2102.705   2017.8461  1298.5884  2206.7476\n",
      " 1927.8846   994.4862  1219.3914  1459.8156 ]\n",
      "[2968.5576  3963.191   2934.7153  2159.3293  1091.8629   581.05066\n",
      " 1823.8544  4222.5903  3161.9402  2484.4492  2038.9197  3122.5337\n",
      " 2199.3223  1315.6653  1401.4438  1921.4353 ]\n",
      "Step #720.00 (0ms ~= 10.00*RT, ~32000.00UPS, TraCI: 0ms, vehicles TOT 276 ACT 32 BUF 0)   episode : 52\n",
      "Step #800.40 (0ms ?*RT. ?UPS, TraCI: 0ms, vehicles TOT 308 ACT 43 BUF 1)                  \n",
      " Retrying in 1 seconds\n"
     ]
    },
    {
     "name": "stderr",
     "output_type": "stream",
     "text": [
      "Warning: Environment variable SUMO_HOME is not set properly, disabling XML validation. Set 'auto' or 'always' for web lookups.\n"
     ]
    },
    {
     "name": "stdout",
     "output_type": "stream",
     "text": [
      "[2606.3591 4725.5425 2527.0361 1842.1658 1257.3424  584.8601 2351.1401\n",
      " 3685.3787 2383.0742 2565.4724 1509.1669 2880.755  3023.5452 1418.7847\n",
      " 1833.6995 2117.564 ]\n",
      "[1199.5531  1860.5258  1131.9674   811.7124   544.0221   218.40038\n",
      "  925.1924  1750.9515  1183.4316  1112.9957   778.73236 1333.1506\n",
      " 1133.8931   612.6399   680.36505  895.94714]\n",
      "[2469.9482  3751.087   2348.815   1565.5387  1213.0289   508.94446\n",
      " 1892.94    3358.104   2496.048   2497.745   1592.7848  2756.0603\n",
      " 2302.6152  1409.395   1391.0393  1879.611  ]\n",
      "[4965.5293 8496.559  4805.3833 3166.4858 2845.8967 1300.752  4174.789\n",
      " 6183.078  4843.529  5231.1606 2963.134  5411.0186 5379.64   3002.996\n",
      " 3246.5408 4141.7334]\n",
      "Step #720.00 (0m[2727.1362 5246.8984 2716.4607 1827.4257 1578.8154  805.4842 2620.1162    \n",
      " 3208.2307 2488.3674 3178.6392 1410.2074 2971.3062 3459.9602 1757.6569\n",
      " 2070.5662 2421.9548]\n",
      "episode : 53\n",
      "Step #800.40 (0ms ?*RT. ?UPS, TraCI: 0ms, vehicles TOT 108 ACT 12 BUF 0)                  \n",
      " Retrying in 1 seconds\n"
     ]
    },
    {
     "name": "stderr",
     "output_type": "stream",
     "text": [
      "Warning: Environment variable SUMO_HOME is not set properly, disabling XML validation. Set 'auto' or 'always' for web lookups.\n"
     ]
    },
    {
     "name": "stdout",
     "output_type": "stream",
     "text": [
      "[1857.5493  2930.5786  1895.2542  1367.7806  1059.5431   450.95898\n",
      " 1455.4135  2325.4614  1951.7557  1902.6498  1204.0652  2103.496\n",
      " 1785.0641  1152.3226  1090.591   1488.0107 ]\n",
      "[2341.6257 4109.399  2466.1335 1761.9641 1399.8549  592.8409 2095.3074\n",
      " 2858.2097 2339.921  2600.7078 1411.9258 2676.9414 2612.1106 1555.758\n",
      " 1634.2426 1996.9109]\n",
      "Step #720.00 (0ms ?*RT. ?UPS, TraCI: 0ms, vehicles TOT 88 ACT 12 BUF 0)                   episode : 54\n",
      "Step #800.40 (0ms ?*RT. ?UPS, TraCI: 0ms, vehicles TOT 98 ACT 10 BUF 0)                   \n",
      " Retrying in 1 seconds\n"
     ]
    },
    {
     "name": "stderr",
     "output_type": "stream",
     "text": [
      "Warning: Environment variable SUMO_HOME is not set properly, disabling XML validation. Set 'auto' or 'always' for web lookups.\n"
     ]
    },
    {
     "name": "stdout",
     "output_type": "stream",
     "text": [
      "[11976.948  20279.21   12568.945   8652.519   7545.554   4055.4006\n",
      " 10679.24   13612.028  11222.696  11709.588   6347.56   12833.725\n",
      " 13229.727   7599.9614  8845.983   9371.365 ]\n",
      "[11178.082  17819.434  11651.02    7960.473   6908.7485  3592.9143\n",
      "  9442.376  12892.548  10738.985  10510.875   6114.6064 11999.651\n",
      " 11433.509   6962.741   7699.8276  8402.398 ]\n",
      "[12895.929  19544.969  13273.501   9079.558   8150.6753  4109.0503\n",
      " 10360.948  14840.834  12700.839  11408.543   7159.918  13718.738\n",
      " 12292.464   7888.617   8405.133   9491.166 ]\n",
      "[16086.194  25711.012  16842.264  11973.27   10137.214   5290.3735\n",
      " 13910.247  18202.781  15536.154  15032.605   8098.4175 17253.297\n",
      " 16558.832  10170.189  11230.012  12153.682 ]\n",
      "Step #720.00 (0ms ?*RT. ?UPS, TraCI: 0ms, vehicles TOT 318 ACT 49 BUF 0)                  [6030.8433 8032.0215 6456.8423 4625.0977 4017.5354 2077.8694 4713.148\n",
      " 7279.506  6981.0444 4938.329  3621.405  6501.8145 4869.5537 3785.471\n",
      " 3474.319  3595.9275]\n",
      "episode : 55\n",
      "Step #800.40 (0ms ?*RT. ?UPS, TraCI: 0ms, vehicles TOT 356 ACT 44 BUF 0)                  \n",
      " Retrying in 1 seconds\n"
     ]
    },
    {
     "name": "stderr",
     "output_type": "stream",
     "text": [
      "Warning: Environment variable SUMO_HOME is not set properly, disabling XML validation. Set 'auto' or 'always' for web lookups.\n"
     ]
    },
    {
     "name": "stdout",
     "output_type": "stream",
     "text": [
      "[3041.3396 4000.462  3395.3591 2419.528  1997.6979 1087.847  2414.7358\n",
      " 3840.072  3624.0845 2575.2627 1867.8792 3383.0378 2407.1855 1957.2512\n",
      " 1717.1279 1702.2026]\n",
      "[4920.0757 6935.5186 5507.3706 3970.32   3334.208  1896.3325 4085.3132\n",
      " 6091.822  5760.5938 4260.554  2921.2964 5427.76   4265.9023 3210.8242\n",
      " 3011.0955 2906.6965]\n",
      "[4086.1738 6120.168  4564.1055 3307.0679 2765.1396 1884.1208 3539.3083\n",
      " 4903.022  4573.1655 3657.186  2579.769  4410.9473 3879.5862 2680.2478\n",
      " 2726.2354 2482.5122]\n",
      "[ 8315.565  13266.003   9363.479   6834.5854  5686.0312  4050.594\n",
      "  7621.1396  9818.212   9052.377   7783.3594  5143.1445  8958.298\n",
      "  8604.682   5561.0664  5985.047   5259.125 ]\n",
      "[6733.4634 9325.467  7464.672  5344.8633 4431.808  3015.2424 5502.671\n",
      " 8220.779  7659.9175 5812.8125 4653.577  7285.0376 5805.6104 4311.574\n",
      " 4150.501  3836.5952]\n",
      "[ 9342.393  13520.921  10361.982   7507.541   6276.5776  4408.7207\n",
      "  7860.249  11232.27   10455.287   8191.403   6449.3584 10041.709\n",
      "  8539.716   6027.6987  6066.314   5511.11  ]\n",
      "[3142.9268 4259.021  3250.5642 2419.3938 2059.1238 1503.4529 2543.1528\n",
      " 3543.1677 3293.0576 2637.1504 2198.4363 3295.033  2780.6992 1505.4464\n",
      " 2032.033  1759.3293]\n",
      "Step #720.00 (0m[6463.667  8700.774  6613.2026 4945.3374 4306.561  3291.8965 5165.2524)   \n",
      " 7207.9565 6740.959  5295.335  4578.2476 6735.2515 5689.985  2993.5022\n",
      " 4192.815  3631.7073]\n",
      "episode : 56\n",
      "Step #800.40 (0ms ?*RT. ?UPS, TraCI: 0ms, vehicles TOT 173 ACT 21 BUF 0)                  \n",
      " Retrying in 1 seconds\n"
     ]
    },
    {
     "name": "stderr",
     "output_type": "stream",
     "text": [
      "Warning: Environment variable SUMO_HOME is not set properly, disabling XML validation. Set 'auto' or 'always' for web lookups.\n"
     ]
    },
    {
     "name": "stdout",
     "output_type": "stream",
     "text": [
      "[2790.2866 2583.682  2665.0112 1949.1367 1771.6904 1595.6223 1615.5664\n",
      " 3178.504  3125.968  1749.827  2312.085  2896.6533 1482.7815 1098.2957\n",
      " 1262.7512 1247.7322]\n",
      "[5375.1875 7261.4897 5384.8945 4045.25   3624.9285 3512.6936 4269.033\n",
      " 5714.6445 5438.663  4281.833  3729.2231 5575.694  4792.399  2418.703\n",
      " 3611.6523 3042.5366]\n",
      "[11267.86   14293.777  11569.798   8417.712   7514.3555  7693.3945\n",
      "  8681.223  12433.351  11484.372   9012.55    7529.3276 11584.815\n",
      "  9426.537   4884.6133  7193.2715  5964.071 ]\n",
      "Step #720.00 (0ms ?*RT. ?UPS, TraCI: 0ms, vehicles TOT 141 ACT 24 BUF 0)                  [3759.2932 3878.2798 3904.1614 2690.526  2443.7083 1538.9553 2498.3782\n",
      " 4425.558  4127.971  2731.7522 2842.615  3937.9668 2358.1794 1462.2737\n",
      " 1918.646  1622.2452]\n",
      "episode : 57\n",
      "Step #800.40 (0ms ?*RT. ?UPS, TraCI: 0ms, vehicles TOT 158 ACT 18 BUF 0)                  \n",
      " Retrying in 1 seconds\n"
     ]
    },
    {
     "name": "stderr",
     "output_type": "stream",
     "text": [
      "Warning: Environment variable SUMO_HOME is not set properly, disabling XML validation. Set 'auto' or 'always' for web lookups.\n"
     ]
    },
    {
     "name": "stdout",
     "output_type": "stream",
     "text": [
      "[5091.8423 4229.6255 5279.1772 3590.59   3225.566  1887.7806 2831.085\n",
      " 6306.2285 6010.8086 3278.7598 4283.461  5331.9067 2243.4402 1870.6528\n",
      " 1986.0688 1844.9241]\n",
      "[ 8832.795   7728.895   9497.805   6551.122   5781.989   3386.9448\n",
      "  5103.281  11280.608  10747.2295  5908.938   7653.1187  9386.37\n",
      "  4089.2422  3453.6292  3572.464   3306.19  ]\n",
      "[4318.417  3007.6428 4531.129  3162.958  2747.5967 1574.9456 2122.4265\n",
      " 5667.6714 5201.641  2472.8945 4135.544  4617.896  1367.0312 1786.4569\n",
      " 1325.1036 1414.4459]\n",
      "[11093.128  10006.208  11781.172   8466.032   7316.6504  4705.083\n",
      "  6474.007  14158.817  12627.616   7034.695  10141.279  11813.48\n",
      "  5369.392   5107.6743  4513.412   4336.9775]\n",
      "Step #720.00 (0ms ?*RT. ?UPS, TraCI: 0ms, vehicles TOT 269 ACT 42 BUF 0)                  [5901.1675 3022.858  6140.8857 3561.7856 3169.194  2341.5718 2463.5605\n",
      " 8061.406  7339.828  3649.4062 6327.19   6445.859  1015.714  2711.806\n",
      " 1286.8903 1545.2351]\n",
      "episode : 58\n",
      "Step #800.40 (0ms ?*RT. ?UPS, TraCI: 0ms, vehicles TOT 292 ACT 38 BUF 0)                  \n",
      " Retrying in 1 seconds\n"
     ]
    },
    {
     "name": "stderr",
     "output_type": "stream",
     "text": [
      "Warning: Environment variable SUMO_HOME is not set properly, disabling XML validation. Set 'auto' or 'always' for web lookups.\n"
     ]
    },
    {
     "name": "stdout",
     "output_type": "stream",
     "text": [
      "[3232.1433 3125.6318 3425.4817 2138.783  2052.6401 1761.2235 1916.8113\n",
      " 4139.1953 3709.9307 2351.5803 3135.2903 3430.7568 1721.6815 1556.7804\n",
      " 1429.2911 1339.9586]\n",
      "[ 7708.709   6547.323   8115.593   4634.5293  4811.439   4351.456\n",
      "  4213.6167 10286.618   9424.014   5380.864   8070.7007  8192.807\n",
      "  3431.9473  3341.0781  3145.182   3007.958 ]\n",
      "[ 8397.632   8769.03    9016.822   5204.2686  5479.166   5170.0723\n",
      "  5383.8955 10985.873   9884.809   6412.2314  8353.883   8880.172\n",
      "  5077.164   3815.5044  4254.1406  3957.4014]\n",
      "[13483.678  11145.01   13938.943   8034.3276  7521.148   8443.417\n",
      "  7452.5103 16998.29   16081.857   9367.655  12628.745  13706.474\n",
      "  6050.29    5488.0176  5571.625   8065.282 ]\n",
      "Step #720.00 (0ms ?*RT. ?UPS, TraCI: 0ms, vehicles TOT 315 ACT 57 BUF 0)                  episode : 59\n",
      "Step #800.40 (0ms ?*RT. ?UPS, TraCI: 1ms, vehicles TOT 356 ACT 59 BUF 0)                  \n",
      " Retrying in 1 seconds\n"
     ]
    },
    {
     "name": "stderr",
     "output_type": "stream",
     "text": [
      "Warning: Environment variable SUMO_HOME is not set properly, disabling XML validation. Set 'auto' or 'always' for web lookups.\n"
     ]
    },
    {
     "name": "stdout",
     "output_type": "stream",
     "text": [
      "[4555.129  4024.7632 4520.8716 2800.0952 2329.9133 2916.492  2620.8643\n",
      " 5448.4644 5124.152  3274.5635 4100.5205 4555.918  2316.3684 1867.0845\n",
      " 2100.4583 2642.45  ]\n",
      "[4441.1685 3811.4988 4345.937  2724.487  2272.7727 2838.5037 2482.2708\n",
      " 5291.1704 5011.038  3113.4292 4024.3186 4414.2207 2177.7747 1797.8269\n",
      " 2003.602  2489.423 ]\n",
      "[3314.7522 2531.615  3182.989  2026.3463 1568.96   2055.1926 1724.47\n",
      " 3977.6953 4026.332  2224.5007 2949.8718 3272.7742 1405.4423 1290.3075\n",
      " 1327.6709 1624.7239]\n",
      "[4501.3525 2746.019  4211.973  2690.7441 2048.865  2706.9697 1977.127\n",
      " 5470.5522 5656.9453 2712.0103 4185.4336 4420.4263 1352.69   1651.0436\n",
      " 1445.3511 1985.3508]\n",
      "[4289.8223  1499.9333  3921.6895  2393.185   1718.6483  2345.2058\n",
      " 1383.0492  5412.455   5679.72    2256.0027  4247.0254  4231.6797\n",
      "  404.39188 1436.9393   803.0782  1506.1576 ]\n",
      "[5487.2554 2889.6655 5213.6055 3085.4214 2160.649  3035.1343 2367.3965\n",
      " 6899.4146 7050.0767 3465.796  5035.2725 5464.1206 1345.9309 1989.0497\n",
      " 1520.7146 2016.6705]\n",
      "[6403.9995 3720.5205 5927.307  3616.059  2840.4355 3794.7625 2668.0444\n",
      " 7805.936  8032.701  3855.7761 5915.295  6238.5938 1824.53   2314.4866\n",
      " 1971.7427 2286.715 ]\n",
      "Step #720.00 (0ms ?*RT. ?UPS, TraCI: 0ms, vehicles TOT 150 ACT 31 BUF 0)                  episode : 60\n",
      "Step #800.40 (0ms ?*RT. ?UPS, TraCI: 0ms, vehicles TOT 170 ACT 24 BUF 0)                  \n",
      " Retrying in 1 seconds\n"
     ]
    },
    {
     "name": "stderr",
     "output_type": "stream",
     "text": [
      "Warning: Environment variable SUMO_HOME is not set properly, disabling XML validation. Set 'auto' or 'always' for web lookups.\n"
     ]
    },
    {
     "name": "stdout",
     "output_type": "stream",
     "text": [
      "[ -5874637.  -10504402.   -6140503.   -4027281.5  -5666482.5  -4894153.5\n",
      "  -5577070.   -5782080.   -5461051.5  -4863594.   -3989130.   -5429055.\n",
      "  -7322810.5  -3027793.8  -5822003.5  -4367904. ]\n",
      "[3283.8235 2153.5046 3161.6013 1819.7192 1139.1559 1883.2933 1575.6382\n",
      " 3971.4795 3843.0862 2396.331  2780.5483 3144.9502 1198.2972 1244.3037\n",
      " 1079.7992 1064.1942]\n",
      "[3937.6746 2503.0078 3734.8787 2194.331  1430.5624 2311.9548 1799.5596\n",
      " 4644.8125 4557.182  2784.4456 3360.1711 3682.5005 1414.4727 1461.4834\n",
      " 1286.4484 1303.7666]\n",
      "[5967.648  5898.6265 5678.2153 3615.159  2979.8206 4146.9517 3508.3164\n",
      " 6376.99   6374.839  4646.9854 4661.6597 5357.7085 3871.8516 2415.1335\n",
      " 3097.4915 2750.7617]\n",
      "[6701.341  5486.47   6259.362  3933.5762 3166.9304 4446.4614 3381.1282\n",
      " 7333.0356 7400.737  4840.849  5564.7715 6007.4585 3417.3518 2561.8699\n",
      " 2907.5718 2749.4917]\n",
      "[5861.118  4394.4165 5468.871  3378.683  2573.7954 3735.1433 2790.2864\n",
      " 6506.21   6533.429  4329.186  4910.7334 5482.385  2639.3406 2195.6077\n",
      " 2323.317  2236.5671]\n",
      "[7569.2866 5851.555  7032.5337 4393.8125 3503.297  4911.896  3616.7007\n",
      " 8407.249  8345.972  5738.9956 6355.505  7276.8237 3565.2156 2842.3804\n",
      " 3236.3325 2987.1506]\n",
      "[6403.3735 7159.47   6192.195  3948.3127 3239.5476 4508.405  4144.7676\n",
      " 6930.363  6559.7065 5808.297  4702.3115 6246.642  4788.702  2694.6946\n",
      " 3870.23   3205.966 ]\n",
      "Step #720.00 (0ms ~= 10.00*RT, ~41000.00UPS, TraCI: 0ms, vehicles TOT 345 ACT 41 BUF 0)   episode : 61\n",
      "Step #800.40 (1ms ~= 10.00*RT, ~51000.00UPS, TraCI: 0ms, vehicles TOT 387 ACT 51 BUF 0)   \n",
      " Retrying in 1 seconds\n"
     ]
    },
    {
     "name": "stderr",
     "output_type": "stream",
     "text": [
      "Warning: Environment variable SUMO_HOME is not set properly, disabling XML validation. Set 'auto' or 'always' for web lookups.\n"
     ]
    },
    {
     "name": "stdout",
     "output_type": "stream",
     "text": [
      "[-2114.1685  -2814.368   -1354.6     -1094.0637  -1684.3448   -955.4849\n",
      " -1902.2347   -880.79126   401.19446 -1456.7345    557.88983  -999.0324\n",
      " -3137.247    -890.10614 -2163.8916  -1236.8081 ]\n",
      "[7208.657  7292.749  6816.551  4426.609  3449.9958 4833.0933 4200.84\n",
      " 8111.333  7714.2544 6284.748  5666.7725 7110.3765 4641.5967 3058.4639\n",
      " 3914.5942 3403.0754]\n",
      "[-2487.6443   -974.081    -724.3381   -851.3139  -2203.5322   -431.60565\n",
      " -1236.9238   -227.02376  1642.6755   -162.04247  1295.4016   -303.58472\n",
      " -2648.264    -661.4642  -1781.8556   -828.0806 ]\n",
      "[ 9320.33   12407.234   9504.116   6106.223   5124.2217  7588.0913\n",
      "  7061.1006 10766.912  10102.741   9768.171   7134.8667  8706.689\n",
      "  8610.674   4507.5815  5797.942   5603.008 ]\n",
      "Step #720.00 (0ms ?*RT. ?UPS, TraCI: 0ms, vehicles TOT 296 ACT 40 BUF 0)                  [-9626.872   -4952.824   -5263.795   -4164.6943  -6413.827   -3202.3704\n",
      " -5110.5483  -4926.502     149.35855 -3649.5613    850.9328  -3822.1277\n",
      " -8413.37    -3073.236   -5512.7954  -3277.743  ]\n",
      "episode : 62\n",
      "Step #800.40 (0ms ?*RT. ?UPS, TraCI: 0ms, vehicles TOT 330 ACT 40 BUF 0)                  \n",
      " Retrying in 1 seconds\n"
     ]
    },
    {
     "name": "stderr",
     "output_type": "stream",
     "text": [
      "Warning: Environment variable SUMO_HOME is not set properly, disabling XML validation. Set 'auto' or 'always' for web lookups.\n"
     ]
    },
    {
     "name": "stdout",
     "output_type": "stream",
     "text": [
      "[4513.127  6078.4844 4550.503  3104.891  2942.6013 3195.167  3554.562\n",
      " 5096.46   5098.2935 4276.941  3426.2578 4502.7124 4364.61   2243.0754\n",
      " 3001.3596 2927.994 ]\n",
      "[3584.8308 4684.1865 3593.088  2453.0027 2264.383  2502.6492 2756.8135\n",
      " 4086.968  4071.1929 3327.8188 2765.5493 3569.5378 3373.9834 1766.4697\n",
      " 2327.8833 2323.5369]\n",
      "[ 476.42163  444.35117  617.4412   364.70996  145.5568   440.4655\n",
      "  209.24445  856.618   1110.1459   494.73877  872.1329   687.772\n",
      "   74.69541  243.7885    90.09225  283.46155]\n",
      "[2402.9834 2855.0293 2430.7283 1566.6251 1267.7019 1573.5825 1739.8004\n",
      " 2823.081  2779.9263 2177.7625 1901.5865 2385.3845 2071.7854 1195.9991\n",
      " 1414.9459 1503.046 ]\n",
      "Step #720.00 (0ms ?*RT. ?UPS, TraCI: 0ms, vehicles TOT 123 ACT 13 BUF 0)                  [-436.8302     113.75705    -70.671616  -144.3683    -417.83643\n",
      "   -7.8230896  -51.584316   -76.14511    238.16046    176.3803\n",
      "  162.84726    -46.165363  -218.80956    -74.56754   -160.99008\n",
      "  -78.60632  ]\n",
      "episode : 63\n",
      "Step #800.40 (1ms ~= 10.00*RT, ~10000.00UPS, TraCI: 0ms, vehicles TOT 136 ACT 10 BUF 0)   \n",
      " Retrying in 1 seconds\n"
     ]
    },
    {
     "name": "stderr",
     "output_type": "stream",
     "text": [
      "Warning: Environment variable SUMO_HOME is not set properly, disabling XML validation. Set 'auto' or 'always' for web lookups.\n"
     ]
    },
    {
     "name": "stdout",
     "output_type": "stream",
     "text": [
      "[-11286.781   -23234.725   -13734.79     -8371.486   -12265.992\n",
      "  -4903.796   -14529.256   -13347.386    -5782.9966  -11059.695\n",
      "    430.62698 -11916.113   -18154.832    -7350.1855  -12218.\n",
      " -10121.745  ]\n",
      "[ -41.494347   285.957      339.55087    157.14339   -322.04062\n",
      "  323.92487      2.9810956  551.18835   1020.1606     410.57523\n",
      "  784.2229     427.48593   -260.19778     59.61697   -170.99171\n",
      "   86.66704  ]\n",
      "[1461.9159    -78.48678  1114.2231    917.59143   191.8813   1032.3033\n",
      "   41.925484 1572.2413   1797.682     570.41925  1760.9788   1005.8743\n",
      "  179.13086   314.64316   131.50702   437.33173 ]\n",
      "[1815.8273  1357.7119  1712.3844  1217.6665   691.6262  1157.4519\n",
      "  981.62384 2142.1655  2089.088   1386.5793  1535.1694  1661.3956\n",
      " 1183.0605   720.6258   798.39355  978.61035]\n",
      "[1875.3336 1690.3778 1787.2831 1300.4016  930.3808 1325.7416 1231.227\n",
      " 2145.2488 2068.1697 1526.7478 1430.2766 1760.9559 1530.536   747.4355\n",
      " 1041.7723 1117.458 ]\n",
      "Step #720.00 (0ms ?*RT. ?UPS, TraCI: 0ms, vehicles TOT 100 ACT 14 BUF 0)                  episode : 64\n",
      "Step #800.40 (0ms ?*RT. ?UPS, TraCI: 0ms, vehicles TOT 112 ACT 25 BUF 0)                  \n",
      " Retrying in 1 seconds\n"
     ]
    },
    {
     "name": "stderr",
     "output_type": "stream",
     "text": [
      "Warning: Environment variable SUMO_HOME is not set properly, disabling XML validation. Set 'auto' or 'always' for web lookups.\n"
     ]
    },
    {
     "name": "stdout",
     "output_type": "stream",
     "text": [
      "[1797.1586  1523.5815  1696.5305  1269.0553   811.27686 1533.2576\n",
      " 1090.1868  2051.8071  2045.7574  1412.5719  1488.9484  1615.2268\n",
      " 1364.1044   682.43695  945.0491  1066.8754 ]\n",
      "[2908.0652 2729.8354 2790.7727 2064.032  1371.5076 2497.906  1911.2627\n",
      " 3311.9546 3277.0225 2399.152  2320.3738 2649.213  2405.8462 1151.4452\n",
      " 1650.673  1780.9791]\n",
      "Step #720.00 (0ms ~= 10.00*RT, ~21000.00UPS, TraCI: 0ms, vehicles TOT 175 ACT 21 BUF 0)   episode : 65\n",
      "Step #800.40 (0ms ?*RT. ?UPS, TraCI: 0ms, vehicles TOT 195 ACT 34 BUF 0)                  \n",
      " Retrying in 1 seconds\n"
     ]
    },
    {
     "name": "stderr",
     "output_type": "stream",
     "text": [
      "Warning: Environment variable SUMO_HOME is not set properly, disabling XML validation. Set 'auto' or 'always' for web lookups.\n"
     ]
    },
    {
     "name": "stdout",
     "output_type": "stream",
     "text": [
      "[-1149690.8   -997498.7   -934170.5   -864532.06 -1055361.4  -1100172.4\n",
      "  -621211.56 -1056974.   -1206568.9   -523965.2   -977283.6   -969612.56\n",
      "  -869713.1   -497624.94  -741881.1   -897977.75]\n",
      "[ 1116.9108  -4425.7207   -227.21909   498.33722 -1002.06665  1790.0503\n",
      " -2568.5283    291.07166  1747.3167  -1570.7754   3428.465    -589.3816\n",
      " -2291.1829   -756.15424 -1444.0952   -595.5259 ]\n",
      "[2166.489    320.37463 1701.0918  1407.9257   492.89987 1898.5043\n",
      "  434.4107  2240.9348  2740.8474  1118.03    2349.0374  1637.3896\n",
      "  494.2577   618.15985  453.3627   950.3603 ]\n",
      "[2744.7239 2085.6465 2527.3892 1920.121   558.022  2382.7214 1509.8228\n",
      " 3019.529  3280.973  2405.2214 2354.2507 2319.6472 1746.3584 1084.0037\n",
      " 1239.0353 1612.3495]\n",
      "[2971.0962 1996.6952 2685.615  2056.0059  690.1159 2559.1458 1493.1307\n",
      " 3256.829  3599.1892 2424.0212 2649.0613 2506.4434 1691.7781 1134.2815\n",
      " 1238.6292 1694.3273]\n",
      "[4194.07   2684.0723 3798.3604 2840.5752 1128.8226 3455.0295 2081.7598\n",
      " 4650.8984 5160.7173 3331.053  3759.9568 3645.0913 2236.296  1598.733\n",
      " 1664.6512 2304.576 ]\n",
      "[6774.086  4712.001  6151.6494 4597.1187 2175.3674 5552.8394 3552.0059\n",
      " 7390.474  7912.8325 5355.522  5941.156  5919.3657 3916.0786 2622.5613\n",
      " 2902.6348 3846.1404]\n",
      "[7791.5845 4370.355  6853.477  5184.349  2356.3918 6307.0146 3516.8171\n",
      " 8466.33   9087.035  5625.9395 7145.852  6633.3276 3695.8665 2829.906\n",
      " 2829.3066 4144.3022]\n",
      "[ 8771.083   4965.2686  7698.4536  5814.0977  2777.0442  6966.6943\n",
      "  3985.204   9483.872  10095.031   6256.733   7987.662   7452.393\n",
      "  4189.5024  3187.6284  3210.8406  4666.46  ]\n",
      "[3678.8762   1742.0184   3492.928    2568.66      -30.216478 3508.554\n",
      " 1295.6305   4652.45     5636.4873   3224.0466   4655.535    3352.4841\n",
      "  938.93     1264.9323    751.4508   1880.7101  ]\n",
      "[-3180.505   -2548.4336  -2106.3513  -1508.7339  -2939.5146   -852.95984\n",
      " -2200.974   -1788.1852   -189.83801 -1177.4514    293.2471  -1676.0398\n",
      " -3475.4604  -1438.8291  -2572.8494  -2144.4314 ]\n",
      "[-6938.014    -5651.7754   -4787.827    -3404.355    -5757.995\n",
      " -2050.0454   -4747.938    -4251.605    -1098.7865   -3043.2073\n",
      "   -58.567715 -3802.4163   -7363.2466   -3143.09     -5397.5757\n",
      " -4650.9653  ]\n",
      "Step #720.00 (0ms ?*RT. ?UPS, TraCI: 1ms, vehicles TOT 266 ACT 32 BUF 0)                  episode : 66\n",
      "Step #800.40 (0ms ?*RT. ?UPS, TraCI: 0ms, vehicles TOT 289 ACT 36 BUF 0)                  \n",
      " Retrying in 1 seconds\n"
     ]
    },
    {
     "name": "stderr",
     "output_type": "stream",
     "text": [
      "Warning: Environment variable SUMO_HOME is not set properly, disabling XML validation. Set 'auto' or 'always' for web lookups.\n"
     ]
    },
    {
     "name": "stdout",
     "output_type": "stream",
     "text": [
      "[4400.888  2150.4988 3824.6462 2591.9214 1354.5754 2199.4165 2198.4155\n",
      " 4592.792  4552.8105 3173.3877 3694.088  3799.088  2317.6875 1887.2974\n",
      " 1705.1064 2351.151 ]\n",
      "[3629.2234  1308.9674  3061.9277  2160.3164   771.85583 1865.9104\n",
      " 1537.1469  3780.441   3886.6985  2547.26    3232.6602  3063.4224\n",
      " 1586.3541  1461.1873  1180.1384  1865.3036 ]\n",
      "[4839.9385 2900.594  4791.2866 3250.6047 1387.2843 2690.5007 2945.0286\n",
      " 5538.28   5362.38   4226.0522 4258.145  4814.4097 3223.3027 2323.4868\n",
      " 2286.425  3037.276 ]\n",
      "[3148.266  2778.2573 3468.1511 2290.0913  646.8067 1879.4792 2520.9497\n",
      " 3834.6824 3475.991  3510.0059 2542.191  3363.2446 2862.2966 1710.7041\n",
      " 1908.6097 2227.4766]\n",
      "[2701.2017 3319.5828 3367.361  2178.7324 1333.8169 1744.5361 2799.6812\n",
      " 3422.7463 2931.2063 3313.7986 2102.2603 3282.923  3349.3015 1702.6887\n",
      " 2293.8977 2374.855 ]\n",
      "[4924.447  4818.579  6001.9614 3934.8337 2309.1687 3103.5654 4435.3853\n",
      " 6424.818  5793.8164 5499.4517 4337.897  5989.767  5082.165  2858.4434\n",
      " 3568.2573 4017.2039]\n",
      "Step #720.00 (1ms ~= 10.00*RT, ~65000.00UPS, TraCI: 0ms, vehicles TOT 347 ACT 65 BUF 0)   episode : 67\n",
      "Step #800.40 (0ms ?*RT. ?UPS, TraCI: 0ms, vehicles TOT 389 ACT 45 BUF 0)                  \n",
      " Retrying in 1 seconds\n"
     ]
    },
    {
     "name": "stderr",
     "output_type": "stream",
     "text": [
      "Warning: Environment variable SUMO_HOME is not set properly, disabling XML validation. Set 'auto' or 'always' for web lookups.\n"
     ]
    },
    {
     "name": "stdout",
     "output_type": "stream",
     "text": [
      "[1680.4435  1029.8827  1999.0663  1325.1726   708.0861  1048.8768\n",
      " 1141.6853  2317.7615  2283.62    1594.2653  1824.3704  2069.048\n",
      " 1159.1865   814.71027  883.7565  1224.8053 ]\n",
      "[1836.728   1103.7092  2174.4346  1423.7255   850.5382  1110.5719\n",
      " 1237.4613  2519.5208  2485.9695  1686.2084  1986.1616  2279.7205\n",
      " 1233.1273   885.68933  954.98975 1316.3182 ]\n",
      "[2464.6677 1938.2648 2994.673  1949.5564 1128.3083 1560.5286 1901.8914\n",
      " 3342.8328 3229.0173 2494.2805 2549.7185 3058.4016 2044.3762 1247.4465\n",
      " 1520.3534 1893.3475]\n",
      "[1899.0739  1802.2307  2364.6548  1478.5728   647.06445 1194.8395\n",
      " 1650.0812  2584.7722  2427.0923  2199.7078  1821.7299  2331.5042\n",
      " 1780.6053   995.747   1273.8354  1422.9658 ]\n",
      "[  969.31     -4977.594      -96.059105   742.43024  -1419.2968\n",
      "  1398.9847   -3149.5547     712.2579    3213.993    -1741.1003\n",
      "  4452.9204    -514.0247   -2938.2483    -793.55316  -1853.0975\n",
      "  -632.1728  ]\n",
      "[2067.2727 1487.4615 2489.752  1660.5515  633.6026 1178.2965 1449.4941\n",
      " 2806.0771 2808.7354 2140.107  2215.5605 2367.2236 1527.7899 1019.8831\n",
      " 1170.453  1389.6023]\n",
      "Step #720.00 (0ms ?*RT. ?UPS, TraCI: 0ms, vehicles TOT 183 ACT 23 BUF 0)                  [2383.887  1956.93   2869.3945 1901.0284  843.5995 1362.0686 1755.7626\n",
      " 3155.7317 3155.5293 2485.079  2454.884  2688.255  1945.5454 1231.317\n",
      " 1481.8671 1667.6222]\n",
      "episode : 68\n",
      "Step #800.40 (0ms ?*RT. ?UPS, TraCI: 0ms, vehicles TOT 201 ACT 22 BUF 0)                  \n",
      " Retrying in 1 seconds\n"
     ]
    },
    {
     "name": "stderr",
     "output_type": "stream",
     "text": [
      "Warning: Environment variable SUMO_HOME is not set properly, disabling XML validation. Set 'auto' or 'always' for web lookups.\n"
     ]
    },
    {
     "name": "stdout",
     "output_type": "stream",
     "text": [
      "[657.2416  466.34122 778.7206  513.7376   67.46743 376.4293  442.60617\n",
      " 886.96704 909.5747  739.9077  685.8037  709.62787 471.1607  326.39838\n",
      " 347.8517  420.13898]\n",
      "[ -953.0924  -1859.7048   -716.1455   -391.01578 -1726.6096    283.2848\n",
      " -1499.7917   -216.86153   924.1788   -598.03485  1219.5503   -609.0833\n",
      " -2121.731    -591.35    -1461.9733   -804.621  ]\n",
      "[1255.8632  1048.5027  1350.2992   874.50476  207.12234  659.22034\n",
      "  858.47345 1503.47    1493.4646  1381.7878  1103.464   1188.6106\n",
      "  971.76263  538.1864   711.5914   799.4789 ]\n",
      "[2857.9048 2506.1729 3005.4067 1916.8237  828.7672 1388.7938 2042.1993\n",
      " 3357.59   3276.0442 3017.065  2316.0684 2772.673  2272.2622 1239.1003\n",
      " 1682.0776 1803.1462]\n",
      "[3337.462  3254.2502 3489.8484 2230.1836 1306.031  1620.0363 2545.642\n",
      " 3812.4224 3719.9255 3509.8386 2590.628  3249.859  2937.028  1484.283\n",
      " 2179.3513 2225.6428]\n",
      "[6993.5835 7481.7046 7085.8877 4494.2124 2721.135  3312.144  5904.912\n",
      " 7882.397  7217.474  7703.653  4714.8267 6706.7153 6944.8735 3142.933\n",
      " 5013.309  4835.508 ]\n",
      "[3872.3572 3505.2815 3887.6704 2502.9673 1327.219  2047.7476 2900.295\n",
      " 4463.2095 4237.952  3997.2837 3025.1753 3639.765  3390.2974 1647.9065\n",
      " 2506.6165 2622.4744]\n",
      "[4162.1606 3798.2986 4126.244  2534.5066 1931.1222 2481.5728 3197.6296\n",
      " 4661.711  4365.289  3986.202  3003.1562 3936.649  3761.501  1769.9565\n",
      " 2766.2957 2835.2275]\n",
      "Step #720.00 (1ms ?*RT. ?UPS, TraCI: 0ms, vehicles TOT 202 ACT 29 BUF 0)                  episode : 69\n",
      "Step #800.40 (0ms ?*RT. ?UPS, TraCI: 0ms, vehicles TOT 227 ACT 33 BUF 0)                  \n",
      " Retrying in 1 seconds\n"
     ]
    },
    {
     "name": "stderr",
     "output_type": "stream",
     "text": [
      "Warning: Environment variable SUMO_HOME is not set properly, disabling XML validation. Set 'auto' or 'always' for web lookups.\n"
     ]
    },
    {
     "name": "stdout",
     "output_type": "stream",
     "text": [
      "[ 861.6425   601.7828   852.31134  538.1489   166.15974  599.12366\n",
      "  541.5217  1053.8745   983.718    836.4753   747.30536  774.4198\n",
      "  621.6836   376.21753  450.55215  560.68304]\n",
      "[1205.0396  1096.8457  1211.1136   732.4833   251.59267  796.13367\n",
      "  911.1614  1436.4738  1267.9541  1287.7607   876.06134 1092.6969\n",
      " 1068.4071   562.95026  743.1643   809.59845]\n",
      "[1828.9126  1397.5367  1801.2825  1107.1675   422.90192 1223.1807\n",
      " 1228.2388  2210.128   2014.3163  1788.1759  1468.3607  1660.9161\n",
      " 1402.6558   825.0487  1005.7006  1184.0007 ]\n",
      "[2191.4417  1651.5753  2147.338   1336.8849   733.09735 1496.5638\n",
      " 1449.3029  2630.387   2483.11    2016.3711  1853.7416  2012.5287\n",
      " 1664.6517  1098.141   1251.2795  1459.89   ]\n",
      "[1623.8156  1431.9062  1640.3864  1049.7766   430.75552 1143.6879\n",
      " 1190.33    1843.0393  1789.6725  1657.5448  1299.1056  1451.2738\n",
      " 1394.9097   848.8036  1018.06177 1131.399  ]\n",
      "[2256.16    2160.1648  2281.7944  1474.9167   443.07755 1586.2328\n",
      " 1775.7131  2535.109   2410.9497  2489.0522  1685.5062  2010.2644\n",
      " 2091.0002  1202.2976  1471.7976  1590.4004 ]\n",
      "Step #720.00 (0ms ?*RT. ?UPS, TraCI: 0ms, vehicles TOT 127 ACT 27 BUF 0)                  episode : 70\n",
      "Step #800.40 (0ms ?*RT. ?UPS, TraCI: 0ms, vehicles TOT 140 ACT 18 BUF 0)                  \n",
      " Retrying in 1 seconds\n"
     ]
    },
    {
     "name": "stderr",
     "output_type": "stream",
     "text": [
      "Warning: Environment variable SUMO_HOME is not set properly, disabling XML validation. Set 'auto' or 'always' for web lookups.\n"
     ]
    },
    {
     "name": "stdout",
     "output_type": "stream",
     "text": [
      "[-7314273.5 -8357337.  -6870852.5 -5628952.5 -7934594.5 -6299936.\n",
      " -6012093.  -6428023.5 -7536338.5 -5214972.  -6173790.  -6622027.5\n",
      " -8642697.  -4232521.  -6679680.5 -7138861. ]\n",
      "[2265.2495 2433.4175 2319.7888 1544.0862  538.963  1551.9121 1998.2076\n",
      " 2608.6504 2363.8835 2678.0393 1539.0105 2132.7217 2352.846  1198.9791\n",
      " 1614.5609 1678.0779]\n",
      "[4035.4497 4010.8774 4130.049  2791.9082 1686.5986 2872.6626 3365.6226\n",
      " 4630.5845 4456.842  4271.916  3126.9614 3905.1997 4021.6873 2108.663\n",
      " 2887.8442 3124.8535]\n",
      "[8437.519  7527.6924 8595.366  5820.826  4170.3496 5972.1626 6652.8477\n",
      " 9866.695  9737.574  8303.424  6984.095  8450.211  7734.11   4485.214\n",
      " 5772.832  6518.1943]\n",
      "[6838.057  6384.256  7049.94   4783.0576 3003.3704 4951.196  5544.404\n",
      " 8081.0435 7857.827  7069.5376 5603.464  6817.4893 6488.6226 3685.3274\n",
      " 4782.825  5384.9087]\n",
      "[4664.832  4285.801  4741.964  3199.3218 3172.342  3279.7324 3746.6335\n",
      " 5275.6523 5381.3315 4229.6543 3895.9773 4773.218  4462.676  2559.1711\n",
      " 3424.219  3808.3777]\n",
      "[5436.312  4921.102  5574.1543 3778.8154 2494.8206 3919.941  4376.69\n",
      " 6478.793  6324.597  5526.414  4541.968  5503.57   5015.682  2943.2231\n",
      " 3756.4778 4334.032 ]\n",
      "Step #720.00 (0ms ?*RT. ?UPS, TraCI: 0ms, vehicles TOT 320 ACT 38 BUF 0)                  episode : 71\n",
      "Step #800.40 (1ms ~= 10.00*RT, ~29000.00UPS, TraCI: 0ms, vehicles TOT 353 ACT 29 BUF 0)   \n",
      " Retrying in 1 seconds\n"
     ]
    },
    {
     "name": "stderr",
     "output_type": "stream",
     "text": [
      "Warning: Environment variable SUMO_HOME is not set properly, disabling XML validation. Set 'auto' or 'always' for web lookups.\n"
     ]
    },
    {
     "name": "stdout",
     "output_type": "stream",
     "text": [
      "[-469.90936   -104.75656   -185.77263   -157.10378   -484.90002\n",
      "   96.80961   -274.46225    -63.07243    251.02219      1.1497359\n",
      "  246.55623   -122.16169   -533.1697    -137.00394   -348.3743\n",
      " -195.72424  ]\n",
      "[8941.715  7233.0107 7857.383  5038.94   3993.211  5239.043  6571.23\n",
      " 8959.441  8924.485  7720.617  6193.375  8292.297  7273.3022 5037.574\n",
      " 5491.796  6086.411 ]\n",
      "[2030.2931 1240.1798 1797.4622 1278.6344  718.3614 1410.9629 1237.0748\n",
      " 2149.9395 2292.9236 1642.6483 1813.5345 1866.9287 1337.3954 1149.9369\n",
      " 1063.125  1398.6903]\n",
      "[3839.03   2856.6592 3372.468  2330.6646 1657.635  2423.2268 2665.5422\n",
      " 3902.4834 4030.1572 3223.3115 2967.836  3557.0254 2945.983  2205.2188\n",
      " 2260.865  2576.4045]\n",
      "[5282.941  4002.1353 4678.606  3380.6125 2386.4724 3416.0735 3719.8374\n",
      " 5416.555  5631.735  4545.7603 4186.0312 4951.9824 4145.003  3103.109\n",
      " 3180.0046 3319.875 ]\n",
      "[-3156.0686  -1203.67    -1928.6716  -1515.3568  -2511.8452   -491.01627\n",
      " -1895.036   -1725.8181   -697.6454  -1140.4618   -282.88757 -1837.5865\n",
      " -2829.343   -1327.7646  -2018.2031  -1282.3447 ]\n",
      "[-386.89087   341.56723   100.31046    27.518423 -818.54803   502.51193\n",
      "  -74.440125  353.13428   843.4683    543.0952    721.2147    160.46591\n",
      " -421.55005    35.991188 -259.73752    43.698154]\n",
      "[-168.52934   280.22446   127.01986    57.960102 -508.56262   342.36835\n",
      "   14.232957  289.15112   583.59283   416.7726    478.55182   163.01582\n",
      " -197.14372    62.029556 -112.05033    64.97714 ]\n",
      "[2029.4296 1680.3066 1945.145  1434.9766  715.9997 1395.8484 1514.9097\n",
      " 2176.3457 2225.4924 1985.721  1510.1919 1957.8005 1699.5851 1179.1796\n",
      " 1374.3461 1204.8365]\n",
      "Step #720.00 (0ms ?*RT. ?UPS, TraCI: 0ms, vehicles TOT 170 ACT 20 BUF 0)                  episode : 72\n",
      "Step #800.40 (0ms ?*RT. ?UPS, TraCI: 0ms, vehicles TOT 193 ACT 17 BUF 0)                  \n",
      " Retrying in 1 seconds\n"
     ]
    },
    {
     "name": "stderr",
     "output_type": "stream",
     "text": [
      "Warning: Environment variable SUMO_HOME is not set properly, disabling XML validation. Set 'auto' or 'always' for web lookups.\n"
     ]
    },
    {
     "name": "stdout",
     "output_type": "stream",
     "text": [
      "[4386.959  3015.0498 3974.8254 2794.5417 2284.066  2701.0662 3166.4233\n",
      " 4755.5815 5154.1978 4140.391  1687.004  4490.112  3251.0046 2211.0496\n",
      " 2773.3154 2537.0188]\n",
      "Step #720.00 (0ms ?*RT. ?UPS, TraCI: 0ms, vehicles TOT 161 ACT 19 BUF 0)                  episode : 73\n",
      "Step #800.40 (0ms ?*RT. ?UPS, TraCI: 0ms, vehicles TOT 177 ACT 19 BUF 0)                  \n",
      " Retrying in 1 seconds\n"
     ]
    },
    {
     "name": "stderr",
     "output_type": "stream",
     "text": [
      "Warning: Environment variable SUMO_HOME is not set properly, disabling XML validation. Set 'auto' or 'always' for web lookups.\n"
     ]
    },
    {
     "name": "stdout",
     "output_type": "stream",
     "text": [
      "[2770.4421 1358.8235 3258.0793 1955.3431 1586.1465 1601.3696 1826.7853\n",
      " 3598.532  3930.796  2737.2783 1638.1215 3297.9148 1736.7437 1562.9478\n",
      " 1542.564  1622.2339]\n",
      "[1643.2714  1430.7555  2213.4302  1258.5652   753.89655  997.16986\n",
      " 1448.7662  2249.9949  2218.929   2082.2224   698.5416  2020.4567\n",
      " 1557.7316  1037.9735  1194.5009  1170.1106 ]\n",
      "[2637.939  2297.4937 3577.2673 2029.3472 1514.5106 1585.9482 2337.487\n",
      " 3588.9307 3596.9624 3220.7773 1116.0521 3322.1653 2548.203  1693.5815\n",
      " 1966.3368 1940.4844]\n",
      "[1916.4114  2233.8257  2756.264   1572.9086  1115.8948  1213.9729\n",
      " 1982.0911  2561.483   2443.6653  2512.5479   523.39215 2419.4634\n",
      " 2357.1294  1314.3699  1729.0846  1632.4475 ]\n",
      "[ 584.3898    395.42487  1416.656     711.1622   -533.54425  1054.6533\n",
      "  440.00726  1951.0175   2603.0623   1559.9618   1712.0847   1540.0214\n",
      " -140.9617    634.6629    106.268585  615.4248  ]\n",
      "[2213.5498  1018.2259  2954.5242  1714.0781   976.42926 1340.3074\n",
      " 1501.9998  3258.4905  3489.3557  2374.3828  1558.9086  2913.9917\n",
      " 1395.1178  1394.769   1208.519   1490.3436 ]\n",
      "[3673.9214 2472.7886 4733.3286 2984.0986 1592.1111 2226.5386 2907.878\n",
      " 5290.902  5542.442  4143.7437 2138.4658 4787.142  3019.9795 2415.5562\n",
      " 2396.873  2760.157 ]\n",
      "[2609.8591  1174.2638  3292.8774  2156.184    444.96588 1809.162\n",
      " 1757.3191  4264.565   4798.973   3107.0942  2392.2893  3684.5352\n",
      " 1430.1825  1769.1154  1284.2789  1883.6404 ]\n",
      "Step #720.00 (0ms ?*RT. ?UPS, TraCI: 0ms, vehicles TOT 220 ACT 47 BUF 0)                  [3250.084  2273.3064 3801.6738 2709.923   819.996  2087.9956 2547.3894\n",
      " 4710.5337 4871.8354 3803.9944 2009.2545 4061.7776 2731.7295 2154.2383\n",
      " 2074.579  2502.1958]\n",
      "episode : 74\n",
      "Step #800.40 (0ms ?*RT. ?UPS, TraCI: 0ms, vehicles TOT 247 ACT 35 BUF 0)                  \n",
      " Retrying in 1 seconds\n"
     ]
    },
    {
     "name": "stderr",
     "output_type": "stream",
     "text": [
      "Warning: Environment variable SUMO_HOME is not set properly, disabling XML validation. Set 'auto' or 'always' for web lookups.\n"
     ]
    },
    {
     "name": "stdout",
     "output_type": "stream",
     "text": [
      "[ 894.6377   404.56995  935.38367  697.04724  208.93309  547.0987\n",
      "  566.3253  1282.3811  1409.5621   928.05365  658.1639  1104.0293\n",
      "  560.25464  566.9378   468.80197  626.05664]\n",
      "[1294.4268   935.5104  1312.9918   950.47974  291.14673  707.99036\n",
      " 1007.4147  1745.9369  1920.6962  1501.5745   560.97766 1549.8058\n",
      " 1076.2131   823.6118   850.4974   933.6882 ]\n",
      "[-2419.2183  -4717.358   -1973.8936  -4193.187   -3978.9968  -3246.2666\n",
      " -1731.5944  -1963.0289   -897.6063    326.11127  1610.8967  -1950.3423\n",
      " -4444.2695  -1656.3562  -2537.8274  -2852.6719 ]\n",
      "[ 651.74133   -32.460667  710.10913    53.96061  -432.4388    -54.75252\n",
      "  559.7547    982.43536  1189.7571   1247.3833    571.05133   792.7953\n",
      "  238.87926   358.99222   315.78577   271.0361  ]\n",
      "Step #720.00 (0ms ?*RT. ?UPS, TraCI: 0ms, vehicles TOT 142 ACT 24 BUF 0)                  episode : 75\n",
      "Step #800.40 (0ms ?*RT. ?UPS, TraCI: 1ms, vehicles TOT 157 ACT 12 BUF 0)                  \n",
      " Retrying in 1 seconds\n"
     ]
    },
    {
     "name": "stderr",
     "output_type": "stream",
     "text": [
      "Warning: Environment variable SUMO_HOME is not set properly, disabling XML validation. Set 'auto' or 'always' for web lookups.\n"
     ]
    },
    {
     "name": "stdout",
     "output_type": "stream",
     "text": [
      "[1617.7976   709.3634  1644.64    1235.6807   843.6862  1275.3033\n",
      " 1036.7833  2299.4568  2613.8594  1403.7625  1205.702   2005.7379\n",
      " 1018.16675  892.08655  976.46747 1231.837  ]\n",
      "[3874.0208 2647.8188 4204.187  3075.0925 1853.6726 3332.4224 3070.4448\n",
      " 5987.3457 5881.107  4038.3618 2543.014  4940.8804 3093.5723 2583.7449\n",
      " 2631.135  3223.787 ]\n",
      "[1062.6309   998.4947  1213.2064   909.7005   814.952    982.62604\n",
      "  962.63153 1625.0378  1519.7303  1082.909    539.6249  1355.6814\n",
      " 1097.2063   760.0716   866.2524   999.7846 ]\n",
      "[2095.8767 1341.6232 2321.4285 1706.6273 1407.031  1900.8707 1603.0527\n",
      " 3366.614  3245.3733 1952.2365 1555.505  2732.8074 1636.6812 1478.9575\n",
      " 1374.0002 1716.1572]\n",
      "[3464.2004 1770.9879 4221.9463 2590.3398 2109.6826 3208.98   2546.4692\n",
      " 5956.656  5582.3906 3235.4436 2843.4167 4515.624  2276.2659 2506.4292\n",
      " 1924.7395 2244.0864]\n",
      "Step #720.00 (0ms ?*RT. ?UPS, TraCI: 0ms, vehicles TOT 172 ACT 27 BUF 0)                  episode : 76\n",
      "Step #800.40 (0ms ?*RT. ?UPS, TraCI: 1ms, vehicles TOT 190 ACT 32 BUF 0)                  \n",
      " Retrying in 1 seconds\n"
     ]
    },
    {
     "name": "stderr",
     "output_type": "stream",
     "text": [
      "Warning: Environment variable SUMO_HOME is not set properly, disabling XML validation. Set 'auto' or 'always' for web lookups.\n"
     ]
    },
    {
     "name": "stdout",
     "output_type": "stream",
     "text": [
      "[4565.0015 2618.138  5485.4717 3127.6614 3179.2864 4069.8706 3475.516\n",
      " 6885.003  6592.9087 4467.8003 3123.4412 5550.36   3156.8403 2894.9763\n",
      " 2283.9146 2620.8594]\n",
      "[3763.046  2330.8843 4565.702  2614.5774 2629.1284 3396.2507 2929.8423\n",
      " 5641.306  5388.8335 3776.8394 2541.2893 4547.8438 2744.4739 2376.0613\n",
      " 1921.3182 2208.3818]\n",
      "[3169.582  2382.6182 3918.4626 2229.4954 2316.0867 2894.3245 2646.3992\n",
      " 4650.5522 4395.1846 3350.3118 1876.3595 3794.288  2650.861  1967.5844\n",
      " 1758.439  1932.6654]\n",
      "[2577.5496 2070.87   3239.5156 1847.8486 1775.5695 2416.6736 2206.1538\n",
      " 3806.9287 3562.0984 2840.953  1531.5063 3061.4648 2257.6033 1610.4133\n",
      " 1476.803  1622.5139]\n",
      "[2163.942  1816.8167 2761.3167 1610.543  1445.5388 2082.912  1883.3181\n",
      " 3196.3315 3000.8052 2455.577  1391.0305 2549.4575 1977.5898 1368.4801\n",
      " 1275.607  1433.8014]\n",
      "Step #720.00 (0m[2860.6543 2098.1826 3685.5896 2142.3267 1327.6226 2582.3506 2405.1128)   \n",
      " 4386.691  4063.9148 3444.3726 2028.0165 3404.8015 2283.2578 1738.9357\n",
      " 1670.4923 2186.7473]\n",
      "episode : 77\n",
      "Step #800.40 (0ms ?*RT. ?UPS, TraCI: 0ms, vehicles TOT 292 ACT 38 BUF 0)                  \n",
      " Retrying in 1 seconds\n"
     ]
    },
    {
     "name": "stderr",
     "output_type": "stream",
     "text": [
      "Warning: Environment variable SUMO_HOME is not set properly, disabling XML validation. Set 'auto' or 'always' for web lookups.\n"
     ]
    },
    {
     "name": "stdout",
     "output_type": "stream",
     "text": [
      "[-3580.5496 -5519.9185 -4006.0154 -3219.5227 -4155.3657 -2439.4824\n",
      " -4509.528  -3347.4734 -1691.0636 -3327.905   3717.8772 -3311.7556\n",
      " -6223.5625 -2242.5527 -4184.607  -3515.9673]\n",
      "[4796.076  3685.1929 5902.859  3364.3887 3134.7422 3900.1162 4204.0356\n",
      " 6810.7007 6526.639  5207.9395 2514.5913 5854.5186 4121.1606 2833.008\n",
      " 3131.917  3614.457 ]\n",
      "[6394.7964 4318.015  8111.4946 4690.703  3582.4155 5473.974  5661.8486\n",
      " 9410.238  8925.608  7072.681  3940.2148 7850.1436 5574.3867 4176.3354\n",
      " 4280.3867 5112.782 ]\n",
      "[ 7991.452   3105.4856  9767.377   5012.669   4809.464   6390.6895\n",
      "  5996.542  11897.928  11877.368   7708.448   6339.3394 10029.18\n",
      "  5211.298   5152.8696  4347.111   5779.3306]\n",
      "[ 8041.9424  4141.985  10062.57    4896.3994  5132.593   6676.201\n",
      "  6576.2437 11851.715  11663.722   8078.7817  5694.1904 10062.428\n",
      "  6216.872   5375.317   4962.875   6154.7344]\n",
      "[5839.318  3073.3066 7372.8916 3316.7192 3713.966  4876.3735 4828.0244\n",
      " 8640.609  8467.657  5904.417  4061.3171 7311.264  4618.558  3979.137\n",
      " 3666.381  4503.9175]\n",
      "[-6.9905151e+03  1.0524242e+05  1.3671776e+03  9.5732734e+03\n",
      "  1.0280013e+02  2.0248932e+04  4.6452422e+04 -2.9044430e+04\n",
      " -3.0283199e+04  4.4040578e+04 -4.6175234e+04 -1.2662451e+04\n",
      "  9.0073859e+04  9.3180850e+03  5.2066625e+04  2.7653260e+04]\n",
      "[4862.9053 2565.8704 6105.4644 2450.522  2359.785  3955.2568 4047.4001\n",
      " 7565.9624 7123.153  5335.1733 3378.113  6047.161  3717.9412 3374.4\n",
      " 2887.4285 3606.5034]\n",
      "[5676.8843 3606.3477 7201.9116 2945.7383 2587.0605 4714.694  5048.625\n",
      " 8807.092  8131.5396 6610.141  3531.4248 7007.528  4834.6675 3991.5469\n",
      " 3653.287  4345.7744]\n",
      "[ 7200.721   4592.519   9077.576   3717.439   3932.245   5873.742\n",
      "  6420.8765 11033.685  10241.441   8095.024   4273.782   8945.096\n",
      "  6208.574   5051.99    4715.443   5500.091 ]\n",
      "Step #720.00 (0ms ?*RT. ?UPS, TraCI: 0ms, vehicles TOT 285 ACT 49 BUF 0)                  [4197.116  2125.6848 5324.6704 2232.2224 2615.7527 3381.289  3424.3005\n",
      " 6681.0894 6249.444  4534.5205 3284.9253 5303.149  3139.3794 2961.1733\n",
      " 2473.185  3162.3716]\n",
      "episode : 78\n",
      "Step #800.40 (0ms ?*RT. ?UPS, TraCI: 0ms, vehicles TOT 320 ACT 41 BUF 0)                  \n",
      " Retrying in 1 seconds\n"
     ]
    },
    {
     "name": "stderr",
     "output_type": "stream",
     "text": [
      "Warning: Environment variable SUMO_HOME is not set properly, disabling XML validation. Set 'auto' or 'always' for web lookups.\n"
     ]
    },
    {
     "name": "stdout",
     "output_type": "stream",
     "text": [
      "[-1380.4481  -3942.8213  -1607.5038  -2971.5056  -2648.4824  -2987.0378\n",
      " -1190.1876  -1597.5078   -253.12038   357.65652   587.24054 -1246.4426\n",
      " -3131.5212  -1386.8424  -1617.969   -2231.6365 ]\n",
      "[2816.1667 1556.3021 3536.4067 1506.2864 2109.6414 2332.8235 2372.8826\n",
      " 4292.8076 4178.586  3104.8132 2146.338  3657.8835 2188.188  1962.9996\n",
      " 1741.7742 2150.688 ]\n",
      "[1463.9532  1205.3086  1963.7587   942.06696  832.9927  1425.4453\n",
      " 1442.8062  2225.6953  2148.264   1973.8923  1094.5758  1884.5784\n",
      " 1440.0718  1045.7175  1085.1511  1273.2859 ]\n",
      "[1342.1356  1071.5771  1825.8208   884.37823  651.1436  1330.4081\n",
      " 1309.2172  2073.0989  2013.0223  1860.5651  1134.6289  1720.94\n",
      " 1285.2576   968.7164   967.5779  1178.8185 ]\n",
      "[519.7101  318.33176 674.10785 320.21216 307.65555 477.4002  447.8915\n",
      " 770.3945  782.91595 639.3562  469.455   655.374   413.51727 356.91168\n",
      " 327.20212 422.00958]\n",
      "Step #720.00 (0ms ?*RT. ?UPS, TraCI: 0ms, vehicles TOT 163 ACT 20 BUF 0)                  episode : 79\n",
      "Step #800.40 (1ms ~= 10.00*RT, ~22000.00UPS, TraCI: 0ms, vehicles TOT 180 ACT 22 BUF 0)   \n",
      " Retrying in 1 seconds\n"
     ]
    },
    {
     "name": "stderr",
     "output_type": "stream",
     "text": [
      "Warning: Environment variable SUMO_HOME is not set properly, disabling XML validation. Set 'auto' or 'always' for web lookups.\n"
     ]
    },
    {
     "name": "stdout",
     "output_type": "stream",
     "text": [
      "[2958.2034 2550.3591 3382.0017 1619.3053 2088.7146 2368.6213 2706.9263\n",
      " 3434.238  3438.632  3212.1362 1323.2847 3179.9304 2876.3577 1711.7822\n",
      " 2155.9087 2321.6702]\n",
      "[5397.965  4788.86   6044.8794 2883.9807 3614.0881 4242.8325 5031.936\n",
      " 6151.4644 6150.75   6009.9834 2153.6826 5752.5894 5350.9604 3082.4858\n",
      " 3977.9407 4143.987 ]\n",
      "[7757.581  6475.8364 8532.267  3438.2246 4591.2407 6042.4106 6885.7593\n",
      " 8974.892  8777.953  8460.399  3576.5    7949.2324 7255.6885 4730.282\n",
      " 5174.675  5809.1626]\n",
      "[3219.196  2438.1875 3480.2422 1336.8253 1907.1476 2458.8333 2706.1492\n",
      " 3876.0476 3700.6948 3376.7488 1641.038  3267.5344 2791.4585 1978.8558\n",
      " 2009.2377 2361.5942]\n",
      "[2812.687  2154.2454 2971.7224 1103.86   1905.4563 2082.0852 2383.1626\n",
      " 3310.82   3161.7927 2830.0757 1183.7292 2863.4668 2471.905  1711.9442\n",
      " 1801.357  2031.2446]\n",
      "Step #720.00 (0m[1964.2899  1442.8142  2122.2083   825.17664  874.23035 1524.5927         \n",
      " 1630.264   2468.2324  2310.3481  2211.7632  1180.8909  1963.8313\n",
      " 1634.9899  1229.721   1180.5181  1438.7953 ]\n",
      "[2401.1843 1644.7561 2574.7715 1012.2907 1352.5253 1818.2035 1930.9552\n",
      " 2982.66   2842.8867 2498.562  1436.5638 2432.6548 1924.3246 1491.2675\n",
      " 1419.8423 1739.0476]\n",
      "episode : 80\n",
      "Step #800.40 (0ms ?*RT. ?UPS, TraCI: 0ms, vehicles TOT 271 ACT 35 BUF 0)                  \n",
      " Retrying in 1 seconds\n"
     ]
    },
    {
     "name": "stderr",
     "output_type": "stream",
     "text": [
      "Warning: Environment variable SUMO_HOME is not set properly, disabling XML validation. Set 'auto' or 'always' for web lookups.\n"
     ]
    },
    {
     "name": "stdout",
     "output_type": "stream",
     "text": [
      "[1300.1589   761.8632  1343.4865   561.2489   670.0747   921.4328\n",
      "  990.91705 1637.9708  1557.8661  1344.7981   768.1735  1329.1168\n",
      "  907.8505   787.0623   694.4739   873.99396]\n",
      "[1574.8876   908.2495  1662.1011   729.58746 1007.3239  1104.6396\n",
      " 1187.1521  1940.5143  1910.0416  1522.3169   958.77783 1637.5818\n",
      " 1104.175    964.92883  865.7278  1099.1974 ]\n",
      "[1365.3855   959.09546 1461.459    665.6068   746.11176  965.33466\n",
      " 1125.2532  1627.0328  1592.5198  1455.305    689.22534 1408.1661\n",
      " 1086.0067   823.4717   820.3287   961.1094 ]\n",
      "[2973.1829 2016.5437 3123.4995 1423.8619 1717.3412 2033.5074 2444.0627\n",
      " 3487.102  3498.3235 3125.4363 1536.1406 3115.2935 2330.7842 1782.9149\n",
      " 1775.2417 2040.3527]\n",
      "[4129.97   3189.4893 4385.3555 2062.307  2599.3274 2858.707  3602.361\n",
      " 4717.076  4699.942  4387.92   1720.2542 4324.4253 3595.3284 2486.0112\n",
      " 2685.647  2915.799 ]\n",
      "[3582.5361 2669.5747 3904.6628 1898.1537 2148.7786 2533.706  3074.131\n",
      " 4219.1567 4193.7236 3845.5618 1803.152  3733.3433 3026.6921 2183.7002\n",
      " 2270.4133 2565.8352]\n",
      "Step #720.00 (0ms ?*RT. ?UPS, TraCI: 0ms, vehicles TOT 178 ACT 22 BUF 0)                  episode : 81\n",
      "Step #800.40 (0ms ?*RT. ?UPS, TraCI: 0ms, vehicles TOT 197 ACT 21 BUF 0)                  \n",
      " Retrying in 1 seconds\n"
     ]
    },
    {
     "name": "stderr",
     "output_type": "stream",
     "text": [
      "Warning: Environment variable SUMO_HOME is not set properly, disabling XML validation. Set 'auto' or 'always' for web lookups.\n"
     ]
    },
    {
     "name": "stdout",
     "output_type": "stream",
     "text": [
      "[-1723206.1  -2170080.   -2097676.8  -1169867.9  -1996548.8  -1272517.2\n",
      " -1926459.4  -1696310.5  -1544086.8  -1638669.     155194.22 -1736546.9\n",
      " -2356921.   -1106310.6  -1734896.4  -1525223.8 ]\n",
      "[1687.268    802.8202  1822.0521   885.673    854.4711  1119.3169\n",
      " 1225.3254  2137.0125  2219.2478  1774.3572  1407.0597  1789.3971\n",
      " 1009.72144 1050.6901   939.3358  1104.9358 ]\n",
      "[1897.6571 1621.2802 2176.8484 1137.1836  997.5586 1400.2467 1724.5962\n",
      " 2316.7183 2259.3542 2378.9043 1069.419  1933.3306 1744.8158 1250.0702\n",
      " 1439.1833 1457.31  ]\n",
      "[3382.1667 2747.1516 3833.0754 1987.9626 2205.9238 2408.1943 3002.2942\n",
      " 4044.851  4018.789  3962.705  1756.0819 3487.1116 3018.5244 2190.6316\n",
      " 2531.091  2546.0806]\n",
      "[2023.701  1775.0166 2324.9106 1228.4692 1596.8367 1452.5831 1849.9052\n",
      " 2342.5847 2375.5474 2304.9277  974.8579 2093.243  1956.2604 1334.7158\n",
      " 1621.2834 1592.5415]\n",
      "[4948.6377 3814.4119 5527.2935 2855.5947 3290.593  3439.3213 4307.0312\n",
      " 5912.6187 5986.215  5845.161  2765.4805 5112.836  4250.603  3216.773\n",
      " 3640.323  3656.77  ]\n",
      "[5630.0376 4940.546  6329.0576 3327.2354 3401.026  4489.1587 5204.5273\n",
      " 6693.799  6567.6855 7156.377  2585.3738 5674.0283 5284.8765 3380.2188\n",
      " 4358.2876 4261.306 ]\n",
      "[2169.823   2014.8783  2458.893   1314.5233  1370.4619  1843.3314\n",
      " 2049.6304  2547.454   2476.0132  2763.315    846.91327 2166.201\n",
      " 2126.7803  1256.3895  1727.0353  1671.5546 ]\n",
      "[2091.7302 1794.9935 2375.1829 1262.3788 1138.8789 1801.896  1901.2273\n",
      " 2546.3145 2479.87   2721.076  1074.7865 2089.5322 1905.6346 1211.6718\n",
      " 1582.8013 1589.77  ]\n",
      "[5440.6606 4600.748  6120.654  3229.689  3288.5874 4731.0083 4892.2666\n",
      " 6512.315  6412.234  6857.95   2628.9937 5461.0454 4956.421  3048.8662\n",
      " 4111.6846 4086.6006]\n",
      "[6471.0913 5091.667  7207.151  3768.314  4255.7817 5530.356  5624.215\n",
      " 7703.566  7748.8687 7830.509  3333.0103 6555.343  5618.627  3581.4563\n",
      " 4747.946  4766.706 ]\n",
      "[5793.8306 5477.1226 6573.1396 3487.2031 3464.026  5241.97   5392.8994\n",
      " 6837.6143 6650.3906 7459.8164 2443.833  5754.5537 5676.618  3201.6755\n",
      " 4580.096  4461.7153]\n",
      "Step #720.00 (0m[7865.0967 7553.691  8842.476  4668.4077 5290.502  7036.0947 7335.9614)   \n",
      " 9043.291  8904.16   9792.447  2891.3843 7845.9126 7831.917  4284.2153\n",
      " 6289.788  6025.4717]\n",
      "episode : 82\n",
      "Step #800.40 (0ms ?*RT. ?UPS, TraCI: 1ms, vehicles TOT 318 ACT 45 BUF 0)                  \n",
      " Retrying in 1 seconds\n"
     ]
    },
    {
     "name": "stderr",
     "output_type": "stream",
     "text": [
      "Warning: Environment variable SUMO_HOME is not set properly, disabling XML validation. Set 'auto' or 'always' for web lookups.\n"
     ]
    },
    {
     "name": "stdout",
     "output_type": "stream",
     "text": [
      "[10827.521   9827.11   12710.586   6404.0015  8309.51   10081.757\n",
      "  9672.304  12648.748  12696.142  10895.388   4690.673  11027.065\n",
      " 10397.661   5769.6875  8387.535   8167.887 ]\n",
      "[8020.256  7755.0576 9513.549  4753.227  6213.738  7302.4414 7477.629\n",
      " 9438.99   9363.114  8110.8677 3018.611  8275.779  8209.463  4691.726\n",
      " 6504.4937 6157.554 ]\n",
      "[4442.4043 4694.015  5439.106  2734.0317 2794.963  4244.059  4363.023\n",
      " 5443.5576 5150.0464 5067.7427 1669.4067 4522.002  4808.066  2749.857\n",
      " 3726.5007 3546.8096]\n",
      "Step #720.00 (0ms ?*RT. ?UPS, TraCI: 0ms, vehicles TOT 348 ACT 42 BUF 0)                  episode : 83\n",
      "Step #800.40 (1ms ~= 10.00*RT, ~41000.00UPS, TraCI: 0ms, vehicles TOT 381 ACT 41 BUF 0)   \n",
      " Retrying in 1 seconds\n"
     ]
    },
    {
     "name": "stderr",
     "output_type": "stream",
     "text": [
      "Warning: Environment variable SUMO_HOME is not set properly, disabling XML validation. Set 'auto' or 'always' for web lookups.\n"
     ]
    },
    {
     "name": "stdout",
     "output_type": "stream",
     "text": [
      "[6410.1826 6191.017  7812.7793 3845.8213 5286.8477 5761.4233 6110.867\n",
      " 7784.476  7689.634  6636.9194 2365.6711 6754.3223 6728.327  4143.864\n",
      " 5237.0923 4963.197 ]\n",
      "[ 8780.325   8533.286  10621.728   5222.976   7078.8037  7863.636\n",
      "  8434.361  10652.085  10506.479   9229.984   3173.9492  9253.173\n",
      "  9264.76    5684.2803  7194.385   6777.029 ]\n",
      "[7936.942  7550.9565 9591.126  4729.8716 6758.3306 7075.6685 7612.1753\n",
      " 9730.054  9752.227  8225.94   2978.914  8517.953  8318.045  5201.4116\n",
      " 6499.4067 6150.9   ]\n",
      "[ 8093.6963  7119.9937  9835.405   4837.3     7061.2095  7208.719\n",
      "  7550.7217 10250.679  10536.688   8259.762   3730.7236  8877.797\n",
      "  8021.676   5372.516   6419.4634  6305.216 ]\n",
      "[ 8009.597   7824.4106  9850.637   4894.37    6849.754   7329.7974\n",
      "  7909.467  10115.219  10258.145   8581.12    2971.1787  8769.744\n",
      "  8603.773   5398.029   6713.949   6482.0527]\n",
      "[4701.925  4528.9453 5933.997  2960.332  3771.9133 4465.8955 4659.36\n",
      " 6245.687  6443.393  5298.774  2305.4375 5333.6255 4974.147  3273.6704\n",
      " 3940.426  3970.8943]\n",
      "[5601.2036 4835.5986 6973.9673 3434.7686 5141.3223 5141.1523 5266.138\n",
      " 7403.416  7992.3604 5784.9556 3056.2158 6520.153  5532.2134 3793.6099\n",
      " 4495.822  4626.978 ]\n",
      "[6894.29   5986.342  8436.975  4118.228  6683.698  6131.5464 6699.501\n",
      " 8776.8    9698.656  7040.7886 2884.3582 8203.8    7158.3105 4429.0757\n",
      " 5610.2534 5700.9634]\n",
      "[12039.314   9750.173  14617.293   7083.207  11254.356  10535.447\n",
      " 11607.877  15346.403  17276.426  12551.552   5778.801  14572.924\n",
      " 12266.557   7674.3887  9602.862   9914.921 ]\n",
      "Step #720.00 (0ms ?*RT. ?UPS, TraCI: 0ms, vehicles TOT 321 ACT 52 BUF 0)                  episode : 84\n",
      "Step #800.40 (0ms ?*RT. ?UPS, TraCI: 1ms, vehicles TOT 352 ACT 57 BUF 0)                  \n",
      " Retrying in 1 seconds\n"
     ]
    },
    {
     "name": "stderr",
     "output_type": "stream",
     "text": [
      "Warning: Environment variable SUMO_HOME is not set properly, disabling XML validation. Set 'auto' or 'always' for web lookups.\n"
     ]
    },
    {
     "name": "stdout",
     "output_type": "stream",
     "text": [
      "[ -78307.05  -102251.2   -105206.72   -61676.004  -95276.14   -69397.26\n",
      "  -92971.84   -83123.695  -73103.125  -79994.06    27183.78   -86528.36\n",
      " -123487.055  -47634.535  -81484.6    -74879.7  ]\n",
      "[1747.5063  1437.7054  2103.9644  1006.23456 1622.8566  1508.655\n",
      " 1723.0717  2161.9     2458.3926  2101.811    767.0043  2183.528\n",
      " 1852.67    1102.2814  1420.7507  1450.6721 ]\n",
      "[2191.5833 1565.5858 2659.8555 1261.8605 2143.2568 1882.3127 2039.2544\n",
      " 2788.1572 3232.2983 2529.3088 1209.5021 2783.1135 2124.003  1379.7332\n",
      " 1682.3431 1800.3047]\n",
      "[3042.161  2273.2598 3737.0842 1771.9004 2941.7256 2661.611  2903.4995\n",
      " 3893.4253 4511.4526 3758.0737 1642.5792 3921.4043 3054.0051 1933.2701\n",
      " 2405.245  2546.9097]\n",
      "[4885.0454 3899.6753 5992.983  2844.779  4653.2236 4291.693  4807.749\n",
      " 6175.3164 7112.8867 6236.083  2317.0557 6299.1562 5134.186  3107.7476\n",
      " 3983.9348 4101.573 ]\n",
      "[  104.549736 -1954.3417      25.010988 -1665.8611   -1015.4872\n",
      " -1556.3965     324.5712       8.426064   588.89825   1447.6727\n",
      "   132.6144     295.98972   -856.8996    -314.59204   -250.04857\n",
      "  -814.4693  ]\n",
      "[1063.1917   1188.5251   1346.2347    664.32666   988.8442   1010.41565\n",
      " 1218.5897   1270.9001   1363.077    1531.8873     25.584883 1336.6732\n",
      " 1411.9222    687.35846  1020.854     952.606   ]\n",
      "[ -398327.1    1423415.5    -380861.94    -66301.12   -893917.7\n",
      "   -60452.176   491572.9    -912250.8   -1229935.2     443289.9\n",
      " -1244942.     -677632.06   1166809.6    -129379.61    545058.2\n",
      "    93569.37 ]\n",
      "[2850.29   2025.9294 3477.339  1541.0236 2678.4905 2529.0671 2710.5476\n",
      " 3639.0344 4260.12   3692.8076  991.6858 3715.4746 2775.5354 1815.8424\n",
      " 2233.9067 2278.6118]\n",
      "[6572.188   6898.852   8108.474   3774.173   5828.291   6110.69\n",
      " 7394.857   7804.4316  8641.369   9434.169   -165.13069 8343.185\n",
      " 8398.117   4326.6006  6217.72    5670.822  ]\n",
      "Step #720.00 (0ms ?*RT. ?UPS, TraCI: 0ms, vehicles TOT 125 ACT 12 BUF 0)                  episode : 85\n",
      "Step #800.40 (0ms ?*RT. ?UPS, TraCI: 0ms, vehicles TOT 139 ACT 14 BUF 0)                  \n",
      " Retrying in 1 seconds\n"
     ]
    },
    {
     "name": "stderr",
     "output_type": "stream",
     "text": [
      "Warning: Environment variable SUMO_HOME is not set properly, disabling XML validation. Set 'auto' or 'always' for web lookups.\n"
     ]
    },
    {
     "name": "stdout",
     "output_type": "stream",
     "text": [
      "[-1432142.8  -1905861.8  -1915171.9  -1062426.2  -1777674.2  -1337907.\n",
      " -1760200.2  -1481406.2  -1569614.5  -1828517.8    596363.   -1728724.5\n",
      " -2325099.8   -953267.06 -1610404.6  -1421414.1 ]\n",
      "[2782.1562  2456.684   3445.3926  1545.0841  2359.9763  2512.0505\n",
      " 2893.41    3374.8638  3885.5684  3820.299    263.11783 3579.3188\n",
      " 3116.5369  1834.6791  2514.2747  2378.3396 ]\n",
      "[5066.7085  5527.8047  6448.8423  2956.3386  4513.8477  4600.9272\n",
      " 5849.3013  5788.4653  6651.1094  7333.968   -480.28873 6339.4834\n",
      " 6691.0938  3415.387   5266.607   4646.3745 ]\n",
      "[3651.9226  3783.145   4672.985   2125.7783  3356.304   3290.9802\n",
      " 4110.918   4225.9106  4903.7554  5158.02    -187.46529 4581.633\n",
      " 4651.634   2453.0398  3713.3015  3327.0205 ]\n",
      "[6636.4546 6201.2285 8543.291  3762.2346 6543.0063 5799.8423 7136.379\n",
      " 7828.9775 9328.574  8933.402   330.1648 8337.102  7930.0127 4443.549\n",
      " 6532.487  5970.8765]\n",
      "[10447.944   10044.177   13387.959    5843.8286   9992.816    9112.7705\n",
      " 11400.083   12239.543   14522.301   14335.6875    317.38144 13041.844\n",
      " 12670.926    7032.469   10214.28     9408.013  ]\n",
      "Step #720.00 (0ms ?*RT. ?UPS, TraCI: 0ms, vehicles TOT 182 ACT 21 BUF 0)                  episode : 86\n",
      "Step #800.40 (0ms ?*RT. ?UPS, TraCI: 1ms, vehicles TOT 206 ACT 25 BUF 0)                  \n",
      " Retrying in 1 seconds\n"
     ]
    },
    {
     "name": "stderr",
     "output_type": "stream",
     "text": [
      "Warning: Environment variable SUMO_HOME is not set properly, disabling XML validation. Set 'auto' or 'always' for web lookups.\n"
     ]
    },
    {
     "name": "stdout",
     "output_type": "stream",
     "text": [
      "[ 7914.3306  6046.296   9636.44    3659.8408  5917.1694  6426.3745\n",
      "  7678.914   9128.171  11216.415   9621.051   1163.6603 10818.859\n",
      "  8290.739   5741.8433  6324.1436  6524.485 ]\n",
      "[6042.547  4207.591  7327.479  2695.0781 5943.0093 4818.836  5570.3545\n",
      " 7089.141  8817.248  6994.0254 1550.6914 8447.459  5892.157  4569.8433\n",
      " 4762.46   5029.9497]\n",
      "[3034.1694 2167.0845 3637.8472 1329.1525 3038.7048 2378.9746 2825.994\n",
      " 3488.9321 4355.8286 3484.792   571.7486 4240.5137 3024.8489 2275.8623\n",
      " 2413.3093 2514.9788]\n",
      "[3106.3308  2121.8298  3768.1636  1437.5422  3254.8364  2440.7727\n",
      " 2820.7036  3649.0396  4575.518   3500.3315   868.72754 4351.0454\n",
      " 2991.2034  2353.3064  2451.7932  2655.517  ]\n",
      "Step #720.00 (0ms ~= 10.00*RT, ~28000.00UPS, TraCI: 0ms, vehicles TOT 241 ACT 28 BUF 0)   episode : 87\n",
      "Step #800.40 (1ms ~= 10.00*RT, ~32000.00UPS, TraCI: 0ms, vehicles TOT 270 ACT 32 BUF 0)   \n",
      " Retrying in 1 seconds\n"
     ]
    },
    {
     "name": "stderr",
     "output_type": "stream",
     "text": [
      "Warning: Environment variable SUMO_HOME is not set properly, disabling XML validation. Set 'auto' or 'always' for web lookups.\n"
     ]
    },
    {
     "name": "stdout",
     "output_type": "stream",
     "text": [
      "[1943.5256  1186.1534  2301.8257   920.1326  1823.0778  1490.51\n",
      " 1674.6918  2311.0159  2848.2373  2198.0483   721.16174 2636.9211\n",
      " 1675.2443  1371.3746  1466.2891  1636.2246 ]\n",
      "[ 8393.635   5812.056   9781.894   3912.5542  7819.221   6358.724\n",
      "  7609.7295  9619.766  11738.871   9557.124   1785.3085 11216.335\n",
      "  7954.2876  5626.8853  6619.8945  7102.883 ]\n",
      "[11585.177   8362.318  13410.303   5273.506  10620.323   8759.333\n",
      " 10681.975  13127.329  15980.25   13356.378   2106.9553 15369.135\n",
      " 11299.743   7644.432   9288.127   9834.895 ]\n",
      "[15594.236  11732.209  18007.275   7050.739  14131.24   11814.838\n",
      " 14605.445  17529.617  21259.885  18192.941   2405.8098 20602.85\n",
      " 15605.403  10231.317  12696.038  13304.957 ]\n",
      "[ 8457.931   6663.8496  9851.439   3777.1445  7676.413   6508.5557\n",
      "  8059.3086  9534.252  11220.596   9828.987    394.4069 11103.594\n",
      "  8650.246   5375.862   6914.7056  7309.5684]\n",
      "[3621.2283  3204.054   4232.215   1633.2185  2668.5383  3265.6064\n",
      " 3648.843   4129.188   4572.041   4665.078     26.64933 4620.454\n",
      " 3847.653   2291.2666  2998.9058  3192.99   ]\n",
      "[6970.916  4428.991  8014.149  2964.3445 6118.3096 5904.2847 6104.596\n",
      " 8161.6104 9788.787  7821.3105 1757.9408 9068.538  6120.598  4346.271\n",
      " 5109.3716 5793.115 ]\n",
      "Step #720.00 (0m[13701.153   9751.039  15908.9375  6466.6606 12155.895  12258.487         \n",
      " 12655.486  15915.975  18662.373  15664.73    2079.2334 17604.445\n",
      " 13025.571   8809.873  11111.278  11710.233 ]\n",
      "[17376.342 12173.46  20096.83   8185.32  15547.103 15475.278 16000.229\n",
      " 20125.414 23657.979 19686.     2548.755 22327.4   16403.867 11132.235\n",
      " 14049.828 14750.214]\n",
      "episode : 88\n",
      "Step #800.40 (0ms ?*RT. ?UPS, TraCI: 0ms, vehicles TOT 305 ACT 53 BUF 0)                  \n",
      " Retrying in 1 seconds\n"
     ]
    },
    {
     "name": "stderr",
     "output_type": "stream",
     "text": [
      "Warning: Environment variable SUMO_HOME is not set properly, disabling XML validation. Set 'auto' or 'always' for web lookups.\n"
     ]
    },
    {
     "name": "stdout",
     "output_type": "stream",
     "text": [
      "[-168563.27    32162.428 -194958.02   -85675.484 -264296.88  -128149.75\n",
      "  -72790.6   -241395.48  -344458.4    -91990.8   -241292.11  -241869.6\n",
      "  -38324.332 -120552.77   -85379.09  -132056.69 ]\n",
      "[-1370532.2  -1818144.1  -1765845.8   -942141.06 -1452931.2  -1330745.8\n",
      " -1650947.8  -1358500.6  -1429990.8  -1655766.6    543384.56 -1650436.2\n",
      " -2217805.8   -916105.9  -1550460.8  -1412574.9 ]\n",
      "[5230.6235  3244.393   5991.1714  2398.7695  4612.143   4603.976\n",
      " 4739.409   6369.9053  7279.0195  5903.1313   992.21295 6812.2075\n",
      " 4591.6035  3344.2617  4115.395   4287.8594 ]\n",
      "[6384.2944  4805.03    7952.6353  3275.247   5429.396   6208.8086\n",
      " 6377.172   8802.969   8791.141   7929.382    503.20343 8499.094\n",
      " 5845.5786  4076.641   5606.3315  5630.468  ]\n",
      "[ 7868.322   5631.726   9794.97    4018.6484  7455.543   7504.9204\n",
      "  7661.339  10792.443  11047.186   9064.547    670.3011 10548.41\n",
      "  7065.2344  5017.5005  6851.802   6891.732 ]\n",
      "[4311.5635 3646.391  5406.294  2270.6133 4394.554  4174.3374 4460.9116\n",
      " 5745.71   5802.5303 4647.474  -349.5445 5773.9087 4397.771  2858.1128\n",
      " 4017.0051 3901.4414]\n",
      "[5146.1807  3863.9878  6421.4746  2617.0479  4987.882   4898.471\n",
      " 5098.6157  7051.825   7079.403   5283.4004    95.86872 6886.5264\n",
      " 4709.257   3459.0938  4536.8853  4524.8237 ]\n",
      "Step #720.00 (0m[5817.482   4242.2563  7298.7065  3005.4885  6027.9756  5451.3687         \n",
      " 5667.948   7943.3394  8139.1816  5627.3994   409.84766 7805.717\n",
      " 5343.013   4007.9988  5167.793   5133.6436 ]\n",
      "[6650.2856  4998.1377  8353.556   3466.5774  6782.9165  6272.565\n",
      " 6611.7812  9054.656   9176.394   6549.122    274.73773 8904.366\n",
      " 6325.0767  4648.651   6007.3354  5911.1045 ]\n",
      "episode : 89\n",
      "Step #800.40 (0ms ?*RT. ?UPS, TraCI: 0ms, vehicles TOT 307 ACT 37 BUF 0)                  \n",
      " Retrying in 1 seconds\n"
     ]
    },
    {
     "name": "stderr",
     "output_type": "stream",
     "text": [
      "Warning: Environment variable SUMO_HOME is not set properly, disabling XML validation. Set 'auto' or 'always' for web lookups.\n"
     ]
    },
    {
     "name": "stdout",
     "output_type": "stream",
     "text": [
      "[ 8535.923    6759.337   11222.715    5132.423    7327.3706   8071.759\n",
      "  9394.127   11597.478   11268.662    9560.999    -138.74602 11380.484\n",
      "  8570.8545   6035.731    7865.0054   7807.3525 ]\n",
      "[ 7463.0073    6083.5547    9887.042     4564.335     5858.8916\n",
      "  7107.818     8338.44     10173.663     9734.847     8710.22\n",
      "    26.568548  9932.728     7538.2734    5242.185     6914.181\n",
      "  6859.6396  ]\n",
      "Step #720.00 (0ms ?*RT. ?UPS, TraCI: 0ms, vehicles TOT 278 ACT 71 BUF 0)                  [ 8453.447   5808.3184 11144.199   5075.754   6682.512   7675.813\n",
      "  8887.183  11672.942  11497.654   9297.059   1246.7256 11355.711\n",
      "  7583.6904  5774.587   7449.624   7502.808 ]\n",
      "[6886.02    5043.4277  9063.355   4127.4746  5625.312   6240.1147\n",
      " 7371.2554  9360.58    9193.329   7514.3145   530.00037 9225.113\n",
      " 6512.231   4674.1357  6279.3057  6162.4116 ]\n",
      "episode : 90\n",
      "Step #800.40 (0ms ?*RT. ?UPS, TraCI: 0ms, vehicles TOT 312 ACT 41 BUF 0)                  \n",
      " Retrying in 1 seconds\n"
     ]
    },
    {
     "name": "stderr",
     "output_type": "stream",
     "text": [
      "Warning: Environment variable SUMO_HOME is not set properly, disabling XML validation. Set 'auto' or 'always' for web lookups.\n"
     ]
    },
    {
     "name": "stdout",
     "output_type": "stream",
     "text": [
      "[ 8084.431   6032.4644 10316.635   3673.0686  6963.2524  7615.1494\n",
      "  8516.937  10916.424  10265.969   8440.93    -635.326  10520.287\n",
      "  7650.741   5301.2163  7498.139   7030.1763]\n",
      "[5326.719   3897.776   6814.2876  2174.4421  4005.44    5300.8936\n",
      " 5609.191   7306.298   6405.9565  5789.7314  -374.38907 6808.454\n",
      " 4844.046   3467.87    4718.5454  4571.848  ]\n",
      "[ 6168.4385  3938.5508  8015.4624  2442.83    5034.62    6204.688\n",
      "  6600.796   8111.397   7423.2935  6549.5244 -1415.7401  7974.4707\n",
      "  5773.584   4021.7383  5569.03    5371.423 ]\n",
      "[3917.8447  2411.5105  5096.009   1624.7228  3108.8337  3948.9753\n",
      " 4128.205   5205.227   4739.717   4164.9604  -699.08124 5041.177\n",
      " 3553.6177  2564.908   3496.3667  3402.9863 ]\n",
      "Step #720.00 (0ms ?*RT. ?UPS, TraCI: 0ms, vehicles TOT 184 ACT 29 BUF 0)                  [ 4118.7124  3047.3474  5420.036   1812.307   3161.892   4227.4634\n",
      "  4513.542   5514.416   4850.15    4526.5054 -1286.8945  5291.0815\n",
      "  3931.7393  2704.7651  3729.451   3635.6284]\n",
      "[ 6010.156   4609.78    7998.1025  2726.8386  4823.8765  6210.5435\n",
      "  6604.778   8157.0146  7192.7754  6557.121  -1940.013   7801.2266\n",
      "  5741.462   3980.8215  5396.3955  5348.3643]\n",
      "episode : 91\n",
      "Step #800.40 (0ms ?*RT. ?UPS, TraCI: 0ms, vehicles TOT 209 ACT 34 BUF 0)                  \n",
      " Retrying in 1 seconds\n"
     ]
    },
    {
     "name": "stderr",
     "output_type": "stream",
     "text": [
      "Warning: Environment variable SUMO_HOME is not set properly, disabling XML validation. Set 'auto' or 'always' for web lookups.\n"
     ]
    },
    {
     "name": "stdout",
     "output_type": "stream",
     "text": [
      "[ 5007.5605  4302.5396  6876.6436  2479.294   4284.0176  5317.486\n",
      "  5751.154   6988.4688  6059.533   5571.64   -2284.7185  6652.9663\n",
      "  5064.1807  3382.5774  4511.57    4447.0933]\n",
      "[ 7219.504   6134.0737  9932.068   3596.8284  6472.7036  7643.5903\n",
      "  8311.999  10063.205   8789.704   7918.9785 -3473.0317  9639.26\n",
      "  7391.0234  4874.184   6528.0337  6387.2856]\n",
      "[ 6854.129   4788.306   9438.167   3413.7922  5987.581   7196.9634\n",
      "  7667.914   9871.061   8504.751   7428.5713 -2790.8347  9181.8955\n",
      "  6487.452   4611.993   5857.519   5763.9814]\n",
      "[ 5133.838   3613.7253  7089.9453  2573.3154  4167.971   5441.5356\n",
      "  5797.6113  7455.855   6292.2314  5739.825  -2066.0322  6845.3677\n",
      "  4855.4087  3467.918   4385.018   4313.3184]\n",
      "[ 4947.9233  3203.0083  6810.694   2458.731   4113.316   5195.759\n",
      "  5450.666   7228.0425  6165.908   5400.1074 -1693.7406  6607.472\n",
      "  4475.1787  3334.1863  4124.483   4095.1956]\n",
      "[ 9002.663   4627.3135 12012.367   5404.689   8455.209   9112.781\n",
      "  9683.127  13212.767  11550.163   9016.285  -3736.968  12342.91\n",
      "  7977.439   5966.1157  7174.026   7260.2124]\n",
      "Step #720.00 (0ms ?*RT. ?UPS, TraCI: 0ms, vehicles TOT 216 ACT 31 BUF 0)                  [ 4128.58    1794.3843  5433.9355  2506.6582  3913.106   4104.081\n",
      "  4292.267   6114.138   5431.284   4022.4988 -1295.8607  5701.2207\n",
      "  3428.979   2715.5288  3143.9167  3252.083 ]\n",
      "episode : 92\n",
      "Step #800.40 (0ms ?*RT. ?UPS, TraCI: 0ms, vehicles TOT 242 ACT 31 BUF 0)                  \n",
      " Retrying in 1 seconds\n"
     ]
    },
    {
     "name": "stderr",
     "output_type": "stream",
     "text": [
      "Warning: Environment variable SUMO_HOME is not set properly, disabling XML validation. Set 'auto' or 'always' for web lookups.\n"
     ]
    },
    {
     "name": "stdout",
     "output_type": "stream",
     "text": [
      "[4477.312   2541.6462  6009.766   2832.7002  3861.8074  4517.058\n",
      " 4770.656   6666.4814  5848.236   4657.0146  -647.60864 6153.2476\n",
      " 3927.178   2987.2292  3683.9731  3592.001  ]\n",
      "[3667.2693  2087.4163  4928.3755  2330.2136  3127.2751  3699.896\n",
      " 3822.8853  5488.6387  4853.0034  3804.3164  -114.14033 5015.103\n",
      " 3115.181   2467.1633  3002.967   2930.8125 ]\n",
      "[6274.7896 3949.8271 8463.856  3914.2393 5740.3047 6329.81   6633.191\n",
      " 9273.412  8333.722  6417.724  -419.0129 8614.529  5657.4233 4235.727\n",
      " 4997.6694 5072.356 ]\n",
      "[ 9370.64    6705.693  12567.746   5132.7163  7652.7437  9443.765\n",
      "  9848.647  13873.2295 12101.156   9839.339   -435.4433 12679.733\n",
      "  8218.934   6239.7534  5831.3794  7340.998 ]\n",
      "[ 6923.1216   5241.4023   9003.755    3366.9116   4381.643    6498.995\n",
      "  6985.521   10055.241    8389.688    7513.3384    317.93286  8867.904\n",
      "  5616.9263   4485.2427   3596.8503   5178.1147 ]\n",
      "[ 9863.17    7993.7705 12805.599   4747.829   6826.5034  9088.758\n",
      " 10183.276  14027.36   11803.611  10532.171   -789.4611 12688.838\n",
      "  8603.107   6316.158   5249.167   7404.9404]\n",
      "[6799.218  4769.8022 8687.374  3097.5535 4317.9575 5972.5645 6400.1313\n",
      " 9795.773  8393.27   7092.214  1452.8783 8591.63   4987.737  4250.1045\n",
      " 3131.0837 4935.1157]\n",
      "[6121.492  3908.9863 7787.379  2749.4558 4010.0093 5272.2188 5443.8574\n",
      " 8853.563  7792.108  6194.779  2376.698  7688.8    4113.1094 3820.5334\n",
      " 2672.5745 4404.493 ]\n",
      "[ 7700.0205  5464.4243  9836.799   3489.7773  5371.8647  6546.206\n",
      "  7109.8276 10943.156   9616.267   7786.0845  1936.8868  9697.222\n",
      "  5736.126   4722.3774  3513.6562  5594.878 ]\n",
      "[ 9414.644   6463.455  11929.623   4200.      6468.08    7802.487\n",
      "  8570.636  13356.4    11640.833   9363.822   2044.5007 11819.288\n",
      "  6748.4766  5625.297   4037.8882  6659.7964]\n",
      "Step #720.00 (0ms ?*RT. ?UPS, TraCI: 0ms, vehicles TOT 308 ACT 103 BUF 0)                 episode : 93\n",
      "Step #800.40 (1ms ~= 10.00*RT, ~78000.00UPS, TraCI: 0ms, vehicles TOT 338 ACT 78 BUF 0)   \n",
      " Retrying in 1 seconds\n"
     ]
    },
    {
     "name": "stderr",
     "output_type": "stream",
     "text": [
      "Warning: Environment variable SUMO_HOME is not set properly, disabling XML validation. Set 'auto' or 'always' for web lookups.\n"
     ]
    },
    {
     "name": "stdout",
     "output_type": "stream",
     "text": [
      "[-306189.12 -444446.94 -431875.75 -216969.28 -334150.75 -274551.2\n",
      " -373632.47 -354568.3  -321122.06 -331699.9    65937.17 -356110.7\n",
      " -487474.06 -199275.25 -269296.28 -292775.78]\n",
      "[6330.4756   4596.331    7972.5347   2812.419    5614.3022   4909.878\n",
      " 5977.3013   8457.453    7747.5537   5789.6143    -39.419445 7934.2314\n",
      " 5354.581    3582.4097   2930.5303   4493.0903  ]\n",
      "[5871.9263  3920.3303  7362.83    2556.227   5438.459   4482.62\n",
      " 5401.011   7856.769   7339.6914  5165.0522   262.80652 7377.3276\n",
      " 4773.6123  3310.3442  2634.128   4116.944  ]\n",
      "[8.1917734e+03 6.1513232e+03 1.0430939e+04 3.7545542e+03 6.4420942e+03\n",
      " 6.4837485e+03 8.1690220e+03 1.1058566e+04 9.8447197e+03 8.1041938e+03\n",
      " 1.1016971e+01 1.0197314e+04 7.3158579e+03 4.7288037e+03 3.9792449e+03\n",
      " 5.9834702e+03]\n",
      "[6953.752  4415.4473 8843.081  3258.97   5897.151  5427.3296 6668.0913\n",
      " 9460.782  8713.815  6546.1763  907.1219 8661.231  5953.5474 4161.9375\n",
      " 3294.1501 5048.786 ]\n",
      "Step #720.00 (0ms ?*RT. ?UPS, TraCI: 0ms, vehicles TOT 302 ACT 37 BUF 0)                  episode : 94\n",
      "Step #800.40 (0ms ?*RT. ?UPS, TraCI: 0ms, vehicles TOT 340 ACT 50 BUF 0)                  \n",
      " Retrying in 1 seconds\n"
     ]
    },
    {
     "name": "stderr",
     "output_type": "stream",
     "text": [
      "Warning: Environment variable SUMO_HOME is not set properly, disabling XML validation. Set 'auto' or 'always' for web lookups.\n"
     ]
    },
    {
     "name": "stdout",
     "output_type": "stream",
     "text": [
      "[2425.0112  1799.825   3026.4128  1044.2312  1897.3357  1637.0657\n",
      " 2591.444   3075.5798  2783.9036  2471.8557  -363.62766 2918.833\n",
      " 2393.8188  1700.6062  1265.3429  1794.6262 ]\n",
      "[3051.8364  1896.6638  3773.9126  1314.9023  2853.0864  1939.0708\n",
      " 3033.2107  3895.652   3775.316   2842.3965   322.47537 3756.4307\n",
      " 2759.6401  2153.892   1642.573   2261.5527 ]\n",
      "[6192.453   4646.7607  7881.9434  2905.0547  5876.7725  3917.0396\n",
      " 6711.585   7857.6777  7485.6577  6150.6167  -509.48965 8197.938\n",
      " 6450.2466  3641.0217  4027.1782  4840.0957 ]\n",
      "[12207.233   9082.478  15531.373   5694.683  11652.7705  7591.278\n",
      " 13206.736  15518.547  14888.436  12293.931   -772.7977 16649.45\n",
      " 12674.148   6415.3647  8137.472   9608.982 ]\n",
      "[10743.407     7665.2324   13773.968     5081.042    10488.218\n",
      "  7054.7285   11403.497    13868.39     13340.534    10748.615\n",
      "    33.234425 14626.229    10824.732     5050.158     7349.385\n",
      "  8663.965   ]\n",
      "Step #720.00 (0m[5603.3105 3951.132  7187.878  2652.9177 5234.611  4116.513  5915.87      \n",
      " 7470.5923 6944.909  5772.978   410.3577 7591.1113 5483.0474 2448.6235\n",
      " 4044.2295 4591.7344]\n",
      "episode : 95\n",
      "Step #800.40 (0ms ?*RT. ?UPS, TraCI: 1ms, vehicles TOT 221 ACT 37 BUF 0)                  \n",
      " Retrying in 1 seconds\n"
     ]
    },
    {
     "name": "stderr",
     "output_type": "stream",
     "text": [
      "Warning: Environment variable SUMO_HOME is not set properly, disabling XML validation. Set 'auto' or 'always' for web lookups.\n"
     ]
    },
    {
     "name": "stdout",
     "output_type": "stream",
     "text": [
      "[-122526.414  -71045.336 -153244.39   -66942.18  -197468.97  -107076.28\n",
      " -109246.99  -166797.31  -199292.67   -99299.625 -133711.22  -170089.02\n",
      " -116966.6    -65446.887 -106377.55  -115429.555]\n",
      "[1968.2456   1523.5747   2546.5872    956.3543   1679.3704   1602.9344\n",
      " 2147.6755   2693.3787   2372.5593   2162.8489     61.564667 2652.3645\n",
      " 1998.9508   1016.0879   1512.0118   1665.5289  ]\n",
      "[11842.348   9496.625  15813.981   5910.1577 11713.602   9938.329\n",
      " 13007.631  16604.715  14883.176  12524.251  -2350.2544 16357.675\n",
      " 12685.476   6830.003   9356.195  10290.85  ]\n",
      "[ 9869.324    7405.5063  13253.904    4947.372    9736.553    8490.94\n",
      " 10443.753   14237.313   12708.531   10433.251    -930.60614 13695.724\n",
      "  9913.595    5888.7305   7629.8105   8588.975  ]\n",
      "[10897.05    8073.2104 14653.534   5375.482  10884.113   9392.199\n",
      " 11447.5625 15774.139  14128.37   11442.096   -956.4983 15157.043\n",
      " 10869.841   6531.26    8397.746   9483.04  ]\n",
      "[10180.324   7520.465  13760.603   5009.994  10120.062   8872.164\n",
      " 10650.216  14906.561  13252.058  10769.172   -949.2201 14234.469\n",
      " 10060.628   6279.8647  7822.329   8893.855 ]\n",
      "[ 8232.97    8611.655  13655.278   5426.594   9137.503   8925.605\n",
      " 11010.624  14588.942  12432.939  11321.053  -2708.3245 13928.611\n",
      " 10772.531   6547.2334  7998.55    8976.182 ]\n",
      "[ 4984.7524  5293.1963  8688.555   3537.0464  5874.334   5672.994\n",
      "  6896.9956  9325.63    8037.0405  7142.504  -1324.013   8856.289\n",
      "  6687.701   4207.088   5022.284   5694.611 ]\n",
      "Step #720.00 (1ms ?*RT. ?UPS, TraCI: 0ms, vehicles TOT 287 ACT 32 BUF 0)                  episode : 96\n",
      "Step #800.40 (0ms ?*RT. ?UPS, TraCI: 0ms, vehicles TOT 314 ACT 31 BUF 0)                  \n",
      " Retrying in 1 seconds\n"
     ]
    },
    {
     "name": "stderr",
     "output_type": "stream",
     "text": [
      "Warning: Environment variable SUMO_HOME is not set properly, disabling XML validation. Set 'auto' or 'always' for web lookups.\n"
     ]
    },
    {
     "name": "stdout",
     "output_type": "stream",
     "text": [
      "[ 8522.977 12225.772 17518.94   8549.039 11247.611 10558.244 14566.169\n",
      " 17973.783 16367.685 16597.389 -4720.675 17033.768 15400.649  8617.537\n",
      " 10829.72  12766.036]\n",
      "[ 6697.4775  9447.656  13759.864   6749.403   8652.016   8298.314\n",
      " 11369.963  14225.794  12872.954  13159.902  -3186.0664 13314.128\n",
      " 11858.963   6806.9756  8455.1045 10083.644 ]\n",
      "[ 5783.5083  8367.198  11967.453   5948.6543  7339.4736  7181.107\n",
      "  9945.124  12343.364  11117.8545 11626.518  -2661.289  11439.298\n",
      " 10401.764   5768.947   7432.8066  8901.721 ]\n",
      "[ 6484.783   9219.638  13172.282   6563.564   8265.617   7833.9067\n",
      " 10928.446  13510.291  12371.289  12686.189  -3001.9277 12561.677\n",
      " 11573.392   6156.3896  8229.965   9847.065 ]\n",
      "[ 7727.304   8513.77   13616.826   6169.681   7917.662   7611.4746\n",
      " 11394.742  13733.507  12539.074  13062.518  -3861.4114 12910.763\n",
      " 11932.398   5477.5444  8355.976  10217.06  ]\n",
      "Step #720.00 (0ms ?*RT. ?UPS, TraCI: 0ms, vehicles TOT 245 ACT 35 BUF 0)                  episode : 97\n",
      "Step #800.40 (1ms ~= 10.00*RT, ~26000.00UPS, TraCI: 0ms, vehicles TOT 273 ACT 26 BUF 0)   \n",
      " Retrying in 1 seconds\n"
     ]
    },
    {
     "name": "stderr",
     "output_type": "stream",
     "text": [
      "Warning: Environment variable SUMO_HOME is not set properly, disabling XML validation. Set 'auto' or 'always' for web lookups.\n"
     ]
    },
    {
     "name": "stdout",
     "output_type": "stream",
     "text": [
      "[ 4363.845   4934.0776  6879.8804  3431.046   3580.3672  4129.2754\n",
      "  6097.591   6711.32    5736.843   6955.276  -2543.8433  6646.8896\n",
      "  6638.4883  2614.9253  4461.3115  5425.6045]\n",
      "[ 8070.4395  8530.548  12292.0205  5993.433   6785.105   7836.0903\n",
      " 10566.438  11493.061   9993.3    11551.595  -4322.8105 11678.153\n",
      " 11738.372   4495.947   7879.5464  9494.214 ]\n",
      "[ 6240.5396  5563.6826  9242.886   4383.676   5398.4507  6102.494\n",
      "  7464.899   8753.45    7920.398   8265.75   -1820.2833  8774.373\n",
      "  8011.0625  3317.15    5654.9136  7122.4062]\n",
      "[3000.4478 2131.76   4340.1953 1987.8179 2567.9463 2911.092  3281.1025\n",
      " 4249.3247 3877.4724 3728.8528 -305.1547 4156.9985 3258.3884 1540.1173\n",
      " 2447.5237 3284.6943]\n",
      "[2332.0276 2137.3057 3452.1265 1550.1198 1652.8741 2301.258  2813.4385\n",
      " 3033.2297 2690.2156 2692.4453 -929.4926 3193.4639 2850.2869 1243.3881\n",
      " 2062.186  2681.7212]\n",
      "Step #720.00 (0ms ?*RT. ?UPS, TraCI: 0ms, vehicles TOT 131 ACT 15 BUF 0)                  [ 8340.327   8660.376  12343.511   5488.0747  6312.183   8127.0625\n",
      " 10397.087  10032.044  10036.048   9110.797  -3972.52   11454.207\n",
      " 11354.029   4432.8613  7968.2617  9824.127 ]\n",
      "episode : 98\n",
      "Step #800.40 (0ms ?*RT. ?UPS, TraCI: 0ms, vehicles TOT 145 ACT 17 BUF 0)                  \n",
      " Retrying in 1 seconds\n"
     ]
    },
    {
     "name": "stderr",
     "output_type": "stream",
     "text": [
      "Warning: Environment variable SUMO_HOME is not set properly, disabling XML validation. Set 'auto' or 'always' for web lookups.\n"
     ]
    },
    {
     "name": "stdout",
     "output_type": "stream",
     "text": [
      "[ 4343.231   4556.5776  6473.8438  2983.8542  2978.0059  4343.9907\n",
      "  5398.353   5223.048   5203.594   4692.299  -2010.6622  5916.2256\n",
      "  5781.506   2332.373   3997.2031  5176.3604]\n",
      "[ 7483.6064  8305.071  11232.5205  5262.436   5226.7188  7480.8267\n",
      "  9531.226   8909.681   8943.099   8177.02   -3950.1865 10217.97\n",
      " 10465.553   4041.9875  7061.787   9031.294 ]\n",
      "[ 8412.875   9246.503  12585.077   6045.6543  5701.912   8328.046\n",
      " 10672.694  10003.2    10057.452   9076.95   -4467.5806 11481.4\n",
      " 11602.408   4831.153   7687.2715 10085.423 ]\n",
      "[6569.269  6508.223  9575.57   4699.161  4479.5894 6736.0024 7762.9688\n",
      " 7621.2153 8351.842  7095.839  -954.3887 8736.983  8287.731  4213.749\n",
      " 5820.439  7799.641 ]\n",
      "[ 9176.619   9170.8955 13402.506   6555.515   6371.7344  9341.998\n",
      " 10906.683  10642.294  11703.944   9972.785  -1672.8466 12248.947\n",
      " 11716.624   5955.3804  8134.6978 10895.935 ]\n",
      "[ 6231.0957  5264.957   8950.327   4227.7104  4037.94    6087.08\n",
      "  7024.724   7491.7085  7891.4463  6572.2046 -1226.2766  8382.214\n",
      "  6904.912   4073.6848  4870.3154  7045.697 ]\n",
      "[ 7557.881   7196.488  11022.204   5083.314   5798.1187  7229.5654\n",
      "  8893.334   8749.614   9845.856   7868.5303 -3093.4287 10186.952\n",
      "  9595.016   5334.716   6336.6245  8716.322 ]\n",
      "Step #720.00 (0ms ?*RT. ?UPS, TraCI: 0ms, vehicles TOT 258 ACT 27 BUF 0)                  episode : 99\n",
      "Step #800.40 (0ms ?*RT. ?UPS, TraCI: 1ms, vehicles TOT 290 ACT 40 BUF 0)                  \n",
      " Retrying in 1 seconds\n"
     ]
    },
    {
     "name": "stderr",
     "output_type": "stream",
     "text": [
      "Warning: Environment variable SUMO_HOME is not set properly, disabling XML validation. Set 'auto' or 'always' for web lookups.\n"
     ]
    },
    {
     "name": "stdout",
     "output_type": "stream",
     "text": [
      "[ 852.5411   642.56506 1189.7825   525.86884  671.65845  795.39014\n",
      "  912.9303   999.2841  1150.9093   880.2231  -269.7118  1120.3479\n",
      "  918.0622   593.32294  633.9859   935.1889 ]\n",
      "[ 3133.2527  2904.6414  4330.931   2000.7922  2416.9758  2986.03\n",
      "  3639.5864  3639.3298  4094.5112  3551.877  -1383.6277  4053.4702\n",
      "  3888.3777  2237.4978  2599.2131  3424.5576]\n",
      "[ 6972.288   6581.3164  9507.752   4395.968   5402.8413  6493.1055\n",
      "  8239.553   8211.369   9004.109   8012.832  -3855.3708  9013.784\n",
      "  8799.512   5028.761   5696.2847  7336.814 ]\n",
      "[ 3882.75    3467.0312  5196.4355  2402.5916  2920.0142  3606.8306\n",
      "  4434.387   4604.044   5007.0923  4447.6943 -1776.7589  4963.0605\n",
      "  4659.622   2811.0964  3065.6492  3961.2644]\n",
      "[ 6497.4863  5646.697   8654.278   3982.7493  5077.874   6003.007\n",
      "  7302.56    7709.2266  8526.697   7331.7827 -2781.4028  8312.193\n",
      "  7722.332   4695.7344  5059.144   6563.975 ]\n",
      "[2910.494   2183.707   3768.8027  1773.7854  2339.1804  2659.216\n",
      " 3012.1155  3481.3247  3935.267   3152.3198  -731.46436 3684.0261\n",
      " 3142.103   2092.1836  2072.4956  2798.8296 ]\n",
      "[2052.5588  1254.4194  2582.9072  1225.9388  1673.0367  1911.1791\n",
      " 1916.6116  2442.2197  2888.7327  2122.6897   163.56116 2547.0298\n",
      " 1942.2423  1461.0491  1370.4401  1920.6265 ]\n",
      "[ 3266.0955  2540.1936  4201.9707  2085.166   2332.3027  2936.9436\n",
      "  3428.922   3976.5684  4157.242   3662.778  -1123.7509  4113.8354\n",
      "  3553.642   2372.254   2240.2546  3071.2576]\n",
      "[ 4928.719   3626.717   6371.6934  3116.6382  3805.8853  4353.961\n",
      "  5087.6895  6120.8477  6498.729   5348.636  -1809.7927  6332.7876\n",
      "  5231.1406  3611.5952  3242.9248  4563.881 ]\n",
      "Step #720.00 (0ms ?*RT. ?UPS, TraCI: 0ms, vehicles TOT 135 ACT 23 BUF 0)                  [4437.1167 3291.4812 5998.24   2952.9773 3858.164  4200.245  4581.7456\n",
      " 5772.1504 6443.1016 4925.9062 -943.2495 5974.5845 4774.736  3544.6802\n",
      " 3045.8052 4318.6772]\n",
      "episode : 100\n",
      "Step #800.40 (0ms ?*RT. ?UPS, TraCI: 1ms, vehicles TOT 149 ACT 25 BUF 0)                  \n",
      " Retrying in 1 seconds\n"
     ]
    },
    {
     "name": "stderr",
     "output_type": "stream",
     "text": [
      "Warning: Environment variable SUMO_HOME is not set properly, disabling XML validation. Set 'auto' or 'always' for web lookups.\n"
     ]
    },
    {
     "name": "stdout",
     "output_type": "stream",
     "text": [
      "[ 6218.4033  5034.6567  8423.962   4141.511   5374.5503  5812.0522\n",
      "  6637.0474  8128.8906  8894.564   6983.2188 -2108.7578  8483.929\n",
      "  6978.826   4990.1157  4348.2583  6335.758 ]\n"
     ]
    },
    {
     "name": "stderr",
     "output_type": "stream",
     "text": [
      "Exception ignored in: <bound method IPythonKernel._clean_thread_parent_frames of <ipykernel.ipkernel.IPythonKernel object at 0x106f1b970>>\n",
      "Traceback (most recent call last):\n",
      "  File \"/Users/pr/.pyenv/versions/3.10.6/envs/sumo_env/lib/python3.10/site-packages/ipykernel/ipkernel.py\", line 775, in _clean_thread_parent_frames\n",
      "KeyboardInterrupt: \n"
     ]
    },
    {
     "name": "stdout",
     "output_type": "stream",
     "text": [
      "Interrupt signal received, trying to exit gracefully.T 21 ACT 18 BUF 0)                   \n",
      "[ 6220.853   5151.1606  8403.012   4149.8716  5442.5664  5869.828\n",
      "  6637.24    8044.0913  8936.761   6999.7197 -1817.3494  8439.013\n",
      "  7094.111   4994.9546  4454.589   6444.0674]\n",
      "[ 5117.988   4343.2124  7052.5435  3512.2444  4558.01    4904.495\n",
      "  5459.8486  6765.786   7060.2812  5617.6045 -1698.0316  6919.6006\n",
      "  5875.9976  4111.625   3648.1643  5487.914 ]\n",
      "[ 5012.467   3982.6396  6867.326   3382.6738  4490.6997  4763.2085\n",
      "  5198.5767  6676.6143  6905.833   5348.798  -1476.5569  6773.9414\n",
      "  5487.774   3994.2305  3435.945   5339.771 ]\n",
      "[3856.745  3157.293  5284.644  2565.3818 3627.5615 3649.6392 3831.433\n",
      " 4968.97   4963.3335 3895.4897 -692.2483 4947.279  4326.202  2962.9243\n",
      " 2724.5413 4231.825 ]\n",
      "[2709.167   2125.3362  3667.108   1784.4269  2081.9814  2580.4592\n",
      " 2622.6768  3554.0864  3178.5745  2807.4124  -148.65918 3366.6523\n",
      " 2742.9617  2071.1675  1826.768   2951.9277 ]\n",
      "[ 3809.7515  3567.8442  5278.868   2594.98    2550.9077  3581.7676\n",
      "  4052.2107  5047.2666  3949.1812  4225.465  -1265.2767  4728.482\n",
      "  4284.6025  2951.952   2702.6099  4197.168 ]\n",
      "[3579.4958  3286.8928  5000.0117  2417.1519  2784.1265  3424.55\n",
      " 3668.3938  4728.769   3849.4753  3816.6206  -440.89316 4384.6187\n",
      " 4081.63    2732.1763  2617.4004  4025.2622 ]\n",
      "[ 3491.9888  3574.8381  5007.5947  2404.377   2901.0437  3244.405\n",
      "  3817.6387  4625.906   3590.7405  3745.782  -1477.9595  4348.28\n",
      "  4431.389   2641.766   2648.3723  3932.3025]\n",
      "[ 3926.471   4200.177   5627.04    2721.5627  2830.7515  3678.3293\n",
      "  4372.957   5272.7344  3810.204   4390.9453 -1665.5581  4797.6714\n",
      "  4958.763   2955.617   3033.011   4474.763 ]\n",
      "episode : 101\n",
      "Step #800.40 (0ms ?*RT. ?UPS, TraCI: 0ms, vehicles TOT 167 ACT 25 BUF 0)                  \n",
      " Retrying in 1 seconds\n"
     ]
    },
    {
     "name": "stderr",
     "output_type": "stream",
     "text": [
      "Warning: Environment variable SUMO_HOME is not set properly, disabling XML validation. Set 'auto' or 'always' for web lookups.\n"
     ]
    },
    {
     "name": "stdout",
     "output_type": "stream",
     "text": [
      "[ 854.94617 1158.4727  1244.0775   641.72363  372.0929   843.65485\n",
      " 1076.3046  1126.048    663.25525 1134.4703  -528.0431  1025.737\n",
      " 1210.0012   671.454    750.1523  1029.306  ]\n",
      "[ 4253.933   4349.2256  6063.5     2899.4285  3104.2375  3757.6123\n",
      "  4642.9277  5780.1772  4311.5684  4537.846  -1622.347   5340.8174\n",
      "  5177.3574  3120.3577  3202.1672  4804.245 ]\n",
      "[ 5867.831   6041.0005  8403.119   4002.5564  4502.832   5078.6016\n",
      "  6441.546   7966.0527  6088.3335  6185.1997 -2456.7847  7424.9985\n",
      "  7286.1123  4277.4673  4437.9375  6617.6504]\n",
      "[ 6746.7476  7074.2026  9693.063   4624.264   5222.0396  5765.9077\n",
      "  7483.036   9143.957   7047.4033  7133.466  -3013.6772  8564.25\n",
      "  8527.0205  4907.332   5157.354   7628.5654]\n"
     ]
    }
   ],
   "source": [
    "replay_buffer = deque(maxlen=10000)\n",
    "epoch = 500\n",
    "nb_step = 80000\n",
    "\n",
    "\n",
    "\n",
    "# PERIODE DE STABILITE\n",
    "\n",
    "#traffic_scale = [0.1] * 100\n",
    "# AUGMENTATION DE TRAFFIC\n",
    "#traffic_scale.extend(np.linspace(0.1, 0.3, 40, dtype=float))\n",
    "# OR\n",
    "traffic_scale = 0.2\n",
    "\n",
    "\n",
    "\n",
    "for episode in range(epoch):\n",
    "    #SEED & TRAFFIC SCALING\n",
    "    seed_value = np.random.randint(1000)\n",
    "    #seed_value = 41\n",
    "\n",
    "\n",
    "\n",
    "    sumoCmd = [sumo_bin, \"-c\",\n",
    "               simulConfig,\n",
    "               \"--start\",\n",
    "               \"--seed\", str(seed_value),\n",
    "               '--no-warnings',\n",
    "               '--scale', str(np.random.uniform(0.1, 0.4))]\n",
    "\n",
    "\n",
    "\n",
    "\n",
    "    if traci.isLoaded():\n",
    "        try:\n",
    "            traci.close()\n",
    "        except traci.TraCIException:\n",
    "            pass\n",
    "\n",
    "\n",
    "\n",
    "    traci.start(sumoCmd)\n",
    "\n",
    "\n",
    "\n",
    "    lane_ids =  traci.lane.getIDList()\n",
    "    # Filter out internal edges (starting with \":\")\n",
    "    edge_ids = [e for e in traci.edge.getIDList() if not e.startswith(\":\")]\n",
    "\n",
    "\n",
    "    trafic_light_ids = traci.trafficlight.getIDList()\n",
    "\n",
    "\n",
    "    state=np.array(get_state(lane_ids))\n",
    "\n",
    "    action=-1\n",
    "\n",
    "\n",
    "    for step in range(nb_step):\n",
    "        epsilon = max(1 - episode / epoch, 0.01)\n",
    "\n",
    "        if step%2000 == 0:\n",
    "\n",
    "            # Capture current statistics\n",
    "            avg_speed = np.mean([traci.edge.getLastStepMeanSpeed(e) for e in edge_ids])\n",
    "            halted_vehicles = np.sum([traci.edge.getLastStepHaltingNumber(e) for e in edge_ids])\n",
    "\n",
    "            traci.simulationStep()  # Advance the simulation\n",
    "\n",
    "            # Capture next-step statistics after simulation step\n",
    "            next_avg_speed = np.mean([traci.edge.getLastStepMeanSpeed(e) for e in edge_ids])\n",
    "            next_halted_vehicles = np.sum([traci.edge.getLastStepHaltingNumber(e) for e in edge_ids])\n",
    "\n",
    "            next_state = np.array(get_state(lane_ids))\n",
    "            reward = calculate_rewardV3(state, next_state, avg_speed, next_avg_speed, halted_vehicles, next_halted_vehicles)\n",
    "\n",
    "\n",
    "            replay_buffer.append((state, action, reward, next_state))\n",
    "\n",
    "            #########################################################################\n",
    "            state=next_state\n",
    "            action = epsilon_greedy_policy(state, epsilon)\n",
    "            feu_1 = action // 4\n",
    "            feu_2 = action % 4\n",
    "\n",
    "\n",
    "            traci.trafficlight.setPhase(trafic_light_ids[0],2*feu_1)\n",
    "            traci.trafficlight.setPhase(trafic_light_ids[1],2*feu_2)\n",
    "\n",
    "            if len(replay_buffer) >= batch_size*10:\n",
    "                training_step(batch_size)\n",
    "\n",
    "        traci.simulationStep()\n",
    "    print(f'episode : {episode}')\n",
    "    traci.close()\n"
   ]
  },
  {
   "cell_type": "code",
   "execution_count": null,
   "metadata": {},
   "outputs": [
    {
     "name": "stdout",
     "output_type": "stream",
     "text": [
      " Retrying in 1 seconds\n",
      "[-1174317.5 -1389504.9 -1190995.1 -1264893.6 -1502944.1 -1117035.9\n",
      " -1158388.6 -1411768.2 -1249817.5 -1184549.5 -1455171.  -1516083.5\n",
      " -1233465.  -1042434.  -1548828.5 -1298637.4]\n",
      "3 1\n",
      "[ 310.51138    56.05644   165.10254   409.3902   -525.9904     67.984985\n",
      " -345.41342    27.622292  131.98404   142.5986    -37.121964  244.83592\n",
      " -371.61554   400.06616    -7.833185   79.89509 ]\n",
      "0 3\n",
      "[ 435.3722    292.66153   364.41583   229.09305  -160.83034   424.9929\n",
      "   51.06063   206.40483   286.81775   304.92346    91.207535  194.54468\n",
      "  344.8679    241.63489   290.19812    89.30512 ]\n",
      "0 0\n",
      "[ 510.81528   354.65396   357.05847   473.34875  -477.52066   301.64813\n",
      " -138.30446   122.154564  294.172     284.77472    97.63226   299.25586\n",
      "  -42.9431    526.9489    137.54391    75.889496]\n",
      "3 1\n",
      "[1514.9158  1555.8221  1283.1481  1324.3247  -125.71943 1349.2446\n",
      "  717.2221   886.67883 1205.0552  1183.7981   975.4447  1187.0645\n",
      " 1134.9073  1327.0413  1091.2661   538.0683 ]\n",
      "0 1\n",
      "[1877.9149  1713.2035  1545.9318  1663.6051  -274.86526 1549.5793\n",
      "  557.8026  1096.0032  1434.4407  1438.4521  1068.2343  1463.7144\n",
      " 1082.4523  1666.2374  1295.1195   739.32025]\n",
      "0 0\n",
      "[1944.4923   2066.615    1689.5789   1637.078       3.646839 1854.4551\n",
      " 1092.7972   1210.7513   1592.0276   1581.0317   1303.4688   1528.2915\n",
      " 1736.2865   1605.543    1520.7654    700.1561  ]\n",
      "0 1\n",
      "[1901.6862  1867.7477  1664.9443  1389.8097  -390.9981  2041.8297\n",
      " 1020.5766  1055.2766  1505.7976  1575.7156  1015.1155  1315.0631\n",
      " 2028.8463  1301.825   1489.9132   390.04437]\n",
      "1 1\n",
      "[2052.2944   2252.2427   1713.1403   2062.9863     35.945538 1685.0261\n",
      " 1011.91016  1303.7445   1688.4792   1645.1909   1504.6172   1845.4363\n",
      " 1301.0997   1977.2985   1513.9083    933.961   ]\n",
      "0 1\n",
      "[2110.3245  2463.7603  1822.6893  2065.058    150.89235 1938.8093\n",
      " 1381.7095  1382.2455  1811.1853  1803.0924  1664.7638  1923.4095\n",
      " 1798.5757  1912.9302  1698.021    860.4836 ]\n",
      "0 1\n",
      "[1956.4135  2098.7126  1664.082   1709.1925  -300.56995 1908.7449\n",
      " 1099.0295  1103.6488  1584.3562  1634.4597  1234.9033  1547.0427\n",
      " 1784.355   1570.1094  1478.2092   517.61993]\n",
      "0 1\n",
      "[1846.5914  1806.9164  1542.1122  1408.0002  -776.04926 1887.006\n",
      "  800.0077   841.89166 1386.9305  1470.4478   828.4499  1194.4287\n",
      " 1731.7797  1320.5393  1249.5577   202.35132]\n",
      "1 1\n",
      "[2696.2422   3096.7144   2329.186    2458.865      68.204575 2589.9043\n",
      " 1748.8137   1696.2214   2272.7673   2285.3745   1954.0858   2285.0664\n",
      " 2511.056    2259.5972   2167.1814    959.3003  ]\n",
      "0 1\n",
      "[ 2163.6702   1936.2428   1749.3569   1636.6082  -1149.3417   2091.9207\n",
      "   603.89514   910.7751   1542.3373   1662.5645    775.5755   1325.6598\n",
      "  1720.1963   1558.0046   1348.2043    215.539  ]\n",
      "0 0\n",
      "[ 1753.6622   1635.3424   1358.7203   1290.4846  -2156.523    1883.3235\n",
      "   385.22183   236.74257  1128.8843   1255.2845    253.70958   824.46234\n",
      "  1510.5837   1245.1285    714.3427   -554.11255]\n",
      "1 1\n",
      "[2855.1875  2835.002   2405.9714  2254.5864  -494.86774 2740.0115\n",
      " 1292.9835  1581.0492  2213.945   2268.9834  1543.8539  2022.747\n",
      " 2488.3586  2180.0667  2094.9712   776.76404]\n",
      "0 0\n",
      "[2914.363   3207.6626  2460.6602  2457.6392  -596.54297 2892.452\n",
      " 1712.0532  1531.9656  2329.7827  2367.104   1777.3237  2182.901\n",
      " 2785.725   2313.886   2124.393    626.5751 ]\n",
      "0 1\n",
      "[ 2897.0427    2907.5293    2401.7812    2191.3203   -1591.1078\n",
      "  3068.2405    1334.3489    1173.8601    2162.2656    2321.0837\n",
      "  1233.552     1829.5708    2892.4436    2040.4685    1891.2863\n",
      "    48.619205]\n",
      "1 1\n",
      "[3361.9832  4212.3374  2908.0825  2998.9795  -673.30566 3568.6238\n",
      " 2625.719   1763.4325  2843.2434  2887.7964  2393.3403  2719.0784\n",
      " 3767.8577  2746.5771  2555.932    511.217  ]\n",
      "0 1\n",
      "[3373.7185  3826.603   2890.4617  2841.8254  -654.3389  3519.5344\n",
      " 2207.233   1827.8102  2764.8367  2876.8533  2126.185   2592.567\n",
      " 3581.6877  2560.3013  2592.8047   641.68524]\n",
      "0 1\n",
      "[ 3574.4983  4467.3633  2962.976   3673.9978 -1035.8412  3358.5342\n",
      "  2347.066   1780.2335  2967.8704  2967.4897  2570.3184  3125.32\n",
      "  3032.1313  3387.4998  2410.9736   695.3562]\n",
      "0 1\n",
      "[ 3627.8792  4309.48    3040.6416  3379.2217 -1078.139   3678.27\n",
      "  2422.3816  1810.7511  2984.3682  3102.0037  2396.1768  2957.3252\n",
      "  3602.7969  3010.768   2601.3054   540.3781]\n",
      "0 1\n",
      "[ 3465.3342   3834.       2860.1343   2945.1777  -1638.5991   3560.95\n",
      "  1901.4346   1474.4331   2685.2092   2818.374    1816.3136   2448.0325\n",
      "  3369.1208   2699.9597   2267.2295    203.05945]\n",
      "0 1\n",
      "[ 3186.386    3560.8904   2582.4885   2558.2698  -2491.1846   3508.0117\n",
      "  1744.1002    938.8678   2368.7168   2544.2778   1334.9495   1982.4111\n",
      "  3404.132    2335.4048   1823.7903   -477.69476]\n",
      "0 1\n",
      "[ 4159.52      4768.726     3479.1711    3422.8684   -2038.0594\n",
      "  4489.3726    2594.9395    1721.012     3267.8633    3442.5642\n",
      "  2227.2812    2886.8467    4513.5703    3128.9536    2776.9727\n",
      "    29.717436]\n",
      "0 1\n",
      "[ 4558.524   5098.7188  3770.861   3897.3162 -1949.5432  4612.3833\n",
      "  2540.3582  1999.5254  3552.531   3670.113   2492.786   3256.2026\n",
      "  4353.254   3648.4045  2985.8696   396.0783]\n",
      "0 1\n",
      "[ 5253.668   5660.4536  4413.073   4474.1353 -1335.355   5163.628\n",
      "  2821.3562  2719.5024  4159.848   4267.8784  3070.3564  3913.4443\n",
      "  4810.8496  4213.4443  3746.195   1074.4338]\n",
      "0 1\n",
      "[ 4745.6597   5378.5015   3971.819    3880.2417  -2134.3682   5017.7812\n",
      "  2853.2405   2026.0413   3714.639    3861.0217   2554.3667   3278.9998\n",
      "  4970.8457   3632.3162   3165.8188    196.22893]\n",
      "0 1\n",
      "[ 5195.206    5461.11     4330.6265   4087.0535  -2217.7434   5366.871\n",
      "  2641.4824   2315.5679   3978.0667   4173.8203   2560.1257   3465.2888\n",
      "  5117.9004   3861.3303   3491.7954    431.27374]\n",
      "0 1\n",
      "[ 5721.4077  6539.601   4791.656   4929.851  -2107.951   5822.3257\n",
      "  3424.335   2646.5266  4543.9946  4656.596   3351.8574  4208.714\n",
      "  5610.612   4643.0576  3881.5803   629.2812]\n",
      "0 1\n",
      "[ 6262.189   7252.5264  5305.705   5294.141  -2238.9924  6554.49\n",
      "  3997.7737  2927.2761  5030.3384  5178.576   3737.3752  4600.3447\n",
      "  6540.029   4965.9214  4364.7954   587.2377]\n",
      "0 1\n",
      "[ 6465.592   7782.068   5585.2896  5489.3833 -1612.4352  6991.4263\n",
      "  4820.0737  3288.1848  5385.6616  5545.831   4309.2563  4989.876\n",
      "  7410.38    5031.531   4871.141    775.5068]\n",
      "0 1\n",
      "[ 7001.4067  8754.702   6097.2827  6005.862  -1836.2705  7749.3574\n",
      "  5611.9736  3518.6816  5919.5     6104.7925  4824.7476  5485.6396\n",
      "  8418.728   5465.386   5322.0005   629.1899]\n",
      "0 1\n",
      "[ 6181.94     7694.9688   5418.639    4981.1426  -2475.3708   7342.473\n",
      "  5120.193    2803.9102   5181.763    5494.5557   3908.6409   4550.303\n",
      "  8243.9375   4398.697    4665.1997   -159.60196]\n",
      "3 0\n",
      "[ 6224.3955  6686.686   5172.2246  5514.526  -1488.6927  5729.006\n",
      "  3060.3252  3225.59    4883.7485  4816.2896  3765.281   4736.614\n",
      "  4928.422   5456.397   4212.9365  1576.4763]\n",
      "0 1\n",
      "[ 6763.1377  7979.043   5547.2134  7057.1206 -1359.6506  5742.8975\n",
      "  3737.9265  3609.274   5524.594   5325.4424  4933.2466  6001.192\n",
      "  4547.2036  6831.0244  4453.565   2071.1042]\n",
      "0 1\n",
      "[7218.062   7900.739   6049.8164  6849.8545  -454.34634 6368.0835\n",
      " 3852.7793  4301.181   5891.8477  5797.8354  5060.9614  6124.2563\n",
      " 5430.547   6597.7217  5291.9375  2651.0195 ]\n",
      "0 1\n",
      "[7280.289  8340.647  6015.1343 7475.7764 -728.7141 6136.194  3925.8425\n",
      " 4225.0596 5982.954  5798.3276 5364.69   6520.493  4890.7104 7178.9487\n",
      " 5088.3633 2695.1423]\n",
      "0 1\n",
      "[7975.976  9470.948  6730.949  7830.0566 -711.9814 7296.246  5099.021\n",
      " 4590.769  6670.3228 6519.067  5982.63   6965.339  6627.1235 7457.1396\n",
      " 5827.349  2532.6511]\n",
      "0 1\n",
      "[ 8001.711   9728.1875  6720.0503  7999.7583 -1116.936   7289.5747\n",
      "  5177.7866  4407.389   6677.3623  6474.0063  6011.3125  6993.8853\n",
      "  6548.456   7673.228   5644.489   2309.5295]\n",
      "0 1\n",
      "[8144.46   9567.699  6882.687  7886.799  -708.716  7482.943  5116.7036\n",
      " 4709.552  6789.168  6660.018  6013.907  7036.1675 6809.6504 7519.875\n",
      " 5982.702  2593.4534]\n",
      "0 1\n",
      "[8320.62    9735.769   7021.106   8003.8647  -913.52386 7671.915\n",
      " 5179.1675  4726.886   6903.4585  6785.484   6055.6396  7113.9175\n",
      " 6975.2095  7652.2227  6057.292   2525.035  ]\n",
      "0 1\n",
      "[ 8637.199  10124.943   7373.647   8127.7905  -518.8018  8117.9966\n",
      "  5597.258   5075.408   7228.433   7109.055   6373.477   7355.372\n",
      "  7630.6133  7773.187   6510.572   2734.11  ]\n",
      "0 1\n",
      "[ 9243.077   11619.389    8036.461    8824.742    -261.04318  9116.439\n",
      "  7124.0396   5495.1743   7992.9463   7846.467    7384.778    8127.3223\n",
      "  9223.516    8332.839    7236.7095   2674.0325 ]\n",
      "0 1\n",
      "[ 8998.666  10484.575   7699.1533  8281.088   -757.8948  8629.067\n",
      "  5844.4663  5207.39    7501.6797  7439.41    6478.4517  7509.508\n",
      "  8239.986   7907.6826  6797.984   2630.8003]\n",
      "0 1\n",
      "[ 8555.508   9103.793   7157.775   7500.856  -1735.6671  7987.892\n",
      "  4335.2646  4583.294   6773.0635  6802.7944  5241.462   6575.175\n",
      "  7061.9565  7295.031   6032.417   2230.1558]\n",
      "0 1\n",
      "[ 8272.175   8783.43    6880.7812  7078.702  -2558.3171  7790.2\n",
      "  3962.3157  4039.302   6408.083   6419.4297  4698.2783  6019.363\n",
      "  6792.3037  7062.7666  5495.868   1622.9927]\n",
      "0 1\n",
      "[ 8168.199   8355.6455  6779.2744  6659.1587 -3102.4587  7919.3086\n",
      "  3650.3938  3791.2927  6208.3984  6361.088   4177.0234  5601.8604\n",
      "  6989.531   6591.212   5361.447   1208.7382]\n",
      "0 1\n",
      "[ 6622.8535    6004.666     5478.3477    4508.4385   -4102.1543\n",
      "  6968.2417    2267.321     2504.8657    4705.715     5061.6016\n",
      "  2211.1077    3628.5112    6287.045     4512.869     4099.825\n",
      "   -46.240604]\n",
      "1 1\n",
      "[ 7653.5356  8661.539   6434.372   6615.168  -2136.954   7486.273\n",
      "  4442.945   3745.0234  6075.5747  6070.4346  4669.734   5679.6895\n",
      "  7012.031   6472.8286  5245.007   1333.7543]\n",
      "0 1\n"
     ]
    }
   ],
   "source": [
    "rewards = []\n",
    "best_score = 0\n",
    "reward = 0\n",
    "total_reward = 0\n",
    "list_values = []\n",
    "weights = []\n",
    "wait_times = []\n",
    "# replay_buffer = deque(maxlen=2000)\n",
    "\n",
    "#SEED é SCALE\n",
    "seed_value = np.random.randint(1000)\n",
    "#seed_value = 41\n",
    "traffic_scale = 0.2\n",
    "\n",
    "\n",
    "#LAUNCH\n",
    "sumoCmd = [sumo_gui_bin, \"-c\", simulConfig, \"--start\", \"--seed\", str(seed_value), '--scale', str(traffic_scale), '--gui-settings-file', 'full_state_sumo_gui_settings.xml']\n",
    "\n",
    "if traci.isLoaded():\n",
    "    traci.close()\n",
    "traci.start(sumoCmd)\n",
    "lane_ids =  traci.lane.getIDList()\n",
    "# print(lane_ids[0])\n",
    "# for lane in lane_ids:\n",
    "#     print(traci.lane.getLastStepVehicleNumber(lane))\n",
    "# north_lane = traci.lane.getLastStepVehicleNumber(\"N_0\")\n",
    "# south_lane = traci.lane.getLastStepVehicleNumber(\"S_0\")\n",
    "# east_lane = traci.lane.getLastStepVehicleNumber(\"E_0\")\n",
    "# west_lane = traci.lane.getLastStepVehicleNumber(\"W_0\")\n",
    "trafic_light_ids = traci.trafficlight.getIDList()\n",
    "\n",
    "state = np.array(get_state(lane_ids))\n",
    "action=-1\n",
    "# print(state)\n",
    "wait_times.append(0)\n",
    "for step in range(100000): ## TO CHANGED\n",
    "    #epsilon = max(1 - episode / 10, 0.01)\n",
    "    nom_du_feu= traci.trafficlight.getIDList()[0]\n",
    "\n",
    "    if step%2000 == 0:\n",
    "        state=np.array(get_state(lane_ids))\n",
    "        #action = epsilon_greedy_policy(state,0)*2\n",
    "\n",
    "        action = epsilon_greedy_policy(state, 0)\n",
    "        feu_1 = action // 4\n",
    "\n",
    "        feu_2 = action % 4\n",
    "\n",
    "        print(feu_1, feu_2)\n",
    "        traci.trafficlight.setPhase(trafic_light_ids[0],2*feu_1)\n",
    "        traci.trafficlight.setPhase(trafic_light_ids[1],2*feu_2)\n",
    "\n",
    "    traci.simulationStep()\n",
    "\n",
    "traci.close()\n"
   ]
  },
  {
   "cell_type": "code",
   "execution_count": null,
   "metadata": {},
   "outputs": [],
   "source": []
  },
  {
   "cell_type": "code",
   "execution_count": null,
   "metadata": {},
   "outputs": [],
   "source": []
  }
 ],
 "metadata": {
  "kernelspec": {
   "display_name": "sumo_env",
   "language": "python",
   "name": "python3"
  },
  "language_info": {
   "codemirror_mode": {
    "name": "ipython",
    "version": 3
   },
   "file_extension": ".py",
   "mimetype": "text/x-python",
   "name": "python",
   "nbconvert_exporter": "python",
   "pygments_lexer": "ipython3",
   "version": "3.10.6"
  }
 },
 "nbformat": 4,
 "nbformat_minor": 2
}
